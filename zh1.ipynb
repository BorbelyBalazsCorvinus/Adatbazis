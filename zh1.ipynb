{
    "metadata": {
        "kernelspec": {
            "name": "SQL",
            "display_name": "SQL",
            "language": "sql"
        },
        "language_info": {
            "name": "sql",
            "version": ""
        }
    },
    "nbformat_minor": 2,
    "nbformat": 4,
    "cells": [
        {
            "cell_type": "markdown",
            "source": [
                "1\\. feladat"
            ],
            "metadata": {
                "azdata_cell_guid": "1048be33-6518-4e5e-86b3-3c740e1afea3"
            },
            "attachments": {}
        },
        {
            "cell_type": "code",
            "source": [
                "SELECT NEV, EMAIL, SZUL_DAT FROM Vendeg\r\n",
                "WHERE YEAR(SZUL_DAT)=1990 AND MONTH(SZUL_DAT)>6\r\n",
                "ORDER BY MONTH(SZUL_DAT) ASC"
            ],
            "metadata": {
                "azdata_cell_guid": "e08d28f1-559d-461e-bc1c-5e51949c6a40",
                "language": "sql",
                "tags": []
            },
            "outputs": [
                {
                    "output_type": "display_data",
                    "data": {
                        "text/html": "(4 rows affected)"
                    },
                    "metadata": {}
                },
                {
                    "output_type": "display_data",
                    "data": {
                        "text/html": "Total execution time: 00:00:00.006"
                    },
                    "metadata": {}
                },
                {
                    "output_type": "execute_result",
                    "execution_count": 10,
                    "data": {
                        "application/vnd.dataresource+json": {
                            "schema": {
                                "fields": [
                                    {
                                        "name": "NEV"
                                    },
                                    {
                                        "name": "EMAIL"
                                    },
                                    {
                                        "name": "SZUL_DAT"
                                    }
                                ]
                            },
                            "data": [
                                {
                                    "NEV": "Bodor Szabolcs",
                                    "EMAIL": "szabolcs.bodor@mail.hu",
                                    "SZUL_DAT": "1990-07-16"
                                },
                                {
                                    "NEV": "Bosnyák Ilona",
                                    "EMAIL": "ilona3@gmail.com",
                                    "SZUL_DAT": "1990-08-06"
                                },
                                {
                                    "NEV": "Szabó Julianna",
                                    "EMAIL": "julianna4@gmail.com",
                                    "SZUL_DAT": "1990-09-29"
                                },
                                {
                                    "NEV": "Berta Dávid",
                                    "EMAIL": "david4@gmail.com",
                                    "SZUL_DAT": "1990-10-08"
                                }
                            ]
                        },
                        "text/html": "<table><tr><th>NEV</th><th>EMAIL</th><th>SZUL_DAT</th></tr><tr><td>Bodor Szabolcs</td><td>szabolcs.bodor@mail.hu</td><td>1990-07-16</td></tr><tr><td>Bosnyák Ilona</td><td>ilona3@gmail.com</td><td>1990-08-06</td></tr><tr><td>Szabó Julianna</td><td>julianna4@gmail.com</td><td>1990-09-29</td></tr><tr><td>Berta Dávid</td><td>david4@gmail.com</td><td>1990-10-08</td></tr></table>"
                    },
                    "metadata": {}
                }
            ],
            "execution_count": 10
        },
        {
            "cell_type": "markdown",
            "source": [
                "2\\. feladat"
            ],
            "metadata": {
                "azdata_cell_guid": "11f7cd83-388b-4e05-98ce-bbcc917eb968"
            },
            "attachments": {}
        },
        {
            "cell_type": "code",
            "source": [
                "SELECT szh.tipus, ROUND(COUNT(*),-2) as db\r\n",
                "FROM Foglalas f JOIN Szoba sz\r\n",
                "ON sz.SZALLAS_FK=f.SZOBA_FK \r\n",
                "JOIN Szallashely szh ON szh.SZALLAS_ID=sz.SZALLAS_FK\r\n",
                "GROUP BY szh.TIPUS \r\n",
                "HAVING ROUND(COUNT(*),-2)<500"
            ],
            "metadata": {
                "azdata_cell_guid": "68d1df73-e6d9-40d6-9553-c07aa07f48c6",
                "language": "sql"
            },
            "outputs": [
                {
                    "output_type": "display_data",
                    "data": {
                        "text/html": "(4 rows affected)"
                    },
                    "metadata": {}
                },
                {
                    "output_type": "display_data",
                    "data": {
                        "text/html": "Total execution time: 00:00:00.009"
                    },
                    "metadata": {}
                },
                {
                    "output_type": "execute_result",
                    "execution_count": 53,
                    "data": {
                        "application/vnd.dataresource+json": {
                            "schema": {
                                "fields": [
                                    {
                                        "name": "tipus"
                                    },
                                    {
                                        "name": "db"
                                    }
                                ]
                            },
                            "data": [
                                {
                                    "tipus": "Apartman",
                                    "db": "100"
                                },
                                {
                                    "tipus": "Diákszálló",
                                    "db": "100"
                                },
                                {
                                    "tipus": "vendégház",
                                    "db": "200"
                                },
                                {
                                    "tipus": "panzió",
                                    "db": "300"
                                }
                            ]
                        },
                        "text/html": "<table><tr><th>tipus</th><th>db</th></tr><tr><td>Apartman</td><td>100</td></tr><tr><td>Diákszálló</td><td>100</td></tr><tr><td>vendégház</td><td>200</td></tr><tr><td>panzió</td><td>300</td></tr></table>"
                    },
                    "metadata": {}
                }
            ],
            "execution_count": 53
        },
        {
            "cell_type": "markdown",
            "source": [
                "3\\. feladat"
            ],
            "metadata": {
                "azdata_cell_guid": "c0f51522-c4b7-4dcb-a88c-9c5e3b4d255c"
            },
            "attachments": {}
        },
        {
            "cell_type": "code",
            "source": [
                "SELECT\r\n",
                "CASE WHEN YEAR(Vendeg.SZUL_DAT)<=1970 THEN 'idős'\r\n",
                "WHEN YEAR(Vendeg.SZUL_DAT)>=1985 THEN 'fiatal'\r\n",
                "ELSE 'középkorú'\r\n",
                "END AS 'KAT', COUNT(*) AS 'DB'\r\n",
                "FROM Vendeg\r\n",
                "JOIN Foglalas on USERNEV=UGYFEL_FK\r\n",
                "WHERE (FELNOTT_SZAM+GYERMEK_SZAM)>=2\r\n",
                "GROUP BY\r\n",
                "CASE WHEN YEAR(Vendeg.SZUL_DAT)<=1970 THEN 'idős'\r\n",
                "WHEN YEAR(Vendeg.SZUL_DAT)>=1985 THEN 'fiatal'\r\n",
                "ELSE 'középkorú'\r\n",
                "END"
            ],
            "metadata": {
                "azdata_cell_guid": "0a40798a-2216-4f5c-acff-2c8aa8f03846",
                "language": "sql",
                "tags": []
            },
            "outputs": [
                {
                    "output_type": "display_data",
                    "data": {
                        "text/html": "(3 rows affected)"
                    },
                    "metadata": {}
                },
                {
                    "output_type": "display_data",
                    "data": {
                        "text/html": "Total execution time: 00:00:00.011"
                    },
                    "metadata": {}
                },
                {
                    "output_type": "execute_result",
                    "execution_count": 51,
                    "data": {
                        "application/vnd.dataresource+json": {
                            "schema": {
                                "fields": [
                                    {
                                        "name": "KAT"
                                    },
                                    {
                                        "name": "DB"
                                    }
                                ]
                            },
                            "data": [
                                {
                                    "KAT": "fiatal",
                                    "DB": "365"
                                },
                                {
                                    "KAT": "idős",
                                    "DB": "116"
                                },
                                {
                                    "KAT": "középkorú",
                                    "DB": "399"
                                }
                            ]
                        },
                        "text/html": "<table><tr><th>KAT</th><th>DB</th></tr><tr><td>fiatal</td><td>365</td></tr><tr><td>idős</td><td>116</td></tr><tr><td>középkorú</td><td>399</td></tr></table>"
                    },
                    "metadata": {}
                }
            ],
            "execution_count": 51
        }
    ]
}