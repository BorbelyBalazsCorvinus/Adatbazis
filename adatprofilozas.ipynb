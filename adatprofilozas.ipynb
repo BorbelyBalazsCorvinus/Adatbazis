{
    "metadata": {
        "kernelspec": {
            "name": "SQL",
            "display_name": "SQL",
            "language": "sql"
        },
        "language_info": {
            "name": "sql",
            "version": ""
        }
    },
    "nbformat_minor": 2,
    "nbformat": 4,
    "cells": [
        {
            "cell_type": "markdown",
            "source": [
                "# 1.\n",
                "\n",
                "Megjeleníti, hány munkahely óradíja van a 300 és 400 közötti intervallum alatt, benne és felette."
            ],
            "metadata": {
                "azdata_cell_guid": "31a6b2d7-a625-4752-892e-7db3a12c5772"
            },
            "attachments": {}
        },
        {
            "cell_type": "code",
            "source": [
                "DECLARE \r\n",
                "@min int = 300,\r\n",
                "@max int = 400;   \r\n",
                "SELECT \r\n",
                "    SUM(CASE WHEN oradij < @min THEN 1 ELSE 0 end) AS 'tartomany alatt',\r\n",
                "    SUM(CASE WHEN oradij BETWEEN @min and @max THEN 1 ELSE 0 end) AS 'tartomanyon belul',\r\n",
                "    SUM(CASE WHEN oradij > @max THEN 1 ELSE 0 end) AS 'tartomany felett'\r\n",
                "FROM munka"
            ],
            "metadata": {
                "azdata_cell_guid": "3b7fe9aa-6720-49c3-980d-03337490e1d7",
                "language": "sql",
                "tags": []
            },
            "outputs": [
                {
                    "output_type": "display_data",
                    "data": {
                        "text/html": "(1 row affected)"
                    },
                    "metadata": {}
                },
                {
                    "output_type": "display_data",
                    "data": {
                        "text/html": "Total execution time: 00:00:00.019"
                    },
                    "metadata": {}
                },
                {
                    "output_type": "execute_result",
                    "execution_count": 38,
                    "data": {
                        "application/vnd.dataresource+json": {
                            "schema": {
                                "fields": [
                                    {
                                        "name": "tartomany alatt"
                                    },
                                    {
                                        "name": "tartomanyon belul"
                                    },
                                    {
                                        "name": "tartomany felett"
                                    }
                                ]
                            },
                            "data": [
                                {
                                    "tartomany alatt": "6",
                                    "tartomanyon belul": "29",
                                    "tartomany felett": "6"
                                }
                            ]
                        },
                        "text/html": "<table><tr><th>tartomany alatt</th><th>tartomanyon belul</th><th>tartomany felett</th></tr><tr><td>6</td><td>29</td><td>6</td></tr></table>"
                    },
                    "metadata": {}
                }
            ],
            "execution_count": 38
        },
        {
            "cell_type": "markdown",
            "source": [
                "# 2.\n",
                "\n",
                "Óradíjak gyakorisága."
            ],
            "metadata": {
                "azdata_cell_guid": "d1e17fdb-ead7-4392-9f42-09e377858d8b"
            },
            "attachments": {}
        },
        {
            "cell_type": "code",
            "source": [
                "SELECT oradij,\r\n",
                "       COUNT(*) AS db\r\n",
                "FROM munka\r\n",
                "WHERE oradij IS NOT NULL\r\n",
                "GROUP BY oradij\r\n",
                "ORDER BY oradij DESC"
            ],
            "metadata": {
                "azdata_cell_guid": "b2613f4e-910d-4e5d-b048-4ec2d2d90ce5",
                "language": "sql",
                "tags": []
            },
            "outputs": [
                {
                    "output_type": "display_data",
                    "data": {
                        "text/html": "(7 rows affected)"
                    },
                    "metadata": {}
                },
                {
                    "output_type": "display_data",
                    "data": {
                        "text/html": "Total execution time: 00:00:00.013"
                    },
                    "metadata": {}
                },
                {
                    "output_type": "execute_result",
                    "execution_count": 34,
                    "data": {
                        "application/vnd.dataresource+json": {
                            "schema": {
                                "fields": [
                                    {
                                        "name": "oradij"
                                    },
                                    {
                                        "name": "db"
                                    }
                                ]
                            },
                            "data": [
                                {
                                    "oradij": "500",
                                    "db": "3"
                                },
                                {
                                    "oradij": "450",
                                    "db": "3"
                                },
                                {
                                    "oradij": "400",
                                    "db": "12"
                                },
                                {
                                    "oradij": "350",
                                    "db": "3"
                                },
                                {
                                    "oradij": "300",
                                    "db": "14"
                                },
                                {
                                    "oradij": "250",
                                    "db": "2"
                                },
                                {
                                    "oradij": "200",
                                    "db": "4"
                                }
                            ]
                        },
                        "text/html": "<table><tr><th>oradij</th><th>db</th></tr><tr><td>500</td><td>3</td></tr><tr><td>450</td><td>3</td></tr><tr><td>400</td><td>12</td></tr><tr><td>350</td><td>3</td></tr><tr><td>300</td><td>14</td></tr><tr><td>250</td><td>2</td></tr><tr><td>200</td><td>4</td></tr></table>"
                    },
                    "metadata": {}
                }
            ],
            "execution_count": 34
        },
        {
            "cell_type": "markdown",
            "source": [
                "# 3.\n",
                "\n",
                "Óradíj minimuma, maximuma, átlaga és szórása."
            ],
            "metadata": {
                "azdata_cell_guid": "2a073b1f-0510-4cf6-a74e-04d66e073f7f"
            },
            "attachments": {}
        },
        {
            "cell_type": "code",
            "source": [
                "SELECT MIN(oradij) AS min,\r\n",
                "       MAX(oradij) AS max,\r\n",
                "       AVG(oradij) AS atlag,\r\n",
                "       STDEV(oradij) AS szoras\r\n",
                "FROM munka\r\n",
                "WHERE oradij IS NOT NULL"
            ],
            "metadata": {
                "azdata_cell_guid": "e1ec5d78-7058-4e1a-aa2f-6110effcaf2f",
                "language": "sql"
            },
            "outputs": [
                {
                    "output_type": "display_data",
                    "data": {
                        "text/html": "(1 row affected)"
                    },
                    "metadata": {}
                },
                {
                    "output_type": "display_data",
                    "data": {
                        "text/html": "Total execution time: 00:00:00.029"
                    },
                    "metadata": {}
                },
                {
                    "output_type": "execute_result",
                    "execution_count": 20,
                    "data": {
                        "application/vnd.dataresource+json": {
                            "schema": {
                                "fields": [
                                    {
                                        "name": "min"
                                    },
                                    {
                                        "name": "max"
                                    },
                                    {
                                        "name": "atlag"
                                    },
                                    {
                                        "name": "szoras"
                                    }
                                ]
                            },
                            "data": [
                                {
                                    "min": "200",
                                    "max": "500",
                                    "atlag": "346",
                                    "szoras": "82,4547178019844"
                                }
                            ]
                        },
                        "text/html": "<table><tr><th>min</th><th>max</th><th>atlag</th><th>szoras</th></tr><tr><td>200</td><td>500</td><td>346</td><td>82,4547178019844</td></tr></table>"
                    },
                    "metadata": {}
                }
            ],
            "execution_count": 20
        },
        {
            "cell_type": "markdown",
            "source": [
                "# 4.\n",
                "\n",
                "Állásnevek száma hossz szerint."
            ],
            "metadata": {
                "azdata_cell_guid": "da5b31a3-2c30-4cf9-a293-fa5e3e348e54"
            },
            "attachments": {}
        },
        {
            "cell_type": "code",
            "source": [
                "SELECT LEN(allas) AS hossz,\r\n",
                "       count(*) AS darab\r\n",
                "FROM munka\r\n",
                "GROUP BY LEN(allas)\r\n",
                "ORDER BY hossz DESC"
            ],
            "metadata": {
                "azdata_cell_guid": "4ac0fdbc-b999-4fe1-a75f-73836fc2b64a",
                "language": "sql"
            },
            "outputs": [
                {
                    "output_type": "display_data",
                    "data": {
                        "text/html": "(5 rows affected)"
                    },
                    "metadata": {}
                },
                {
                    "output_type": "display_data",
                    "data": {
                        "text/html": "Total execution time: 00:00:00.014"
                    },
                    "metadata": {}
                },
                {
                    "output_type": "execute_result",
                    "execution_count": 72,
                    "data": {
                        "application/vnd.dataresource+json": {
                            "schema": {
                                "fields": [
                                    {
                                        "name": "hossz"
                                    },
                                    {
                                        "name": "darab"
                                    }
                                ]
                            },
                            "data": [
                                {
                                    "hossz": "26",
                                    "darab": "1"
                                },
                                {
                                    "hossz": "9",
                                    "darab": "8"
                                },
                                {
                                    "hossz": "8",
                                    "darab": "17"
                                },
                                {
                                    "hossz": "6",
                                    "darab": "2"
                                },
                                {
                                    "hossz": "5",
                                    "darab": "13"
                                }
                            ]
                        },
                        "text/html": "<table><tr><th>hossz</th><th>darab</th></tr><tr><td>26</td><td>1</td></tr><tr><td>9</td><td>8</td></tr><tr><td>8</td><td>17</td></tr><tr><td>6</td><td>2</td></tr><tr><td>5</td><td>13</td></tr></table>"
                    },
                    "metadata": {}
                }
            ],
            "execution_count": 72
        },
        {
            "cell_type": "markdown",
            "source": [
                "# 5.\n",
                "\n",
                "Állásnevek gyakorisága."
            ],
            "metadata": {
                "azdata_cell_guid": "bd5c9f07-d268-4edc-ba16-3fd5d38b6a91"
            },
            "attachments": {}
        },
        {
            "cell_type": "code",
            "source": [
                "SELECT TOP 10\r\n",
                "    allas, \r\n",
                "    COUNT(*) darab\r\n",
                "from munka\r\n",
                "WHERE allas IS NOT NULL\r\n",
                "GROUP BY allas\r\n",
                "ORDER BY COUNT(*) DESC"
            ],
            "metadata": {
                "azdata_cell_guid": "77eebae8-e3e3-417e-9a4b-6b42f624eea6",
                "language": "sql"
            },
            "outputs": [
                {
                    "output_type": "display_data",
                    "data": {
                        "text/html": "(9 rows affected)"
                    },
                    "metadata": {}
                },
                {
                    "output_type": "display_data",
                    "data": {
                        "text/html": "Total execution time: 00:00:00.020"
                    },
                    "metadata": {}
                },
                {
                    "output_type": "execute_result",
                    "execution_count": 56,
                    "data": {
                        "application/vnd.dataresource+json": {
                            "schema": {
                                "fields": [
                                    {
                                        "name": "allas"
                                    },
                                    {
                                        "name": "darab"
                                    }
                                ]
                            },
                            "data": [
                                {
                                    "allas": "eladó",
                                    "darab": "12"
                                },
                                {
                                    "allas": "takarító",
                                    "darab": "9"
                                },
                                {
                                    "allas": "ruhatáros",
                                    "darab": "6"
                                },
                                {
                                    "allas": "kisegítő",
                                    "darab": "4"
                                },
                                {
                                    "allas": "raktáros",
                                    "darab": "4"
                                },
                                {
                                    "allas": "pincér",
                                    "darab": "2"
                                },
                                {
                                    "allas": "kézbesítő",
                                    "darab": "2"
                                },
                                {
                                    "allas": "ügyfélszolgálati munkatárs",
                                    "darab": "1"
                                },
                                {
                                    "allas": "futár",
                                    "darab": "1"
                                }
                            ]
                        },
                        "text/html": "<table><tr><th>allas</th><th>darab</th></tr><tr><td>eladó</td><td>12</td></tr><tr><td>takarító</td><td>9</td></tr><tr><td>ruhatáros</td><td>6</td></tr><tr><td>kisegítő</td><td>4</td></tr><tr><td>raktáros</td><td>4</td></tr><tr><td>pincér</td><td>2</td></tr><tr><td>kézbesítő</td><td>2</td></tr><tr><td>ügyfélszolgálati munkatárs</td><td>1</td></tr><tr><td>futár</td><td>1</td></tr></table>"
                    },
                    "metadata": {
                        "azdata_chartOptions": {
                            "type": "bar",
                            "dataDirection": "vertical",
                            "columnsAsLabels": true,
                            "labelFirstColumn": false,
                            "legendPosition": "top"
                        }
                    }
                }
            ],
            "execution_count": 56
        },
        {
            "cell_type": "markdown",
            "source": [
                "# 6.\n",
                "\n",
                "Állások, mint egyedi értékek."
            ],
            "metadata": {
                "azdata_cell_guid": "c4dec330-638c-4b82-b080-5f4bf5dfd97d"
            },
            "attachments": {}
        },
        {
            "cell_type": "code",
            "source": [
                "SELECT COUNT(DISTINCT allas) AS 'allasnevek szama'\r\n",
                "FROM munka\r\n",
                "WHERE allas IS NOT NULL"
            ],
            "metadata": {
                "azdata_cell_guid": "6ecd5bf7-9b0d-42d3-affe-3fe0c0d6b60e",
                "language": "sql"
            },
            "outputs": [
                {
                    "output_type": "display_data",
                    "data": {
                        "text/html": "(1 row affected)"
                    },
                    "metadata": {}
                },
                {
                    "output_type": "display_data",
                    "data": {
                        "text/html": "Total execution time: 00:00:00.019"
                    },
                    "metadata": {}
                },
                {
                    "output_type": "execute_result",
                    "metadata": {},
                    "execution_count": 2,
                    "data": {
                        "application/vnd.dataresource+json": {
                            "schema": {
                                "fields": [
                                    {
                                        "name": "allasnevek szama"
                                    }
                                ]
                            },
                            "data": [
                                {
                                    "allasnevek szama": "9"
                                }
                            ]
                        },
                        "text/html": [
                            "<table>",
                            "<tr><th>allasnevek szama</th></tr>",
                            "<tr><td>9</td></tr>",
                            "</table>"
                        ]
                    }
                }
            ],
            "execution_count": 2
        },
        {
            "cell_type": "markdown",
            "source": [
                "# 7.\n",
                "\n",
                "3 legrövidebb állásnév."
            ],
            "metadata": {
                "azdata_cell_guid": "f282516b-5e8a-40c2-8f07-b91c45f46374"
            },
            "attachments": {}
        },
        {
            "cell_type": "code",
            "source": [
                "SELECT TOP 3 allas AS szoveg, \r\n",
                "        LEN(allas) AS hossz\r\n",
                "FROM munka\r\n",
                "GROUP BY allas\r\n",
                "ORDER BY hossz ASC"
            ],
            "metadata": {
                "azdata_cell_guid": "78e714cf-2c1c-415d-8a05-b8d2e2c7603a",
                "language": "sql",
                "tags": []
            },
            "outputs": [
                {
                    "output_type": "display_data",
                    "data": {
                        "text/html": "(3 rows affected)"
                    },
                    "metadata": {}
                },
                {
                    "output_type": "display_data",
                    "data": {
                        "text/html": "Total execution time: 00:00:00.015"
                    },
                    "metadata": {}
                },
                {
                    "output_type": "execute_result",
                    "execution_count": 69,
                    "data": {
                        "application/vnd.dataresource+json": {
                            "schema": {
                                "fields": [
                                    {
                                        "name": "szoveg"
                                    },
                                    {
                                        "name": "hossz"
                                    }
                                ]
                            },
                            "data": [
                                {
                                    "szoveg": "futár",
                                    "hossz": "5"
                                },
                                {
                                    "szoveg": "eladó",
                                    "hossz": "5"
                                },
                                {
                                    "szoveg": "pincér",
                                    "hossz": "6"
                                }
                            ]
                        },
                        "text/html": "<table><tr><th>szoveg</th><th>hossz</th></tr><tr><td>futár</td><td>5</td></tr><tr><td>eladó</td><td>5</td></tr><tr><td>pincér</td><td>6</td></tr></table>"
                    },
                    "metadata": {}
                }
            ],
            "execution_count": 69
        }
    ]
}
