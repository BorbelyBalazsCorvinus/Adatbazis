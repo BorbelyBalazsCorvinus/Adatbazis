{
    "metadata": {
        "kernelspec": {
            "name": "SQL",
            "display_name": "SQL",
            "language": "sql"
        },
        "language_info": {
            "name": "sql",
            "version": ""
        }
    },
    "nbformat_minor": 2,
    "nbformat": 4,
    "cells": [
        {
            "cell_type": "markdown",
            "source": [
                "1. Jelenítsük meg minden egyes szoba esetén, hogy hányszor foglalták le!\n",
                "\n",
                "- Csak a szoba azonosítója és a foglalások darabszáma jelenjen meg\n",
                "- Azok a szobák is jelenjenek meg, ahol nem történt foglalás"
            ],
            "metadata": {
                "azdata_cell_guid": "74593d2e-8c55-46cf-87ef-ccd7d44b468f"
            },
            "attachments": {}
        },
        {
            "cell_type": "code",
            "source": [
                "SELECT Szoba.SZOBA_ID, count(*) as db from Szoba\r\n",
                "JOIN Foglalas on SZOBA_ID=SZOBA_FK\r\n",
                "GROUP BY SZOBA_ID\r\n",
                "UNION\r\n",
                "SELECT Szoba.SZOBA_ID, count(*)-1 as db from Szoba\r\n",
                "left JOIN Foglalas on SZOBA_ID=SZOBA_FK\r\n",
                "where SZOBA_FK is null\r\n",
                "group by SZOBA_ID"
            ],
            "metadata": {
                "azdata_cell_guid": "5d9f3d1a-e8b4-466a-94f9-20edeefdcd0c",
                "language": "sql"
            },
            "outputs": [
                {
                    "output_type": "display_data",
                    "data": {
                        "text/html": "(294 rows affected)"
                    },
                    "metadata": {}
                },
                {
                    "output_type": "display_data",
                    "data": {
                        "text/html": "Total execution time: 00:00:00.006"
                    },
                    "metadata": {}
                },
                {
                    "output_type": "execute_result",
                    "metadata": {},
                    "execution_count": 17,
                    "data": {
                        "application/vnd.dataresource+json": {
                            "schema": {
                                "fields": [
                                    {
                                        "name": "SZOBA_ID"
                                    },
                                    {
                                        "name": "db"
                                    }
                                ]
                            },
                            "data": [
                                {
                                    "SZOBA_ID": "1",
                                    "db": "8"
                                },
                                {
                                    "SZOBA_ID": "2",
                                    "db": "4"
                                },
                                {
                                    "SZOBA_ID": "3",
                                    "db": "8"
                                },
                                {
                                    "SZOBA_ID": "4",
                                    "db": "6"
                                },
                                {
                                    "SZOBA_ID": "5",
                                    "db": "4"
                                },
                                {
                                    "SZOBA_ID": "6",
                                    "db": "6"
                                },
                                {
                                    "SZOBA_ID": "7",
                                    "db": "6"
                                },
                                {
                                    "SZOBA_ID": "8",
                                    "db": "5"
                                },
                                {
                                    "SZOBA_ID": "9",
                                    "db": "6"
                                },
                                {
                                    "SZOBA_ID": "10",
                                    "db": "4"
                                },
                                {
                                    "SZOBA_ID": "11",
                                    "db": "4"
                                },
                                {
                                    "SZOBA_ID": "12",
                                    "db": "9"
                                },
                                {
                                    "SZOBA_ID": "13",
                                    "db": "4"
                                },
                                {
                                    "SZOBA_ID": "14",
                                    "db": "3"
                                },
                                {
                                    "SZOBA_ID": "15",
                                    "db": "6"
                                },
                                {
                                    "SZOBA_ID": "16",
                                    "db": "5"
                                },
                                {
                                    "SZOBA_ID": "17",
                                    "db": "6"
                                },
                                {
                                    "SZOBA_ID": "18",
                                    "db": "6"
                                },
                                {
                                    "SZOBA_ID": "19",
                                    "db": "6"
                                },
                                {
                                    "SZOBA_ID": "20",
                                    "db": "5"
                                },
                                {
                                    "SZOBA_ID": "21",
                                    "db": "4"
                                },
                                {
                                    "SZOBA_ID": "22",
                                    "db": "6"
                                },
                                {
                                    "SZOBA_ID": "23",
                                    "db": "3"
                                },
                                {
                                    "SZOBA_ID": "24",
                                    "db": "3"
                                },
                                {
                                    "SZOBA_ID": "25",
                                    "db": "2"
                                },
                                {
                                    "SZOBA_ID": "26",
                                    "db": "2"
                                },
                                {
                                    "SZOBA_ID": "27",
                                    "db": "7"
                                },
                                {
                                    "SZOBA_ID": "28",
                                    "db": "6"
                                },
                                {
                                    "SZOBA_ID": "29",
                                    "db": "6"
                                },
                                {
                                    "SZOBA_ID": "30",
                                    "db": "3"
                                },
                                {
                                    "SZOBA_ID": "31",
                                    "db": "3"
                                },
                                {
                                    "SZOBA_ID": "32",
                                    "db": "1"
                                },
                                {
                                    "SZOBA_ID": "33",
                                    "db": "6"
                                },
                                {
                                    "SZOBA_ID": "34",
                                    "db": "4"
                                },
                                {
                                    "SZOBA_ID": "35",
                                    "db": "9"
                                },
                                {
                                    "SZOBA_ID": "36",
                                    "db": "6"
                                },
                                {
                                    "SZOBA_ID": "37",
                                    "db": "3"
                                },
                                {
                                    "SZOBA_ID": "38",
                                    "db": "8"
                                },
                                {
                                    "SZOBA_ID": "39",
                                    "db": "7"
                                },
                                {
                                    "SZOBA_ID": "40",
                                    "db": "4"
                                },
                                {
                                    "SZOBA_ID": "41",
                                    "db": "2"
                                },
                                {
                                    "SZOBA_ID": "42",
                                    "db": "6"
                                },
                                {
                                    "SZOBA_ID": "43",
                                    "db": "8"
                                },
                                {
                                    "SZOBA_ID": "44",
                                    "db": "6"
                                },
                                {
                                    "SZOBA_ID": "45",
                                    "db": "5"
                                },
                                {
                                    "SZOBA_ID": "46",
                                    "db": "4"
                                },
                                {
                                    "SZOBA_ID": "47",
                                    "db": "2"
                                },
                                {
                                    "SZOBA_ID": "48",
                                    "db": "9"
                                },
                                {
                                    "SZOBA_ID": "49",
                                    "db": "7"
                                },
                                {
                                    "SZOBA_ID": "50",
                                    "db": "4"
                                },
                                {
                                    "SZOBA_ID": "51",
                                    "db": "5"
                                },
                                {
                                    "SZOBA_ID": "52",
                                    "db": "5"
                                },
                                {
                                    "SZOBA_ID": "53",
                                    "db": "2"
                                },
                                {
                                    "SZOBA_ID": "54",
                                    "db": "6"
                                },
                                {
                                    "SZOBA_ID": "55",
                                    "db": "8"
                                },
                                {
                                    "SZOBA_ID": "56",
                                    "db": "2"
                                },
                                {
                                    "SZOBA_ID": "57",
                                    "db": "4"
                                },
                                {
                                    "SZOBA_ID": "58",
                                    "db": "13"
                                },
                                {
                                    "SZOBA_ID": "59",
                                    "db": "7"
                                },
                                {
                                    "SZOBA_ID": "60",
                                    "db": "1"
                                },
                                {
                                    "SZOBA_ID": "61",
                                    "db": "5"
                                },
                                {
                                    "SZOBA_ID": "62",
                                    "db": "5"
                                },
                                {
                                    "SZOBA_ID": "63",
                                    "db": "4"
                                },
                                {
                                    "SZOBA_ID": "64",
                                    "db": "6"
                                },
                                {
                                    "SZOBA_ID": "65",
                                    "db": "1"
                                },
                                {
                                    "SZOBA_ID": "66",
                                    "db": "4"
                                },
                                {
                                    "SZOBA_ID": "67",
                                    "db": "6"
                                },
                                {
                                    "SZOBA_ID": "68",
                                    "db": "3"
                                },
                                {
                                    "SZOBA_ID": "69",
                                    "db": "4"
                                },
                                {
                                    "SZOBA_ID": "70",
                                    "db": "11"
                                },
                                {
                                    "SZOBA_ID": "71",
                                    "db": "3"
                                },
                                {
                                    "SZOBA_ID": "72",
                                    "db": "4"
                                },
                                {
                                    "SZOBA_ID": "73",
                                    "db": "4"
                                },
                                {
                                    "SZOBA_ID": "74",
                                    "db": "9"
                                },
                                {
                                    "SZOBA_ID": "75",
                                    "db": "3"
                                },
                                {
                                    "SZOBA_ID": "76",
                                    "db": "3"
                                },
                                {
                                    "SZOBA_ID": "77",
                                    "db": "6"
                                },
                                {
                                    "SZOBA_ID": "78",
                                    "db": "6"
                                },
                                {
                                    "SZOBA_ID": "79",
                                    "db": "5"
                                },
                                {
                                    "SZOBA_ID": "80",
                                    "db": "7"
                                },
                                {
                                    "SZOBA_ID": "81",
                                    "db": "5"
                                },
                                {
                                    "SZOBA_ID": "82",
                                    "db": "6"
                                },
                                {
                                    "SZOBA_ID": "83",
                                    "db": "8"
                                },
                                {
                                    "SZOBA_ID": "84",
                                    "db": "4"
                                },
                                {
                                    "SZOBA_ID": "85",
                                    "db": "4"
                                },
                                {
                                    "SZOBA_ID": "86",
                                    "db": "5"
                                },
                                {
                                    "SZOBA_ID": "87",
                                    "db": "5"
                                },
                                {
                                    "SZOBA_ID": "88",
                                    "db": "8"
                                },
                                {
                                    "SZOBA_ID": "89",
                                    "db": "8"
                                },
                                {
                                    "SZOBA_ID": "90",
                                    "db": "4"
                                },
                                {
                                    "SZOBA_ID": "91",
                                    "db": "4"
                                },
                                {
                                    "SZOBA_ID": "92",
                                    "db": "6"
                                },
                                {
                                    "SZOBA_ID": "93",
                                    "db": "5"
                                },
                                {
                                    "SZOBA_ID": "94",
                                    "db": "10"
                                },
                                {
                                    "SZOBA_ID": "95",
                                    "db": "4"
                                },
                                {
                                    "SZOBA_ID": "96",
                                    "db": "7"
                                },
                                {
                                    "SZOBA_ID": "97",
                                    "db": "7"
                                },
                                {
                                    "SZOBA_ID": "98",
                                    "db": "4"
                                },
                                {
                                    "SZOBA_ID": "99",
                                    "db": "5"
                                },
                                {
                                    "SZOBA_ID": "100",
                                    "db": "4"
                                },
                                {
                                    "SZOBA_ID": "101",
                                    "db": "3"
                                },
                                {
                                    "SZOBA_ID": "102",
                                    "db": "2"
                                },
                                {
                                    "SZOBA_ID": "103",
                                    "db": "4"
                                },
                                {
                                    "SZOBA_ID": "104",
                                    "db": "4"
                                },
                                {
                                    "SZOBA_ID": "105",
                                    "db": "2"
                                },
                                {
                                    "SZOBA_ID": "106",
                                    "db": "6"
                                },
                                {
                                    "SZOBA_ID": "107",
                                    "db": "5"
                                },
                                {
                                    "SZOBA_ID": "108",
                                    "db": "2"
                                },
                                {
                                    "SZOBA_ID": "109",
                                    "db": "7"
                                },
                                {
                                    "SZOBA_ID": "110",
                                    "db": "8"
                                },
                                {
                                    "SZOBA_ID": "111",
                                    "db": "5"
                                },
                                {
                                    "SZOBA_ID": "112",
                                    "db": "5"
                                },
                                {
                                    "SZOBA_ID": "113",
                                    "db": "5"
                                },
                                {
                                    "SZOBA_ID": "114",
                                    "db": "4"
                                },
                                {
                                    "SZOBA_ID": "115",
                                    "db": "7"
                                },
                                {
                                    "SZOBA_ID": "116",
                                    "db": "2"
                                },
                                {
                                    "SZOBA_ID": "117",
                                    "db": "8"
                                },
                                {
                                    "SZOBA_ID": "118",
                                    "db": "7"
                                },
                                {
                                    "SZOBA_ID": "119",
                                    "db": "5"
                                },
                                {
                                    "SZOBA_ID": "120",
                                    "db": "6"
                                },
                                {
                                    "SZOBA_ID": "121",
                                    "db": "8"
                                },
                                {
                                    "SZOBA_ID": "122",
                                    "db": "9"
                                },
                                {
                                    "SZOBA_ID": "123",
                                    "db": "5"
                                },
                                {
                                    "SZOBA_ID": "124",
                                    "db": "6"
                                },
                                {
                                    "SZOBA_ID": "125",
                                    "db": "1"
                                },
                                {
                                    "SZOBA_ID": "126",
                                    "db": "6"
                                },
                                {
                                    "SZOBA_ID": "127",
                                    "db": "7"
                                },
                                {
                                    "SZOBA_ID": "128",
                                    "db": "5"
                                },
                                {
                                    "SZOBA_ID": "129",
                                    "db": "4"
                                },
                                {
                                    "SZOBA_ID": "130",
                                    "db": "6"
                                },
                                {
                                    "SZOBA_ID": "131",
                                    "db": "5"
                                },
                                {
                                    "SZOBA_ID": "132",
                                    "db": "6"
                                },
                                {
                                    "SZOBA_ID": "133",
                                    "db": "6"
                                },
                                {
                                    "SZOBA_ID": "134",
                                    "db": "6"
                                },
                                {
                                    "SZOBA_ID": "135",
                                    "db": "3"
                                },
                                {
                                    "SZOBA_ID": "136",
                                    "db": "3"
                                },
                                {
                                    "SZOBA_ID": "137",
                                    "db": "6"
                                },
                                {
                                    "SZOBA_ID": "138",
                                    "db": "7"
                                },
                                {
                                    "SZOBA_ID": "139",
                                    "db": "7"
                                },
                                {
                                    "SZOBA_ID": "140",
                                    "db": "8"
                                },
                                {
                                    "SZOBA_ID": "141",
                                    "db": "6"
                                },
                                {
                                    "SZOBA_ID": "142",
                                    "db": "2"
                                },
                                {
                                    "SZOBA_ID": "143",
                                    "db": "7"
                                },
                                {
                                    "SZOBA_ID": "144",
                                    "db": "5"
                                },
                                {
                                    "SZOBA_ID": "145",
                                    "db": "6"
                                },
                                {
                                    "SZOBA_ID": "146",
                                    "db": "6"
                                },
                                {
                                    "SZOBA_ID": "147",
                                    "db": "1"
                                },
                                {
                                    "SZOBA_ID": "148",
                                    "db": "6"
                                },
                                {
                                    "SZOBA_ID": "149",
                                    "db": "7"
                                },
                                {
                                    "SZOBA_ID": "150",
                                    "db": "6"
                                },
                                {
                                    "SZOBA_ID": "151",
                                    "db": "3"
                                },
                                {
                                    "SZOBA_ID": "152",
                                    "db": "4"
                                },
                                {
                                    "SZOBA_ID": "153",
                                    "db": "5"
                                },
                                {
                                    "SZOBA_ID": "154",
                                    "db": "5"
                                },
                                {
                                    "SZOBA_ID": "155",
                                    "db": "5"
                                },
                                {
                                    "SZOBA_ID": "156",
                                    "db": "7"
                                },
                                {
                                    "SZOBA_ID": "157",
                                    "db": "5"
                                },
                                {
                                    "SZOBA_ID": "158",
                                    "db": "3"
                                },
                                {
                                    "SZOBA_ID": "159",
                                    "db": "0"
                                },
                                {
                                    "SZOBA_ID": "160",
                                    "db": "5"
                                },
                                {
                                    "SZOBA_ID": "161",
                                    "db": "6"
                                },
                                {
                                    "SZOBA_ID": "162",
                                    "db": "3"
                                },
                                {
                                    "SZOBA_ID": "163",
                                    "db": "7"
                                },
                                {
                                    "SZOBA_ID": "164",
                                    "db": "5"
                                },
                                {
                                    "SZOBA_ID": "165",
                                    "db": "7"
                                },
                                {
                                    "SZOBA_ID": "166",
                                    "db": "3"
                                },
                                {
                                    "SZOBA_ID": "167",
                                    "db": "2"
                                },
                                {
                                    "SZOBA_ID": "168",
                                    "db": "5"
                                },
                                {
                                    "SZOBA_ID": "169",
                                    "db": "6"
                                },
                                {
                                    "SZOBA_ID": "170",
                                    "db": "5"
                                },
                                {
                                    "SZOBA_ID": "171",
                                    "db": "5"
                                },
                                {
                                    "SZOBA_ID": "172",
                                    "db": "9"
                                },
                                {
                                    "SZOBA_ID": "173",
                                    "db": "4"
                                },
                                {
                                    "SZOBA_ID": "174",
                                    "db": "4"
                                },
                                {
                                    "SZOBA_ID": "175",
                                    "db": "5"
                                },
                                {
                                    "SZOBA_ID": "176",
                                    "db": "6"
                                },
                                {
                                    "SZOBA_ID": "177",
                                    "db": "4"
                                },
                                {
                                    "SZOBA_ID": "178",
                                    "db": "4"
                                },
                                {
                                    "SZOBA_ID": "179",
                                    "db": "3"
                                },
                                {
                                    "SZOBA_ID": "180",
                                    "db": "3"
                                },
                                {
                                    "SZOBA_ID": "181",
                                    "db": "6"
                                },
                                {
                                    "SZOBA_ID": "182",
                                    "db": "12"
                                },
                                {
                                    "SZOBA_ID": "183",
                                    "db": "4"
                                },
                                {
                                    "SZOBA_ID": "184",
                                    "db": "4"
                                },
                                {
                                    "SZOBA_ID": "185",
                                    "db": "12"
                                },
                                {
                                    "SZOBA_ID": "186",
                                    "db": "4"
                                },
                                {
                                    "SZOBA_ID": "187",
                                    "db": "7"
                                },
                                {
                                    "SZOBA_ID": "188",
                                    "db": "6"
                                },
                                {
                                    "SZOBA_ID": "189",
                                    "db": "5"
                                },
                                {
                                    "SZOBA_ID": "190",
                                    "db": "5"
                                },
                                {
                                    "SZOBA_ID": "191",
                                    "db": "5"
                                },
                                {
                                    "SZOBA_ID": "192",
                                    "db": "2"
                                },
                                {
                                    "SZOBA_ID": "193",
                                    "db": "7"
                                },
                                {
                                    "SZOBA_ID": "194",
                                    "db": "1"
                                },
                                {
                                    "SZOBA_ID": "195",
                                    "db": "6"
                                },
                                {
                                    "SZOBA_ID": "196",
                                    "db": "4"
                                },
                                {
                                    "SZOBA_ID": "197",
                                    "db": "6"
                                },
                                {
                                    "SZOBA_ID": "198",
                                    "db": "8"
                                },
                                {
                                    "SZOBA_ID": "199",
                                    "db": "0"
                                },
                                {
                                    "SZOBA_ID": "200",
                                    "db": "0"
                                },
                                {
                                    "SZOBA_ID": "201",
                                    "db": "0"
                                },
                                {
                                    "SZOBA_ID": "202",
                                    "db": "0"
                                },
                                {
                                    "SZOBA_ID": "203",
                                    "db": "0"
                                },
                                {
                                    "SZOBA_ID": "204",
                                    "db": "0"
                                },
                                {
                                    "SZOBA_ID": "205",
                                    "db": "0"
                                },
                                {
                                    "SZOBA_ID": "206",
                                    "db": "0"
                                },
                                {
                                    "SZOBA_ID": "207",
                                    "db": "0"
                                },
                                {
                                    "SZOBA_ID": "208",
                                    "db": "0"
                                },
                                {
                                    "SZOBA_ID": "209",
                                    "db": "0"
                                },
                                {
                                    "SZOBA_ID": "210",
                                    "db": "0"
                                },
                                {
                                    "SZOBA_ID": "211",
                                    "db": "0"
                                },
                                {
                                    "SZOBA_ID": "212",
                                    "db": "0"
                                },
                                {
                                    "SZOBA_ID": "213",
                                    "db": "0"
                                },
                                {
                                    "SZOBA_ID": "214",
                                    "db": "0"
                                },
                                {
                                    "SZOBA_ID": "215",
                                    "db": "0"
                                },
                                {
                                    "SZOBA_ID": "216",
                                    "db": "0"
                                },
                                {
                                    "SZOBA_ID": "217",
                                    "db": "0"
                                },
                                {
                                    "SZOBA_ID": "218",
                                    "db": "0"
                                },
                                {
                                    "SZOBA_ID": "219",
                                    "db": "0"
                                },
                                {
                                    "SZOBA_ID": "220",
                                    "db": "0"
                                },
                                {
                                    "SZOBA_ID": "221",
                                    "db": "0"
                                },
                                {
                                    "SZOBA_ID": "222",
                                    "db": "0"
                                },
                                {
                                    "SZOBA_ID": "223",
                                    "db": "0"
                                },
                                {
                                    "SZOBA_ID": "224",
                                    "db": "0"
                                },
                                {
                                    "SZOBA_ID": "225",
                                    "db": "0"
                                },
                                {
                                    "SZOBA_ID": "226",
                                    "db": "0"
                                },
                                {
                                    "SZOBA_ID": "227",
                                    "db": "0"
                                },
                                {
                                    "SZOBA_ID": "228",
                                    "db": "0"
                                },
                                {
                                    "SZOBA_ID": "229",
                                    "db": "0"
                                },
                                {
                                    "SZOBA_ID": "230",
                                    "db": "0"
                                },
                                {
                                    "SZOBA_ID": "231",
                                    "db": "0"
                                },
                                {
                                    "SZOBA_ID": "232",
                                    "db": "0"
                                },
                                {
                                    "SZOBA_ID": "233",
                                    "db": "0"
                                },
                                {
                                    "SZOBA_ID": "234",
                                    "db": "0"
                                },
                                {
                                    "SZOBA_ID": "235",
                                    "db": "0"
                                },
                                {
                                    "SZOBA_ID": "236",
                                    "db": "0"
                                },
                                {
                                    "SZOBA_ID": "237",
                                    "db": "0"
                                },
                                {
                                    "SZOBA_ID": "238",
                                    "db": "0"
                                },
                                {
                                    "SZOBA_ID": "239",
                                    "db": "0"
                                },
                                {
                                    "SZOBA_ID": "240",
                                    "db": "0"
                                },
                                {
                                    "SZOBA_ID": "241",
                                    "db": "0"
                                },
                                {
                                    "SZOBA_ID": "242",
                                    "db": "0"
                                },
                                {
                                    "SZOBA_ID": "243",
                                    "db": "0"
                                },
                                {
                                    "SZOBA_ID": "244",
                                    "db": "0"
                                },
                                {
                                    "SZOBA_ID": "245",
                                    "db": "0"
                                },
                                {
                                    "SZOBA_ID": "246",
                                    "db": "0"
                                },
                                {
                                    "SZOBA_ID": "247",
                                    "db": "0"
                                },
                                {
                                    "SZOBA_ID": "248",
                                    "db": "0"
                                },
                                {
                                    "SZOBA_ID": "249",
                                    "db": "0"
                                },
                                {
                                    "SZOBA_ID": "250",
                                    "db": "0"
                                },
                                {
                                    "SZOBA_ID": "251",
                                    "db": "0"
                                },
                                {
                                    "SZOBA_ID": "252",
                                    "db": "0"
                                },
                                {
                                    "SZOBA_ID": "253",
                                    "db": "0"
                                },
                                {
                                    "SZOBA_ID": "254",
                                    "db": "0"
                                },
                                {
                                    "SZOBA_ID": "255",
                                    "db": "0"
                                },
                                {
                                    "SZOBA_ID": "256",
                                    "db": "0"
                                },
                                {
                                    "SZOBA_ID": "257",
                                    "db": "0"
                                },
                                {
                                    "SZOBA_ID": "258",
                                    "db": "0"
                                },
                                {
                                    "SZOBA_ID": "259",
                                    "db": "0"
                                },
                                {
                                    "SZOBA_ID": "260",
                                    "db": "0"
                                },
                                {
                                    "SZOBA_ID": "261",
                                    "db": "0"
                                },
                                {
                                    "SZOBA_ID": "262",
                                    "db": "0"
                                },
                                {
                                    "SZOBA_ID": "263",
                                    "db": "0"
                                },
                                {
                                    "SZOBA_ID": "264",
                                    "db": "0"
                                },
                                {
                                    "SZOBA_ID": "265",
                                    "db": "0"
                                },
                                {
                                    "SZOBA_ID": "266",
                                    "db": "0"
                                },
                                {
                                    "SZOBA_ID": "267",
                                    "db": "0"
                                },
                                {
                                    "SZOBA_ID": "268",
                                    "db": "0"
                                },
                                {
                                    "SZOBA_ID": "269",
                                    "db": "0"
                                },
                                {
                                    "SZOBA_ID": "270",
                                    "db": "0"
                                },
                                {
                                    "SZOBA_ID": "271",
                                    "db": "0"
                                },
                                {
                                    "SZOBA_ID": "272",
                                    "db": "0"
                                },
                                {
                                    "SZOBA_ID": "273",
                                    "db": "0"
                                },
                                {
                                    "SZOBA_ID": "274",
                                    "db": "0"
                                },
                                {
                                    "SZOBA_ID": "275",
                                    "db": "0"
                                },
                                {
                                    "SZOBA_ID": "276",
                                    "db": "0"
                                },
                                {
                                    "SZOBA_ID": "277",
                                    "db": "0"
                                },
                                {
                                    "SZOBA_ID": "278",
                                    "db": "0"
                                },
                                {
                                    "SZOBA_ID": "279",
                                    "db": "0"
                                },
                                {
                                    "SZOBA_ID": "280",
                                    "db": "0"
                                },
                                {
                                    "SZOBA_ID": "281",
                                    "db": "0"
                                },
                                {
                                    "SZOBA_ID": "282",
                                    "db": "0"
                                },
                                {
                                    "SZOBA_ID": "283",
                                    "db": "0"
                                },
                                {
                                    "SZOBA_ID": "284",
                                    "db": "0"
                                },
                                {
                                    "SZOBA_ID": "285",
                                    "db": "0"
                                },
                                {
                                    "SZOBA_ID": "286",
                                    "db": "0"
                                },
                                {
                                    "SZOBA_ID": "287",
                                    "db": "0"
                                },
                                {
                                    "SZOBA_ID": "288",
                                    "db": "0"
                                },
                                {
                                    "SZOBA_ID": "289",
                                    "db": "0"
                                },
                                {
                                    "SZOBA_ID": "290",
                                    "db": "0"
                                },
                                {
                                    "SZOBA_ID": "291",
                                    "db": "0"
                                },
                                {
                                    "SZOBA_ID": "292",
                                    "db": "0"
                                },
                                {
                                    "SZOBA_ID": "293",
                                    "db": "0"
                                },
                                {
                                    "SZOBA_ID": "294",
                                    "db": "0"
                                }
                            ]
                        },
                        "text/html": [
                            "<table>",
                            "<tr><th>SZOBA_ID</th><th>db</th></tr>",
                            "<tr><td>1</td><td>8</td></tr>",
                            "<tr><td>2</td><td>4</td></tr>",
                            "<tr><td>3</td><td>8</td></tr>",
                            "<tr><td>4</td><td>6</td></tr>",
                            "<tr><td>5</td><td>4</td></tr>",
                            "<tr><td>6</td><td>6</td></tr>",
                            "<tr><td>7</td><td>6</td></tr>",
                            "<tr><td>8</td><td>5</td></tr>",
                            "<tr><td>9</td><td>6</td></tr>",
                            "<tr><td>10</td><td>4</td></tr>",
                            "<tr><td>11</td><td>4</td></tr>",
                            "<tr><td>12</td><td>9</td></tr>",
                            "<tr><td>13</td><td>4</td></tr>",
                            "<tr><td>14</td><td>3</td></tr>",
                            "<tr><td>15</td><td>6</td></tr>",
                            "<tr><td>16</td><td>5</td></tr>",
                            "<tr><td>17</td><td>6</td></tr>",
                            "<tr><td>18</td><td>6</td></tr>",
                            "<tr><td>19</td><td>6</td></tr>",
                            "<tr><td>20</td><td>5</td></tr>",
                            "<tr><td>21</td><td>4</td></tr>",
                            "<tr><td>22</td><td>6</td></tr>",
                            "<tr><td>23</td><td>3</td></tr>",
                            "<tr><td>24</td><td>3</td></tr>",
                            "<tr><td>25</td><td>2</td></tr>",
                            "<tr><td>26</td><td>2</td></tr>",
                            "<tr><td>27</td><td>7</td></tr>",
                            "<tr><td>28</td><td>6</td></tr>",
                            "<tr><td>29</td><td>6</td></tr>",
                            "<tr><td>30</td><td>3</td></tr>",
                            "<tr><td>31</td><td>3</td></tr>",
                            "<tr><td>32</td><td>1</td></tr>",
                            "<tr><td>33</td><td>6</td></tr>",
                            "<tr><td>34</td><td>4</td></tr>",
                            "<tr><td>35</td><td>9</td></tr>",
                            "<tr><td>36</td><td>6</td></tr>",
                            "<tr><td>37</td><td>3</td></tr>",
                            "<tr><td>38</td><td>8</td></tr>",
                            "<tr><td>39</td><td>7</td></tr>",
                            "<tr><td>40</td><td>4</td></tr>",
                            "<tr><td>41</td><td>2</td></tr>",
                            "<tr><td>42</td><td>6</td></tr>",
                            "<tr><td>43</td><td>8</td></tr>",
                            "<tr><td>44</td><td>6</td></tr>",
                            "<tr><td>45</td><td>5</td></tr>",
                            "<tr><td>46</td><td>4</td></tr>",
                            "<tr><td>47</td><td>2</td></tr>",
                            "<tr><td>48</td><td>9</td></tr>",
                            "<tr><td>49</td><td>7</td></tr>",
                            "<tr><td>50</td><td>4</td></tr>",
                            "<tr><td>51</td><td>5</td></tr>",
                            "<tr><td>52</td><td>5</td></tr>",
                            "<tr><td>53</td><td>2</td></tr>",
                            "<tr><td>54</td><td>6</td></tr>",
                            "<tr><td>55</td><td>8</td></tr>",
                            "<tr><td>56</td><td>2</td></tr>",
                            "<tr><td>57</td><td>4</td></tr>",
                            "<tr><td>58</td><td>13</td></tr>",
                            "<tr><td>59</td><td>7</td></tr>",
                            "<tr><td>60</td><td>1</td></tr>",
                            "<tr><td>61</td><td>5</td></tr>",
                            "<tr><td>62</td><td>5</td></tr>",
                            "<tr><td>63</td><td>4</td></tr>",
                            "<tr><td>64</td><td>6</td></tr>",
                            "<tr><td>65</td><td>1</td></tr>",
                            "<tr><td>66</td><td>4</td></tr>",
                            "<tr><td>67</td><td>6</td></tr>",
                            "<tr><td>68</td><td>3</td></tr>",
                            "<tr><td>69</td><td>4</td></tr>",
                            "<tr><td>70</td><td>11</td></tr>",
                            "<tr><td>71</td><td>3</td></tr>",
                            "<tr><td>72</td><td>4</td></tr>",
                            "<tr><td>73</td><td>4</td></tr>",
                            "<tr><td>74</td><td>9</td></tr>",
                            "<tr><td>75</td><td>3</td></tr>",
                            "<tr><td>76</td><td>3</td></tr>",
                            "<tr><td>77</td><td>6</td></tr>",
                            "<tr><td>78</td><td>6</td></tr>",
                            "<tr><td>79</td><td>5</td></tr>",
                            "<tr><td>80</td><td>7</td></tr>",
                            "<tr><td>81</td><td>5</td></tr>",
                            "<tr><td>82</td><td>6</td></tr>",
                            "<tr><td>83</td><td>8</td></tr>",
                            "<tr><td>84</td><td>4</td></tr>",
                            "<tr><td>85</td><td>4</td></tr>",
                            "<tr><td>86</td><td>5</td></tr>",
                            "<tr><td>87</td><td>5</td></tr>",
                            "<tr><td>88</td><td>8</td></tr>",
                            "<tr><td>89</td><td>8</td></tr>",
                            "<tr><td>90</td><td>4</td></tr>",
                            "<tr><td>91</td><td>4</td></tr>",
                            "<tr><td>92</td><td>6</td></tr>",
                            "<tr><td>93</td><td>5</td></tr>",
                            "<tr><td>94</td><td>10</td></tr>",
                            "<tr><td>95</td><td>4</td></tr>",
                            "<tr><td>96</td><td>7</td></tr>",
                            "<tr><td>97</td><td>7</td></tr>",
                            "<tr><td>98</td><td>4</td></tr>",
                            "<tr><td>99</td><td>5</td></tr>",
                            "<tr><td>100</td><td>4</td></tr>",
                            "<tr><td>101</td><td>3</td></tr>",
                            "<tr><td>102</td><td>2</td></tr>",
                            "<tr><td>103</td><td>4</td></tr>",
                            "<tr><td>104</td><td>4</td></tr>",
                            "<tr><td>105</td><td>2</td></tr>",
                            "<tr><td>106</td><td>6</td></tr>",
                            "<tr><td>107</td><td>5</td></tr>",
                            "<tr><td>108</td><td>2</td></tr>",
                            "<tr><td>109</td><td>7</td></tr>",
                            "<tr><td>110</td><td>8</td></tr>",
                            "<tr><td>111</td><td>5</td></tr>",
                            "<tr><td>112</td><td>5</td></tr>",
                            "<tr><td>113</td><td>5</td></tr>",
                            "<tr><td>114</td><td>4</td></tr>",
                            "<tr><td>115</td><td>7</td></tr>",
                            "<tr><td>116</td><td>2</td></tr>",
                            "<tr><td>117</td><td>8</td></tr>",
                            "<tr><td>118</td><td>7</td></tr>",
                            "<tr><td>119</td><td>5</td></tr>",
                            "<tr><td>120</td><td>6</td></tr>",
                            "<tr><td>121</td><td>8</td></tr>",
                            "<tr><td>122</td><td>9</td></tr>",
                            "<tr><td>123</td><td>5</td></tr>",
                            "<tr><td>124</td><td>6</td></tr>",
                            "<tr><td>125</td><td>1</td></tr>",
                            "<tr><td>126</td><td>6</td></tr>",
                            "<tr><td>127</td><td>7</td></tr>",
                            "<tr><td>128</td><td>5</td></tr>",
                            "<tr><td>129</td><td>4</td></tr>",
                            "<tr><td>130</td><td>6</td></tr>",
                            "<tr><td>131</td><td>5</td></tr>",
                            "<tr><td>132</td><td>6</td></tr>",
                            "<tr><td>133</td><td>6</td></tr>",
                            "<tr><td>134</td><td>6</td></tr>",
                            "<tr><td>135</td><td>3</td></tr>",
                            "<tr><td>136</td><td>3</td></tr>",
                            "<tr><td>137</td><td>6</td></tr>",
                            "<tr><td>138</td><td>7</td></tr>",
                            "<tr><td>139</td><td>7</td></tr>",
                            "<tr><td>140</td><td>8</td></tr>",
                            "<tr><td>141</td><td>6</td></tr>",
                            "<tr><td>142</td><td>2</td></tr>",
                            "<tr><td>143</td><td>7</td></tr>",
                            "<tr><td>144</td><td>5</td></tr>",
                            "<tr><td>145</td><td>6</td></tr>",
                            "<tr><td>146</td><td>6</td></tr>",
                            "<tr><td>147</td><td>1</td></tr>",
                            "<tr><td>148</td><td>6</td></tr>",
                            "<tr><td>149</td><td>7</td></tr>",
                            "<tr><td>150</td><td>6</td></tr>",
                            "<tr><td>151</td><td>3</td></tr>",
                            "<tr><td>152</td><td>4</td></tr>",
                            "<tr><td>153</td><td>5</td></tr>",
                            "<tr><td>154</td><td>5</td></tr>",
                            "<tr><td>155</td><td>5</td></tr>",
                            "<tr><td>156</td><td>7</td></tr>",
                            "<tr><td>157</td><td>5</td></tr>",
                            "<tr><td>158</td><td>3</td></tr>",
                            "<tr><td>159</td><td>0</td></tr>",
                            "<tr><td>160</td><td>5</td></tr>",
                            "<tr><td>161</td><td>6</td></tr>",
                            "<tr><td>162</td><td>3</td></tr>",
                            "<tr><td>163</td><td>7</td></tr>",
                            "<tr><td>164</td><td>5</td></tr>",
                            "<tr><td>165</td><td>7</td></tr>",
                            "<tr><td>166</td><td>3</td></tr>",
                            "<tr><td>167</td><td>2</td></tr>",
                            "<tr><td>168</td><td>5</td></tr>",
                            "<tr><td>169</td><td>6</td></tr>",
                            "<tr><td>170</td><td>5</td></tr>",
                            "<tr><td>171</td><td>5</td></tr>",
                            "<tr><td>172</td><td>9</td></tr>",
                            "<tr><td>173</td><td>4</td></tr>",
                            "<tr><td>174</td><td>4</td></tr>",
                            "<tr><td>175</td><td>5</td></tr>",
                            "<tr><td>176</td><td>6</td></tr>",
                            "<tr><td>177</td><td>4</td></tr>",
                            "<tr><td>178</td><td>4</td></tr>",
                            "<tr><td>179</td><td>3</td></tr>",
                            "<tr><td>180</td><td>3</td></tr>",
                            "<tr><td>181</td><td>6</td></tr>",
                            "<tr><td>182</td><td>12</td></tr>",
                            "<tr><td>183</td><td>4</td></tr>",
                            "<tr><td>184</td><td>4</td></tr>",
                            "<tr><td>185</td><td>12</td></tr>",
                            "<tr><td>186</td><td>4</td></tr>",
                            "<tr><td>187</td><td>7</td></tr>",
                            "<tr><td>188</td><td>6</td></tr>",
                            "<tr><td>189</td><td>5</td></tr>",
                            "<tr><td>190</td><td>5</td></tr>",
                            "<tr><td>191</td><td>5</td></tr>",
                            "<tr><td>192</td><td>2</td></tr>",
                            "<tr><td>193</td><td>7</td></tr>",
                            "<tr><td>194</td><td>1</td></tr>",
                            "<tr><td>195</td><td>6</td></tr>",
                            "<tr><td>196</td><td>4</td></tr>",
                            "<tr><td>197</td><td>6</td></tr>",
                            "<tr><td>198</td><td>8</td></tr>",
                            "<tr><td>199</td><td>0</td></tr>",
                            "<tr><td>200</td><td>0</td></tr>",
                            "<tr><td>201</td><td>0</td></tr>",
                            "<tr><td>202</td><td>0</td></tr>",
                            "<tr><td>203</td><td>0</td></tr>",
                            "<tr><td>204</td><td>0</td></tr>",
                            "<tr><td>205</td><td>0</td></tr>",
                            "<tr><td>206</td><td>0</td></tr>",
                            "<tr><td>207</td><td>0</td></tr>",
                            "<tr><td>208</td><td>0</td></tr>",
                            "<tr><td>209</td><td>0</td></tr>",
                            "<tr><td>210</td><td>0</td></tr>",
                            "<tr><td>211</td><td>0</td></tr>",
                            "<tr><td>212</td><td>0</td></tr>",
                            "<tr><td>213</td><td>0</td></tr>",
                            "<tr><td>214</td><td>0</td></tr>",
                            "<tr><td>215</td><td>0</td></tr>",
                            "<tr><td>216</td><td>0</td></tr>",
                            "<tr><td>217</td><td>0</td></tr>",
                            "<tr><td>218</td><td>0</td></tr>",
                            "<tr><td>219</td><td>0</td></tr>",
                            "<tr><td>220</td><td>0</td></tr>",
                            "<tr><td>221</td><td>0</td></tr>",
                            "<tr><td>222</td><td>0</td></tr>",
                            "<tr><td>223</td><td>0</td></tr>",
                            "<tr><td>224</td><td>0</td></tr>",
                            "<tr><td>225</td><td>0</td></tr>",
                            "<tr><td>226</td><td>0</td></tr>",
                            "<tr><td>227</td><td>0</td></tr>",
                            "<tr><td>228</td><td>0</td></tr>",
                            "<tr><td>229</td><td>0</td></tr>",
                            "<tr><td>230</td><td>0</td></tr>",
                            "<tr><td>231</td><td>0</td></tr>",
                            "<tr><td>232</td><td>0</td></tr>",
                            "<tr><td>233</td><td>0</td></tr>",
                            "<tr><td>234</td><td>0</td></tr>",
                            "<tr><td>235</td><td>0</td></tr>",
                            "<tr><td>236</td><td>0</td></tr>",
                            "<tr><td>237</td><td>0</td></tr>",
                            "<tr><td>238</td><td>0</td></tr>",
                            "<tr><td>239</td><td>0</td></tr>",
                            "<tr><td>240</td><td>0</td></tr>",
                            "<tr><td>241</td><td>0</td></tr>",
                            "<tr><td>242</td><td>0</td></tr>",
                            "<tr><td>243</td><td>0</td></tr>",
                            "<tr><td>244</td><td>0</td></tr>",
                            "<tr><td>245</td><td>0</td></tr>",
                            "<tr><td>246</td><td>0</td></tr>",
                            "<tr><td>247</td><td>0</td></tr>",
                            "<tr><td>248</td><td>0</td></tr>",
                            "<tr><td>249</td><td>0</td></tr>",
                            "<tr><td>250</td><td>0</td></tr>",
                            "<tr><td>251</td><td>0</td></tr>",
                            "<tr><td>252</td><td>0</td></tr>",
                            "<tr><td>253</td><td>0</td></tr>",
                            "<tr><td>254</td><td>0</td></tr>",
                            "<tr><td>255</td><td>0</td></tr>",
                            "<tr><td>256</td><td>0</td></tr>",
                            "<tr><td>257</td><td>0</td></tr>",
                            "<tr><td>258</td><td>0</td></tr>",
                            "<tr><td>259</td><td>0</td></tr>",
                            "<tr><td>260</td><td>0</td></tr>",
                            "<tr><td>261</td><td>0</td></tr>",
                            "<tr><td>262</td><td>0</td></tr>",
                            "<tr><td>263</td><td>0</td></tr>",
                            "<tr><td>264</td><td>0</td></tr>",
                            "<tr><td>265</td><td>0</td></tr>",
                            "<tr><td>266</td><td>0</td></tr>",
                            "<tr><td>267</td><td>0</td></tr>",
                            "<tr><td>268</td><td>0</td></tr>",
                            "<tr><td>269</td><td>0</td></tr>",
                            "<tr><td>270</td><td>0</td></tr>",
                            "<tr><td>271</td><td>0</td></tr>",
                            "<tr><td>272</td><td>0</td></tr>",
                            "<tr><td>273</td><td>0</td></tr>",
                            "<tr><td>274</td><td>0</td></tr>",
                            "<tr><td>275</td><td>0</td></tr>",
                            "<tr><td>276</td><td>0</td></tr>",
                            "<tr><td>277</td><td>0</td></tr>",
                            "<tr><td>278</td><td>0</td></tr>",
                            "<tr><td>279</td><td>0</td></tr>",
                            "<tr><td>280</td><td>0</td></tr>",
                            "<tr><td>281</td><td>0</td></tr>",
                            "<tr><td>282</td><td>0</td></tr>",
                            "<tr><td>283</td><td>0</td></tr>",
                            "<tr><td>284</td><td>0</td></tr>",
                            "<tr><td>285</td><td>0</td></tr>",
                            "<tr><td>286</td><td>0</td></tr>",
                            "<tr><td>287</td><td>0</td></tr>",
                            "<tr><td>288</td><td>0</td></tr>",
                            "<tr><td>289</td><td>0</td></tr>",
                            "<tr><td>290</td><td>0</td></tr>",
                            "<tr><td>291</td><td>0</td></tr>",
                            "<tr><td>292</td><td>0</td></tr>",
                            "<tr><td>293</td><td>0</td></tr>",
                            "<tr><td>294</td><td>0</td></tr>",
                            "</table>"
                        ]
                    }
                }
            ],
            "execution_count": 17
        },
        {
            "cell_type": "markdown",
            "source": [
                "<span style=\"color: rgb(0, 0, 0); font-family: &quot;Open Sans&quot;, sans-serif; font-size: 14.44px; background-color: rgb(255, 255, 255);\">Listázzuk azon szálláshelyek azonosítóját és nevét, amelyek a saját helyükön (HELY) a legtöbb csillaggal rendelkeznek!</span>"
            ],
            "metadata": {
                "azdata_cell_guid": "dfd7e394-98db-46ea-a637-fd04e1612919"
            },
            "attachments": {}
        },
        {
            "cell_type": "code",
            "source": [
                "SELECT SZALLAS_ID, SZALLAS_NEV from szallashely sz\r\n",
                "where CSILLAGOK_SZAMA =(\r\n",
                "    select MAX(CSILLAGOK_SZAMA) from szallashely sz2\r\n",
                "    where sz2.HELY=sz.HELY\r\n",
                ")"
            ],
            "metadata": {
                "azdata_cell_guid": "69c32f5d-2cc8-42cc-995e-93f697836593",
                "language": "sql"
            },
            "outputs": [
                {
                    "output_type": "display_data",
                    "data": {
                        "text/html": "(11 rows affected)"
                    },
                    "metadata": {}
                },
                {
                    "output_type": "display_data",
                    "data": {
                        "text/html": "Total execution time: 00:00:00.009"
                    },
                    "metadata": {}
                },
                {
                    "output_type": "execute_result",
                    "metadata": {},
                    "execution_count": 27,
                    "data": {
                        "application/vnd.dataresource+json": {
                            "schema": {
                                "fields": [
                                    {
                                        "name": "SZALLAS_ID"
                                    },
                                    {
                                        "name": "SZALLAS_NEV"
                                    }
                                ]
                            },
                            "data": [
                                {
                                    "SZALLAS_ID": "17",
                                    "SZALLAS_NEV": "Szarvas Hotel"
                                },
                                {
                                    "SZALLAS_ID": "16",
                                    "SZALLAS_NEV": "Bagoly Hotel"
                                },
                                {
                                    "SZALLAS_ID": "3",
                                    "SZALLAS_NEV": "Fortuna Apartman"
                                },
                                {
                                    "SZALLAS_ID": "18",
                                    "SZALLAS_NEV": "Fortuna Apartman"
                                },
                                {
                                    "SZALLAS_ID": "19",
                                    "SZALLAS_NEV": "Nyárfás Vendégház"
                                },
                                {
                                    "SZALLAS_ID": "21",
                                    "SZALLAS_NEV": "Müller Vendégház"
                                },
                                {
                                    "SZALLAS_ID": "13",
                                    "SZALLAS_NEV": "Riviéra Panzió"
                                },
                                {
                                    "SZALLAS_ID": "10",
                                    "SZALLAS_NEV": "Lagúna Hotel"
                                },
                                {
                                    "SZALLAS_ID": "5",
                                    "SZALLAS_NEV": "Fortuna Panzió"
                                },
                                {
                                    "SZALLAS_ID": "11",
                                    "SZALLAS_NEV": "Partiszél Vendégház"
                                },
                                {
                                    "SZALLAS_ID": "8",
                                    "SZALLAS_NEV": "Hotel Három Hattyú"
                                }
                            ]
                        },
                        "text/html": [
                            "<table>",
                            "<tr><th>SZALLAS_ID</th><th>SZALLAS_NEV</th></tr>",
                            "<tr><td>17</td><td>Szarvas Hotel</td></tr>",
                            "<tr><td>16</td><td>Bagoly Hotel</td></tr>",
                            "<tr><td>3</td><td>Fortuna Apartman</td></tr>",
                            "<tr><td>18</td><td>Fortuna Apartman</td></tr>",
                            "<tr><td>19</td><td>Nyárfás Vendégház</td></tr>",
                            "<tr><td>21</td><td>Müller Vendégház</td></tr>",
                            "<tr><td>13</td><td>Riviéra Panzió</td></tr>",
                            "<tr><td>10</td><td>Lagúna Hotel</td></tr>",
                            "<tr><td>5</td><td>Fortuna Panzió</td></tr>",
                            "<tr><td>11</td><td>Partiszél Vendégház</td></tr>",
                            "<tr><td>8</td><td>Hotel Három Hattyú</td></tr>",
                            "</table>"
                        ]
                    }
                }
            ],
            "execution_count": 27
        },
        {
            "cell_type": "markdown",
            "source": [
                "Készítsen lekérdezést, amely sorszámozza a vendégeket a foglalások száma alapján\n",
                "\n",
                "- A sorszám mellett jelenjen meg a vendég azonosítója, neve és a foglalások száma is\n",
                "- A legtöbbet foglaló vendég kapja az egyes sorszámot\n",
                "- Holtverseny esetén a számozás annyit ugorjon, ahány egyforma érték van"
            ],
            "metadata": {
                "azdata_cell_guid": "e57779f4-bc6b-4991-b588-c20b98c6b9de"
            },
            "attachments": {}
        },
        {
            "cell_type": "code",
            "source": [
                "SELECT rank() over (partition by USERNEV order by count(*) asc) as sorszam, Vendeg.USERNEV, Vendeg.NEV, count(*) as foglalas from Vendeg\r\n",
                "join Foglalas on Foglalas.UGYFEL_FK=Vendeg.USERNEV\r\n",
                "group by USERNEV, nev"
            ],
            "metadata": {
                "azdata_cell_guid": "199a60df-7098-48b1-a8de-e5ca5037a360",
                "language": "sql"
            },
            "outputs": [
                {
                    "output_type": "display_data",
                    "data": {
                        "text/html": "(195 rows affected)"
                    },
                    "metadata": {}
                },
                {
                    "output_type": "display_data",
                    "data": {
                        "text/html": "Total execution time: 00:00:00.011"
                    },
                    "metadata": {}
                },
                {
                    "output_type": "execute_result",
                    "metadata": {},
                    "execution_count": 40,
                    "data": {
                        "application/vnd.dataresource+json": {
                            "schema": {
                                "fields": [
                                    {
                                        "name": "sorszam"
                                    },
                                    {
                                        "name": "USERNEV"
                                    },
                                    {
                                        "name": "NEV"
                                    },
                                    {
                                        "name": "foglalas"
                                    }
                                ]
                            },
                            "data": [
                                {
                                    "sorszam": "1",
                                    "USERNEV": "adam1",
                                    "NEV": "Kiss Ádám",
                                    "foglalas": "3"
                                },
                                {
                                    "sorszam": "1",
                                    "USERNEV": "adam3",
                                    "NEV": "Barkóci Ádám",
                                    "foglalas": "2"
                                },
                                {
                                    "sorszam": "1",
                                    "USERNEV": "adam4",
                                    "NEV": "Bieniek Ádám",
                                    "foglalas": "6"
                                },
                                {
                                    "sorszam": "1",
                                    "USERNEV": "agnes",
                                    "NEV": "Lengyel Ágnes",
                                    "foglalas": "5"
                                },
                                {
                                    "sorszam": "1",
                                    "USERNEV": "agnes3",
                                    "NEV": "Hartyánszky Ágnes",
                                    "foglalas": "3"
                                },
                                {
                                    "sorszam": "1",
                                    "USERNEV": "AGNESH",
                                    "NEV": "Horváth Ágnes",
                                    "foglalas": "6"
                                },
                                {
                                    "sorszam": "1",
                                    "USERNEV": "AGNESK",
                                    "NEV": "Kovács Ágnes",
                                    "foglalas": "3"
                                },
                                {
                                    "sorszam": "1",
                                    "USERNEV": "akos",
                                    "NEV": "Bíró Ákos",
                                    "foglalas": "10"
                                },
                                {
                                    "sorszam": "1",
                                    "USERNEV": "aladar",
                                    "NEV": "Dunai Aladár",
                                    "foglalas": "3"
                                },
                                {
                                    "sorszam": "1",
                                    "USERNEV": "alexandra",
                                    "NEV": "Bagóczki Alexandra",
                                    "foglalas": "7"
                                },
                                {
                                    "sorszam": "1",
                                    "USERNEV": "andi",
                                    "NEV": "Maródi Andrea",
                                    "foglalas": "5"
                                },
                                {
                                    "sorszam": "1",
                                    "USERNEV": "andras2",
                                    "NEV": "Tóth András",
                                    "foglalas": "5"
                                },
                                {
                                    "sorszam": "1",
                                    "USERNEV": "andras21",
                                    "NEV": "Molnár András",
                                    "foglalas": "7"
                                },
                                {
                                    "sorszam": "1",
                                    "USERNEV": "andras3",
                                    "NEV": "Vígh András",
                                    "foglalas": "8"
                                },
                                {
                                    "sorszam": "1",
                                    "USERNEV": "andras4",
                                    "NEV": "Back András",
                                    "foglalas": "3"
                                },
                                {
                                    "sorszam": "1",
                                    "USERNEV": "andras41",
                                    "NEV": "Komjáti András",
                                    "foglalas": "13"
                                },
                                {
                                    "sorszam": "1",
                                    "USERNEV": "ANDRASE",
                                    "NEV": "Erdei András",
                                    "foglalas": "5"
                                },
                                {
                                    "sorszam": "1",
                                    "USERNEV": "ANDRASN",
                                    "NEV": "Nagy András",
                                    "foglalas": "1"
                                },
                                {
                                    "sorszam": "1",
                                    "USERNEV": "andrea",
                                    "NEV": "Kiss Andrea",
                                    "foglalas": "6"
                                },
                                {
                                    "sorszam": "1",
                                    "USERNEV": "andrea3",
                                    "NEV": "Szomor Andrea",
                                    "foglalas": "1"
                                },
                                {
                                    "sorszam": "1",
                                    "USERNEV": "andrea4",
                                    "NEV": "Neizer Andrea",
                                    "foglalas": "4"
                                },
                                {
                                    "sorszam": "1",
                                    "USERNEV": "ANDREAT",
                                    "NEV": "Tornyos Andrea",
                                    "foglalas": "3"
                                },
                                {
                                    "sorszam": "1",
                                    "USERNEV": "anett3",
                                    "NEV": "Pivarcsi Anett",
                                    "foglalas": "8"
                                },
                                {
                                    "sorszam": "1",
                                    "USERNEV": "aniko",
                                    "NEV": "Tóth Anikó",
                                    "foglalas": "3"
                                },
                                {
                                    "sorszam": "1",
                                    "USERNEV": "aniko4",
                                    "NEV": "Böröcz Anikó",
                                    "foglalas": "4"
                                },
                                {
                                    "sorszam": "1",
                                    "USERNEV": "ANIKOS",
                                    "NEV": "Simon Anikó",
                                    "foglalas": "9"
                                },
                                {
                                    "sorszam": "1",
                                    "USERNEV": "anita",
                                    "NEV": "Hamvay-Kovács Anita",
                                    "foglalas": "4"
                                },
                                {
                                    "sorszam": "1",
                                    "USERNEV": "annamaria1",
                                    "NEV": "Szűcs Annamária",
                                    "foglalas": "2"
                                },
                                {
                                    "sorszam": "1",
                                    "USERNEV": "ANNAMARIAR",
                                    "NEV": "Regős Annamária",
                                    "foglalas": "6"
                                },
                                {
                                    "sorszam": "1",
                                    "USERNEV": "aron2",
                                    "NEV": "Jakab Áron",
                                    "foglalas": "6"
                                },
                                {
                                    "sorszam": "1",
                                    "USERNEV": "ARONK",
                                    "NEV": "Kelemen Áron",
                                    "foglalas": "13"
                                },
                                {
                                    "sorszam": "1",
                                    "USERNEV": "arpad2",
                                    "NEV": "Ötvös Árpád",
                                    "foglalas": "7"
                                },
                                {
                                    "sorszam": "1",
                                    "USERNEV": "ARPADH",
                                    "NEV": "Horváth Árpád",
                                    "foglalas": "7"
                                },
                                {
                                    "sorszam": "1",
                                    "USERNEV": "ARPADM",
                                    "NEV": "Móricz Árpád",
                                    "foglalas": "6"
                                },
                                {
                                    "sorszam": "1",
                                    "USERNEV": "attila",
                                    "NEV": "Csóti Attila",
                                    "foglalas": "3"
                                },
                                {
                                    "sorszam": "1",
                                    "USERNEV": "attila1",
                                    "NEV": "Gulyás Attila",
                                    "foglalas": "6"
                                },
                                {
                                    "sorszam": "1",
                                    "USERNEV": "attila4",
                                    "NEV": "Baróti Attila",
                                    "foglalas": "3"
                                },
                                {
                                    "sorszam": "1",
                                    "USERNEV": "ATTILAO",
                                    "NEV": "Opra Attila",
                                    "foglalas": "4"
                                },
                                {
                                    "sorszam": "1",
                                    "USERNEV": "balazs1",
                                    "NEV": "Bozsik Balázs",
                                    "foglalas": "6"
                                },
                                {
                                    "sorszam": "1",
                                    "USERNEV": "balazs2",
                                    "NEV": "Szűcs Balázs",
                                    "foglalas": "10"
                                },
                                {
                                    "sorszam": "1",
                                    "USERNEV": "balazs3",
                                    "NEV": "Bakódy Balázs",
                                    "foglalas": "6"
                                },
                                {
                                    "sorszam": "1",
                                    "USERNEV": "balint",
                                    "NEV": "Horváth Bálint",
                                    "foglalas": "3"
                                },
                                {
                                    "sorszam": "1",
                                    "USERNEV": "balint1",
                                    "NEV": "Molnár Bálint",
                                    "foglalas": "10"
                                },
                                {
                                    "sorszam": "1",
                                    "USERNEV": "balint2",
                                    "NEV": "Vukasinovity Bálint",
                                    "foglalas": "2"
                                },
                                {
                                    "sorszam": "1",
                                    "USERNEV": "balu",
                                    "NEV": "Endresz Bálint",
                                    "foglalas": "2"
                                },
                                {
                                    "sorszam": "1",
                                    "USERNEV": "beata4",
                                    "NEV": "Bagi Beáta",
                                    "foglalas": "6"
                                },
                                {
                                    "sorszam": "1",
                                    "USERNEV": "BEATRIXK",
                                    "NEV": "Kerényi Beatrix",
                                    "foglalas": "9"
                                },
                                {
                                    "sorszam": "1",
                                    "USERNEV": "BEATRIXS",
                                    "NEV": "Szekendi Beatrix",
                                    "foglalas": "6"
                                },
                                {
                                    "sorszam": "1",
                                    "USERNEV": "BELAF",
                                    "NEV": "Farkas Béla",
                                    "foglalas": "6"
                                },
                                {
                                    "sorszam": "1",
                                    "USERNEV": "bence",
                                    "NEV": "Győrffy Bence",
                                    "foglalas": "9"
                                },
                                {
                                    "sorszam": "1",
                                    "USERNEV": "BENCEB",
                                    "NEV": "Bajusz Bence",
                                    "foglalas": "6"
                                },
                                {
                                    "sorszam": "1",
                                    "USERNEV": "bernadett1",
                                    "NEV": "Simon Bernadett",
                                    "foglalas": "7"
                                },
                                {
                                    "sorszam": "1",
                                    "USERNEV": "bernadett2",
                                    "NEV": "Kovács Bernadett",
                                    "foglalas": "8"
                                },
                                {
                                    "sorszam": "1",
                                    "USERNEV": "BERNADETTO",
                                    "NEV": "Orbán Bernadett",
                                    "foglalas": "7"
                                },
                                {
                                    "sorszam": "1",
                                    "USERNEV": "bertalan",
                                    "NEV": "Csiger Bertalan",
                                    "foglalas": "6"
                                },
                                {
                                    "sorszam": "1",
                                    "USERNEV": "brigitta",
                                    "NEV": "Székely Brigitta",
                                    "foglalas": "5"
                                },
                                {
                                    "sorszam": "1",
                                    "USERNEV": "brigitta3",
                                    "NEV": "Pataki Brigitta",
                                    "foglalas": "5"
                                },
                                {
                                    "sorszam": "1",
                                    "USERNEV": "csongor3",
                                    "NEV": "Nagymihály Csongor",
                                    "foglalas": "8"
                                },
                                {
                                    "sorszam": "1",
                                    "USERNEV": "dani",
                                    "NEV": "Vörös Dániel",
                                    "foglalas": "9"
                                },
                                {
                                    "sorszam": "1",
                                    "USERNEV": "daniel",
                                    "NEV": "Rácz Dániel",
                                    "foglalas": "9"
                                },
                                {
                                    "sorszam": "1",
                                    "USERNEV": "daniel1",
                                    "NEV": "Keszler Dániel",
                                    "foglalas": "7"
                                },
                                {
                                    "sorszam": "1",
                                    "USERNEV": "david",
                                    "NEV": "Ambrus Dávid",
                                    "foglalas": "9"
                                },
                                {
                                    "sorszam": "1",
                                    "USERNEV": "david1",
                                    "NEV": "Sobják Dávid",
                                    "foglalas": "6"
                                },
                                {
                                    "sorszam": "1",
                                    "USERNEV": "david4",
                                    "NEV": "Berta Dávid",
                                    "foglalas": "1"
                                },
                                {
                                    "sorszam": "1",
                                    "USERNEV": "debora",
                                    "NEV": "Barna Debóra",
                                    "foglalas": "4"
                                },
                                {
                                    "sorszam": "1",
                                    "USERNEV": "denes",
                                    "NEV": "Tömböly Dénes",
                                    "foglalas": "6"
                                },
                                {
                                    "sorszam": "1",
                                    "USERNEV": "dora3",
                                    "NEV": "Sarodi Dóra",
                                    "foglalas": "5"
                                },
                                {
                                    "sorszam": "1",
                                    "USERNEV": "edit",
                                    "NEV": "Bittmann Edit",
                                    "foglalas": "7"
                                },
                                {
                                    "sorszam": "1",
                                    "USERNEV": "emese",
                                    "NEV": "Kuruc Emese",
                                    "foglalas": "7"
                                },
                                {
                                    "sorszam": "1",
                                    "USERNEV": "eszter",
                                    "NEV": "Molnár Eszter",
                                    "foglalas": "4"
                                },
                                {
                                    "sorszam": "1",
                                    "USERNEV": "eszter2",
                                    "NEV": "Balogh Eszter",
                                    "foglalas": "10"
                                },
                                {
                                    "sorszam": "1",
                                    "USERNEV": "eszter4",
                                    "NEV": "Fülöp Eszter",
                                    "foglalas": "3"
                                },
                                {
                                    "sorszam": "1",
                                    "USERNEV": "ESZTERE",
                                    "NEV": "Érsek Eszter",
                                    "foglalas": "4"
                                },
                                {
                                    "sorszam": "1",
                                    "USERNEV": "eva",
                                    "NEV": "Enyedi Éva",
                                    "foglalas": "2"
                                },
                                {
                                    "sorszam": "1",
                                    "USERNEV": "eva2",
                                    "NEV": "Perlinger Éva",
                                    "foglalas": "4"
                                },
                                {
                                    "sorszam": "1",
                                    "USERNEV": "EVAV",
                                    "NEV": "Viktor Éva",
                                    "foglalas": "5"
                                },
                                {
                                    "sorszam": "1",
                                    "USERNEV": "ferenc1",
                                    "NEV": "Orosz Ferenc",
                                    "foglalas": "4"
                                },
                                {
                                    "sorszam": "1",
                                    "USERNEV": "fruzsina4",
                                    "NEV": "Frank Fruzsina",
                                    "foglalas": "8"
                                },
                                {
                                    "sorszam": "1",
                                    "USERNEV": "gabor1",
                                    "NEV": "Köves Gábor",
                                    "foglalas": "6"
                                },
                                {
                                    "sorszam": "1",
                                    "USERNEV": "gabor4",
                                    "NEV": "Telek Gábor",
                                    "foglalas": "4"
                                },
                                {
                                    "sorszam": "1",
                                    "USERNEV": "gabriella1",
                                    "NEV": "Nagy Gabriella",
                                    "foglalas": "6"
                                },
                                {
                                    "sorszam": "1",
                                    "USERNEV": "gabriella10",
                                    "NEV": "Vida Gabriella",
                                    "foglalas": "1"
                                },
                                {
                                    "sorszam": "1",
                                    "USERNEV": "georgij",
                                    "NEV": "Nyíri Georgij",
                                    "foglalas": "4"
                                },
                                {
                                    "sorszam": "1",
                                    "USERNEV": "gusztav",
                                    "NEV": "Bárci Gusztáv",
                                    "foglalas": "5"
                                },
                                {
                                    "sorszam": "1",
                                    "USERNEV": "GYONGYIK",
                                    "NEV": "Kornseé Gyöngyi",
                                    "foglalas": "7"
                                },
                                {
                                    "sorszam": "1",
                                    "USERNEV": "GYORGYO",
                                    "NEV": "Oroszi György",
                                    "foglalas": "8"
                                },
                                {
                                    "sorszam": "1",
                                    "USERNEV": "henrik3",
                                    "NEV": "Nádudvari Henrik",
                                    "foglalas": "3"
                                },
                                {
                                    "sorszam": "1",
                                    "USERNEV": "IBOLYAA",
                                    "NEV": "Andor Ibolya",
                                    "foglalas": "3"
                                },
                                {
                                    "sorszam": "1",
                                    "USERNEV": "ilona3",
                                    "NEV": "Bosnyák Ilona",
                                    "foglalas": "4"
                                },
                                {
                                    "sorszam": "1",
                                    "USERNEV": "imre",
                                    "NEV": "Búza Imre",
                                    "foglalas": "2"
                                },
                                {
                                    "sorszam": "1",
                                    "USERNEV": "imre1",
                                    "NEV": "Papp Imre",
                                    "foglalas": "7"
                                },
                                {
                                    "sorszam": "1",
                                    "USERNEV": "istvan",
                                    "NEV": "Soós István",
                                    "foglalas": "3"
                                },
                                {
                                    "sorszam": "1",
                                    "USERNEV": "istvan1",
                                    "NEV": "Vizi István",
                                    "foglalas": "4"
                                },
                                {
                                    "sorszam": "1",
                                    "USERNEV": "ISTVANV",
                                    "NEV": "Varga István",
                                    "foglalas": "2"
                                },
                                {
                                    "sorszam": "1",
                                    "USERNEV": "janos3",
                                    "NEV": "Harangozó János",
                                    "foglalas": "5"
                                },
                                {
                                    "sorszam": "1",
                                    "USERNEV": "JANOSG",
                                    "NEV": "Giliga János",
                                    "foglalas": "7"
                                },
                                {
                                    "sorszam": "1",
                                    "USERNEV": "JANOSP",
                                    "NEV": "Pálinkás János",
                                    "foglalas": "4"
                                },
                                {
                                    "sorszam": "1",
                                    "USERNEV": "jozsef",
                                    "NEV": "Gergely József",
                                    "foglalas": "3"
                                },
                                {
                                    "sorszam": "1",
                                    "USERNEV": "jozsef2",
                                    "NEV": "Vajda József",
                                    "foglalas": "5"
                                },
                                {
                                    "sorszam": "1",
                                    "USERNEV": "JOZSEFG",
                                    "NEV": "Gyuris József",
                                    "foglalas": "7"
                                },
                                {
                                    "sorszam": "1",
                                    "USERNEV": "JUDITH",
                                    "NEV": "Hídasi Judit",
                                    "foglalas": "3"
                                },
                                {
                                    "sorszam": "1",
                                    "USERNEV": "julia",
                                    "NEV": "Tóth Júlia",
                                    "foglalas": "5"
                                },
                                {
                                    "sorszam": "1",
                                    "USERNEV": "julia4",
                                    "NEV": "Nagy Júlia",
                                    "foglalas": "2"
                                },
                                {
                                    "sorszam": "1",
                                    "USERNEV": "julianna4",
                                    "NEV": "Szabó Julianna",
                                    "foglalas": "4"
                                },
                                {
                                    "sorszam": "1",
                                    "USERNEV": "kata",
                                    "NEV": "Gondos Katalin",
                                    "foglalas": "10"
                                },
                                {
                                    "sorszam": "1",
                                    "USERNEV": "katalin",
                                    "NEV": "Horváth Katalin",
                                    "foglalas": "9"
                                },
                                {
                                    "sorszam": "1",
                                    "USERNEV": "katalin4",
                                    "NEV": "Kertész Katalin",
                                    "foglalas": "6"
                                },
                                {
                                    "sorszam": "1",
                                    "USERNEV": "kati",
                                    "NEV": "Zatykó Katalin",
                                    "foglalas": "7"
                                },
                                {
                                    "sorszam": "1",
                                    "USERNEV": "katka",
                                    "NEV": "Kovács Katalin",
                                    "foglalas": "9"
                                },
                                {
                                    "sorszam": "1",
                                    "USERNEV": "klaudia2",
                                    "NEV": "Bakó Klaudia",
                                    "foglalas": "3"
                                },
                                {
                                    "sorszam": "1",
                                    "USERNEV": "kornel4",
                                    "NEV": "Lukács Kornél",
                                    "foglalas": "3"
                                },
                                {
                                    "sorszam": "1",
                                    "USERNEV": "kristof4",
                                    "NEV": "Poprádi Kristóf",
                                    "foglalas": "2"
                                },
                                {
                                    "sorszam": "1",
                                    "USERNEV": "kriszti",
                                    "NEV": "Horváth Krisztina",
                                    "foglalas": "6"
                                },
                                {
                                    "sorszam": "1",
                                    "USERNEV": "krisztian4",
                                    "NEV": "Czérna Krisztián",
                                    "foglalas": "12"
                                },
                                {
                                    "sorszam": "1",
                                    "USERNEV": "KRISZTIANM",
                                    "NEV": "Mogyródi Krisztián",
                                    "foglalas": "6"
                                },
                                {
                                    "sorszam": "1",
                                    "USERNEV": "krisztina",
                                    "NEV": "Szedlár Krisztina",
                                    "foglalas": "8"
                                },
                                {
                                    "sorszam": "1",
                                    "USERNEV": "krisztina1",
                                    "NEV": "Bori Krisztina",
                                    "foglalas": "6"
                                },
                                {
                                    "sorszam": "1",
                                    "USERNEV": "KRISZTINAG",
                                    "NEV": "Gyárfás Krisztina",
                                    "foglalas": "5"
                                },
                                {
                                    "sorszam": "1",
                                    "USERNEV": "lajos",
                                    "NEV": "Kiss Lajos",
                                    "foglalas": "3"
                                },
                                {
                                    "sorszam": "1",
                                    "USERNEV": "lala",
                                    "NEV": "Nagymihály Lajos",
                                    "foglalas": "6"
                                },
                                {
                                    "sorszam": "1",
                                    "USERNEV": "laszlo1",
                                    "NEV": "Farkas László",
                                    "foglalas": "1"
                                },
                                {
                                    "sorszam": "1",
                                    "USERNEV": "laszlo2",
                                    "NEV": "Móra László",
                                    "foglalas": "5"
                                },
                                {
                                    "sorszam": "1",
                                    "USERNEV": "LASZLOA",
                                    "NEV": "Antal László",
                                    "foglalas": "4"
                                },
                                {
                                    "sorszam": "1",
                                    "USERNEV": "LASZLON",
                                    "NEV": "Nagy László",
                                    "foglalas": "6"
                                },
                                {
                                    "sorszam": "1",
                                    "USERNEV": "maria1",
                                    "NEV": "Baráth Mária",
                                    "foglalas": "8"
                                },
                                {
                                    "sorszam": "1",
                                    "USERNEV": "mark",
                                    "NEV": "Kispál Márk",
                                    "foglalas": "5"
                                },
                                {
                                    "sorszam": "1",
                                    "USERNEV": "MARKH",
                                    "NEV": "Horváth Márk",
                                    "foglalas": "4"
                                },
                                {
                                    "sorszam": "1",
                                    "USERNEV": "marton",
                                    "NEV": "Kalacsi Márton",
                                    "foglalas": "7"
                                },
                                {
                                    "sorszam": "1",
                                    "USERNEV": "MATEK",
                                    "NEV": "Koza Máté",
                                    "foglalas": "3"
                                },
                                {
                                    "sorszam": "1",
                                    "USERNEV": "matyas2",
                                    "NEV": "Botka Mátyás",
                                    "foglalas": "2"
                                },
                                {
                                    "sorszam": "1",
                                    "USERNEV": "MATYASS",
                                    "NEV": "Szilágyi Mátyás",
                                    "foglalas": "8"
                                },
                                {
                                    "sorszam": "1",
                                    "USERNEV": "MIHALYJ",
                                    "NEV": "Juhász Mihály",
                                    "foglalas": "5"
                                },
                                {
                                    "sorszam": "1",
                                    "USERNEV": "miklos2",
                                    "NEV": "Gondos Miklós",
                                    "foglalas": "3"
                                },
                                {
                                    "sorszam": "1",
                                    "USERNEV": "MIKLOSB",
                                    "NEV": "Balla Miklós",
                                    "foglalas": "3"
                                },
                                {
                                    "sorszam": "1",
                                    "USERNEV": "MONIKAM",
                                    "NEV": "Mohos Mónika",
                                    "foglalas": "6"
                                },
                                {
                                    "sorszam": "1",
                                    "USERNEV": "NANDORF",
                                    "NEV": "Fő Nándor",
                                    "foglalas": "3"
                                },
                                {
                                    "sorszam": "1",
                                    "USERNEV": "nikolett3",
                                    "NEV": "Horváth Nikolett",
                                    "foglalas": "4"
                                },
                                {
                                    "sorszam": "1",
                                    "USERNEV": "nikoletta4",
                                    "NEV": "Kő Nikoletta",
                                    "foglalas": "7"
                                },
                                {
                                    "sorszam": "1",
                                    "USERNEV": "NIKOLETTAT",
                                    "NEV": "Tatár Nikoletta",
                                    "foglalas": "4"
                                },
                                {
                                    "sorszam": "1",
                                    "USERNEV": "norbert",
                                    "NEV": "Szűcs Norbert",
                                    "foglalas": "5"
                                },
                                {
                                    "sorszam": "1",
                                    "USERNEV": "norbert2",
                                    "NEV": "Hegedűs Norbert",
                                    "foglalas": "7"
                                },
                                {
                                    "sorszam": "1",
                                    "USERNEV": "norbert4",
                                    "NEV": "Mile Norbert",
                                    "foglalas": "9"
                                },
                                {
                                    "sorszam": "1",
                                    "USERNEV": "norbert5",
                                    "NEV": "Béres Norbert",
                                    "foglalas": "3"
                                },
                                {
                                    "sorszam": "1",
                                    "USERNEV": "pal",
                                    "NEV": "Barabás Pál",
                                    "foglalas": "5"
                                },
                                {
                                    "sorszam": "1",
                                    "USERNEV": "peter1",
                                    "NEV": "Kozma Péter",
                                    "foglalas": "4"
                                },
                                {
                                    "sorszam": "1",
                                    "USERNEV": "peter2",
                                    "NEV": "Bozsó Péter",
                                    "foglalas": "4"
                                },
                                {
                                    "sorszam": "1",
                                    "USERNEV": "peter3",
                                    "NEV": "Szalai Péter",
                                    "foglalas": "6"
                                },
                                {
                                    "sorszam": "1",
                                    "USERNEV": "peter4",
                                    "NEV": "Bíró Péter",
                                    "foglalas": "12"
                                },
                                {
                                    "sorszam": "1",
                                    "USERNEV": "PETERB",
                                    "NEV": "Berendi Péter",
                                    "foglalas": "5"
                                },
                                {
                                    "sorszam": "1",
                                    "USERNEV": "polla",
                                    "NEV": "Palágyi Polla",
                                    "foglalas": "6"
                                },
                                {
                                    "sorszam": "1",
                                    "USERNEV": "rajmond4",
                                    "NEV": "Rácz Rajmond",
                                    "foglalas": "4"
                                },
                                {
                                    "sorszam": "1",
                                    "USERNEV": "reka4",
                                    "NEV": "Szikszai Réka",
                                    "foglalas": "5"
                                },
                                {
                                    "sorszam": "1",
                                    "USERNEV": "RENATAK",
                                    "NEV": "Kardos Renáta",
                                    "foglalas": "6"
                                },
                                {
                                    "sorszam": "1",
                                    "USERNEV": "RENATAS",
                                    "NEV": "Szirmai Renáta",
                                    "foglalas": "5"
                                },
                                {
                                    "sorszam": "1",
                                    "USERNEV": "robert2",
                                    "NEV": "Patay Róbert",
                                    "foglalas": "4"
                                },
                                {
                                    "sorszam": "1",
                                    "USERNEV": "ROBERTI",
                                    "NEV": "Iván Róbert",
                                    "foglalas": "8"
                                },
                                {
                                    "sorszam": "1",
                                    "USERNEV": "ROBERTP",
                                    "NEV": "Pásztor Róbert",
                                    "foglalas": "2"
                                },
                                {
                                    "sorszam": "1",
                                    "USERNEV": "roland",
                                    "NEV": "Tóth Roland",
                                    "foglalas": "4"
                                },
                                {
                                    "sorszam": "1",
                                    "USERNEV": "roland1",
                                    "NEV": "Ferencz Roland",
                                    "foglalas": "4"
                                },
                                {
                                    "sorszam": "1",
                                    "USERNEV": "roza2",
                                    "NEV": "Bucskó Róza",
                                    "foglalas": "3"
                                },
                                {
                                    "sorszam": "1",
                                    "USERNEV": "sandor",
                                    "NEV": "Karasz Sándor",
                                    "foglalas": "4"
                                },
                                {
                                    "sorszam": "1",
                                    "USERNEV": "sandor3",
                                    "NEV": "Farkas Sándor",
                                    "foglalas": "5"
                                },
                                {
                                    "sorszam": "1",
                                    "USERNEV": "sandor4",
                                    "NEV": "Nagy Sándor",
                                    "foglalas": "4"
                                },
                                {
                                    "sorszam": "1",
                                    "USERNEV": "sara",
                                    "NEV": "Farkas Sára",
                                    "foglalas": "12"
                                },
                                {
                                    "sorszam": "1",
                                    "USERNEV": "SEBASTIANF",
                                    "NEV": "Foltényi Sebastián",
                                    "foglalas": "5"
                                },
                                {
                                    "sorszam": "1",
                                    "USERNEV": "sebestyen",
                                    "NEV": "Rab Sebestyén",
                                    "foglalas": "4"
                                },
                                {
                                    "sorszam": "1",
                                    "USERNEV": "szabolcs",
                                    "NEV": "Bodor Szabolcs",
                                    "foglalas": "1"
                                },
                                {
                                    "sorszam": "1",
                                    "USERNEV": "SZABOLCSM",
                                    "NEV": "Miklós Szabolcs",
                                    "foglalas": "7"
                                },
                                {
                                    "sorszam": "1",
                                    "USERNEV": "SZILARDS",
                                    "NEV": "Szalai Szilárd",
                                    "foglalas": "7"
                                },
                                {
                                    "sorszam": "1",
                                    "USERNEV": "szilvia1",
                                    "NEV": "Tari Szilvia",
                                    "foglalas": "9"
                                },
                                {
                                    "sorszam": "1",
                                    "USERNEV": "tamara2",
                                    "NEV": "Miklós Tamara",
                                    "foglalas": "2"
                                },
                                {
                                    "sorszam": "1",
                                    "USERNEV": "tamas",
                                    "NEV": "Antal Tamás",
                                    "foglalas": "4"
                                },
                                {
                                    "sorszam": "1",
                                    "USERNEV": "TAMASF",
                                    "NEV": "Fényes Tamás",
                                    "foglalas": "9"
                                },
                                {
                                    "sorszam": "1",
                                    "USERNEV": "tibor",
                                    "NEV": "Gombos Tibor",
                                    "foglalas": "2"
                                },
                                {
                                    "sorszam": "1",
                                    "USERNEV": "tibor2",
                                    "NEV": "Dániel Tibor",
                                    "foglalas": "1"
                                },
                                {
                                    "sorszam": "1",
                                    "USERNEV": "tihamer",
                                    "NEV": "Kazy Tihamér",
                                    "foglalas": "6"
                                },
                                {
                                    "sorszam": "1",
                                    "USERNEV": "timea",
                                    "NEV": "Papós Tímea",
                                    "foglalas": "1"
                                },
                                {
                                    "sorszam": "1",
                                    "USERNEV": "timea2",
                                    "NEV": "Dusha Tímea",
                                    "foglalas": "5"
                                },
                                {
                                    "sorszam": "1",
                                    "USERNEV": "tunde",
                                    "NEV": "Turcsik Tünde",
                                    "foglalas": "8"
                                },
                                {
                                    "sorszam": "1",
                                    "USERNEV": "valentin",
                                    "NEV": "Feró Valentin",
                                    "foglalas": "5"
                                },
                                {
                                    "sorszam": "1",
                                    "USERNEV": "veronika4",
                                    "NEV": "Tankó Veronika",
                                    "foglalas": "6"
                                },
                                {
                                    "sorszam": "1",
                                    "USERNEV": "VIKTORIAU",
                                    "NEV": "Urbán Viktoria",
                                    "foglalas": "4"
                                },
                                {
                                    "sorszam": "1",
                                    "USERNEV": "VIKTORK",
                                    "NEV": "Keresztúri Viktor",
                                    "foglalas": "2"
                                },
                                {
                                    "sorszam": "1",
                                    "USERNEV": "vivien3",
                                    "NEV": "Boros Vivien",
                                    "foglalas": "7"
                                },
                                {
                                    "sorszam": "1",
                                    "USERNEV": "zoltan",
                                    "NEV": "Fodor Zoltán",
                                    "foglalas": "2"
                                },
                                {
                                    "sorszam": "1",
                                    "USERNEV": "zoltan4",
                                    "NEV": "Barna Zoltán",
                                    "foglalas": "12"
                                },
                                {
                                    "sorszam": "1",
                                    "USERNEV": "ZOLTANP",
                                    "NEV": "Pintér Zoltán",
                                    "foglalas": "6"
                                },
                                {
                                    "sorszam": "1",
                                    "USERNEV": "ZOLTANT",
                                    "NEV": "Tóth Zoltán",
                                    "foglalas": "3"
                                },
                                {
                                    "sorszam": "1",
                                    "USERNEV": "zsofi1",
                                    "NEV": "Molnár Zsófi",
                                    "foglalas": "2"
                                },
                                {
                                    "sorszam": "1",
                                    "USERNEV": "zsolt1",
                                    "NEV": "Pulai Zsolt",
                                    "foglalas": "4"
                                },
                                {
                                    "sorszam": "1",
                                    "USERNEV": "ZSOLTJ",
                                    "NEV": "Józsa Zsolt",
                                    "foglalas": "6"
                                },
                                {
                                    "sorszam": "1",
                                    "USERNEV": "zsuzsa",
                                    "NEV": "Pusztai Zsuzsanna",
                                    "foglalas": "3"
                                },
                                {
                                    "sorszam": "1",
                                    "USERNEV": "zsuzsa3",
                                    "NEV": "Varsányi Zsuzsa",
                                    "foglalas": "4"
                                },
                                {
                                    "sorszam": "1",
                                    "USERNEV": "zsuzsanna",
                                    "NEV": "Barta Zsuzsanna",
                                    "foglalas": "4"
                                },
                                {
                                    "sorszam": "1",
                                    "USERNEV": "ZSUZSAV",
                                    "NEV": "Vajda Zsuzsa",
                                    "foglalas": "6"
                                }
                            ]
                        },
                        "text/html": [
                            "<table>",
                            "<tr><th>sorszam</th><th>USERNEV</th><th>NEV</th><th>foglalas</th></tr>",
                            "<tr><td>1</td><td>adam1</td><td>Kiss Ádám</td><td>3</td></tr>",
                            "<tr><td>1</td><td>adam3</td><td>Barkóci Ádám</td><td>2</td></tr>",
                            "<tr><td>1</td><td>adam4</td><td>Bieniek Ádám</td><td>6</td></tr>",
                            "<tr><td>1</td><td>agnes</td><td>Lengyel Ágnes</td><td>5</td></tr>",
                            "<tr><td>1</td><td>agnes3</td><td>Hartyánszky Ágnes</td><td>3</td></tr>",
                            "<tr><td>1</td><td>AGNESH</td><td>Horváth Ágnes</td><td>6</td></tr>",
                            "<tr><td>1</td><td>AGNESK</td><td>Kovács Ágnes</td><td>3</td></tr>",
                            "<tr><td>1</td><td>akos</td><td>Bíró Ákos</td><td>10</td></tr>",
                            "<tr><td>1</td><td>aladar</td><td>Dunai Aladár</td><td>3</td></tr>",
                            "<tr><td>1</td><td>alexandra</td><td>Bagóczki Alexandra</td><td>7</td></tr>",
                            "<tr><td>1</td><td>andi</td><td>Maródi Andrea</td><td>5</td></tr>",
                            "<tr><td>1</td><td>andras2</td><td>Tóth András</td><td>5</td></tr>",
                            "<tr><td>1</td><td>andras21</td><td>Molnár András</td><td>7</td></tr>",
                            "<tr><td>1</td><td>andras3</td><td>Vígh András</td><td>8</td></tr>",
                            "<tr><td>1</td><td>andras4</td><td>Back András</td><td>3</td></tr>",
                            "<tr><td>1</td><td>andras41</td><td>Komjáti András</td><td>13</td></tr>",
                            "<tr><td>1</td><td>ANDRASE</td><td>Erdei András</td><td>5</td></tr>",
                            "<tr><td>1</td><td>ANDRASN</td><td>Nagy András</td><td>1</td></tr>",
                            "<tr><td>1</td><td>andrea</td><td>Kiss Andrea</td><td>6</td></tr>",
                            "<tr><td>1</td><td>andrea3</td><td>Szomor Andrea</td><td>1</td></tr>",
                            "<tr><td>1</td><td>andrea4</td><td>Neizer Andrea</td><td>4</td></tr>",
                            "<tr><td>1</td><td>ANDREAT</td><td>Tornyos Andrea</td><td>3</td></tr>",
                            "<tr><td>1</td><td>anett3</td><td>Pivarcsi Anett</td><td>8</td></tr>",
                            "<tr><td>1</td><td>aniko</td><td>Tóth Anikó</td><td>3</td></tr>",
                            "<tr><td>1</td><td>aniko4</td><td>Böröcz Anikó</td><td>4</td></tr>",
                            "<tr><td>1</td><td>ANIKOS</td><td>Simon Anikó</td><td>9</td></tr>",
                            "<tr><td>1</td><td>anita</td><td>Hamvay-Kovács Anita</td><td>4</td></tr>",
                            "<tr><td>1</td><td>annamaria1</td><td>Szűcs Annamária</td><td>2</td></tr>",
                            "<tr><td>1</td><td>ANNAMARIAR</td><td>Regős Annamária</td><td>6</td></tr>",
                            "<tr><td>1</td><td>aron2</td><td>Jakab Áron</td><td>6</td></tr>",
                            "<tr><td>1</td><td>ARONK</td><td>Kelemen Áron</td><td>13</td></tr>",
                            "<tr><td>1</td><td>arpad2</td><td>Ötvös Árpád</td><td>7</td></tr>",
                            "<tr><td>1</td><td>ARPADH</td><td>Horváth Árpád</td><td>7</td></tr>",
                            "<tr><td>1</td><td>ARPADM</td><td>Móricz Árpád</td><td>6</td></tr>",
                            "<tr><td>1</td><td>attila</td><td>Csóti Attila</td><td>3</td></tr>",
                            "<tr><td>1</td><td>attila1</td><td>Gulyás Attila</td><td>6</td></tr>",
                            "<tr><td>1</td><td>attila4</td><td>Baróti Attila</td><td>3</td></tr>",
                            "<tr><td>1</td><td>ATTILAO</td><td>Opra Attila</td><td>4</td></tr>",
                            "<tr><td>1</td><td>balazs1</td><td>Bozsik Balázs</td><td>6</td></tr>",
                            "<tr><td>1</td><td>balazs2</td><td>Szűcs Balázs</td><td>10</td></tr>",
                            "<tr><td>1</td><td>balazs3</td><td>Bakódy Balázs</td><td>6</td></tr>",
                            "<tr><td>1</td><td>balint</td><td>Horváth Bálint</td><td>3</td></tr>",
                            "<tr><td>1</td><td>balint1</td><td>Molnár Bálint</td><td>10</td></tr>",
                            "<tr><td>1</td><td>balint2</td><td>Vukasinovity Bálint</td><td>2</td></tr>",
                            "<tr><td>1</td><td>balu</td><td>Endresz Bálint</td><td>2</td></tr>",
                            "<tr><td>1</td><td>beata4</td><td>Bagi Beáta</td><td>6</td></tr>",
                            "<tr><td>1</td><td>BEATRIXK</td><td>Kerényi Beatrix</td><td>9</td></tr>",
                            "<tr><td>1</td><td>BEATRIXS</td><td>Szekendi Beatrix</td><td>6</td></tr>",
                            "<tr><td>1</td><td>BELAF</td><td>Farkas Béla</td><td>6</td></tr>",
                            "<tr><td>1</td><td>bence</td><td>Győrffy Bence</td><td>9</td></tr>",
                            "<tr><td>1</td><td>BENCEB</td><td>Bajusz Bence</td><td>6</td></tr>",
                            "<tr><td>1</td><td>bernadett1</td><td>Simon Bernadett</td><td>7</td></tr>",
                            "<tr><td>1</td><td>bernadett2</td><td>Kovács Bernadett</td><td>8</td></tr>",
                            "<tr><td>1</td><td>BERNADETTO</td><td>Orbán Bernadett</td><td>7</td></tr>",
                            "<tr><td>1</td><td>bertalan</td><td>Csiger Bertalan</td><td>6</td></tr>",
                            "<tr><td>1</td><td>brigitta</td><td>Székely Brigitta</td><td>5</td></tr>",
                            "<tr><td>1</td><td>brigitta3</td><td>Pataki Brigitta</td><td>5</td></tr>",
                            "<tr><td>1</td><td>csongor3</td><td>Nagymihály Csongor</td><td>8</td></tr>",
                            "<tr><td>1</td><td>dani</td><td>Vörös Dániel</td><td>9</td></tr>",
                            "<tr><td>1</td><td>daniel</td><td>Rácz Dániel</td><td>9</td></tr>",
                            "<tr><td>1</td><td>daniel1</td><td>Keszler Dániel</td><td>7</td></tr>",
                            "<tr><td>1</td><td>david</td><td>Ambrus Dávid</td><td>9</td></tr>",
                            "<tr><td>1</td><td>david1</td><td>Sobják Dávid</td><td>6</td></tr>",
                            "<tr><td>1</td><td>david4</td><td>Berta Dávid</td><td>1</td></tr>",
                            "<tr><td>1</td><td>debora</td><td>Barna Debóra</td><td>4</td></tr>",
                            "<tr><td>1</td><td>denes</td><td>Tömböly Dénes</td><td>6</td></tr>",
                            "<tr><td>1</td><td>dora3</td><td>Sarodi Dóra</td><td>5</td></tr>",
                            "<tr><td>1</td><td>edit</td><td>Bittmann Edit</td><td>7</td></tr>",
                            "<tr><td>1</td><td>emese</td><td>Kuruc Emese</td><td>7</td></tr>",
                            "<tr><td>1</td><td>eszter</td><td>Molnár Eszter</td><td>4</td></tr>",
                            "<tr><td>1</td><td>eszter2</td><td>Balogh Eszter</td><td>10</td></tr>",
                            "<tr><td>1</td><td>eszter4</td><td>Fülöp Eszter</td><td>3</td></tr>",
                            "<tr><td>1</td><td>ESZTERE</td><td>Érsek Eszter</td><td>4</td></tr>",
                            "<tr><td>1</td><td>eva</td><td>Enyedi Éva</td><td>2</td></tr>",
                            "<tr><td>1</td><td>eva2</td><td>Perlinger Éva</td><td>4</td></tr>",
                            "<tr><td>1</td><td>EVAV</td><td>Viktor Éva</td><td>5</td></tr>",
                            "<tr><td>1</td><td>ferenc1</td><td>Orosz Ferenc</td><td>4</td></tr>",
                            "<tr><td>1</td><td>fruzsina4</td><td>Frank Fruzsina</td><td>8</td></tr>",
                            "<tr><td>1</td><td>gabor1</td><td>Köves Gábor</td><td>6</td></tr>",
                            "<tr><td>1</td><td>gabor4</td><td>Telek Gábor</td><td>4</td></tr>",
                            "<tr><td>1</td><td>gabriella1</td><td>Nagy Gabriella</td><td>6</td></tr>",
                            "<tr><td>1</td><td>gabriella10</td><td>Vida Gabriella</td><td>1</td></tr>",
                            "<tr><td>1</td><td>georgij</td><td>Nyíri Georgij</td><td>4</td></tr>",
                            "<tr><td>1</td><td>gusztav</td><td>Bárci Gusztáv</td><td>5</td></tr>",
                            "<tr><td>1</td><td>GYONGYIK</td><td>Kornseé Gyöngyi</td><td>7</td></tr>",
                            "<tr><td>1</td><td>GYORGYO</td><td>Oroszi György</td><td>8</td></tr>",
                            "<tr><td>1</td><td>henrik3</td><td>Nádudvari Henrik</td><td>3</td></tr>",
                            "<tr><td>1</td><td>IBOLYAA</td><td>Andor Ibolya</td><td>3</td></tr>",
                            "<tr><td>1</td><td>ilona3</td><td>Bosnyák Ilona</td><td>4</td></tr>",
                            "<tr><td>1</td><td>imre</td><td>Búza Imre</td><td>2</td></tr>",
                            "<tr><td>1</td><td>imre1</td><td>Papp Imre</td><td>7</td></tr>",
                            "<tr><td>1</td><td>istvan</td><td>Soós István</td><td>3</td></tr>",
                            "<tr><td>1</td><td>istvan1</td><td>Vizi István</td><td>4</td></tr>",
                            "<tr><td>1</td><td>ISTVANV</td><td>Varga István</td><td>2</td></tr>",
                            "<tr><td>1</td><td>janos3</td><td>Harangozó János</td><td>5</td></tr>",
                            "<tr><td>1</td><td>JANOSG</td><td>Giliga János</td><td>7</td></tr>",
                            "<tr><td>1</td><td>JANOSP</td><td>Pálinkás János</td><td>4</td></tr>",
                            "<tr><td>1</td><td>jozsef</td><td>Gergely József</td><td>3</td></tr>",
                            "<tr><td>1</td><td>jozsef2</td><td>Vajda József</td><td>5</td></tr>",
                            "<tr><td>1</td><td>JOZSEFG</td><td>Gyuris József</td><td>7</td></tr>",
                            "<tr><td>1</td><td>JUDITH</td><td>Hídasi Judit</td><td>3</td></tr>",
                            "<tr><td>1</td><td>julia</td><td>Tóth Júlia</td><td>5</td></tr>",
                            "<tr><td>1</td><td>julia4</td><td>Nagy Júlia</td><td>2</td></tr>",
                            "<tr><td>1</td><td>julianna4</td><td>Szabó Julianna</td><td>4</td></tr>",
                            "<tr><td>1</td><td>kata</td><td>Gondos Katalin</td><td>10</td></tr>",
                            "<tr><td>1</td><td>katalin</td><td>Horváth Katalin</td><td>9</td></tr>",
                            "<tr><td>1</td><td>katalin4</td><td>Kertész Katalin</td><td>6</td></tr>",
                            "<tr><td>1</td><td>kati</td><td>Zatykó Katalin</td><td>7</td></tr>",
                            "<tr><td>1</td><td>katka</td><td>Kovács Katalin</td><td>9</td></tr>",
                            "<tr><td>1</td><td>klaudia2</td><td>Bakó Klaudia</td><td>3</td></tr>",
                            "<tr><td>1</td><td>kornel4</td><td>Lukács Kornél</td><td>3</td></tr>",
                            "<tr><td>1</td><td>kristof4</td><td>Poprádi Kristóf</td><td>2</td></tr>",
                            "<tr><td>1</td><td>kriszti</td><td>Horváth Krisztina</td><td>6</td></tr>",
                            "<tr><td>1</td><td>krisztian4</td><td>Czérna Krisztián</td><td>12</td></tr>",
                            "<tr><td>1</td><td>KRISZTIANM</td><td>Mogyródi Krisztián</td><td>6</td></tr>",
                            "<tr><td>1</td><td>krisztina</td><td>Szedlár Krisztina</td><td>8</td></tr>",
                            "<tr><td>1</td><td>krisztina1</td><td>Bori Krisztina</td><td>6</td></tr>",
                            "<tr><td>1</td><td>KRISZTINAG</td><td>Gyárfás Krisztina</td><td>5</td></tr>",
                            "<tr><td>1</td><td>lajos</td><td>Kiss Lajos</td><td>3</td></tr>",
                            "<tr><td>1</td><td>lala</td><td>Nagymihály Lajos</td><td>6</td></tr>",
                            "<tr><td>1</td><td>laszlo1</td><td>Farkas László</td><td>1</td></tr>",
                            "<tr><td>1</td><td>laszlo2</td><td>Móra László</td><td>5</td></tr>",
                            "<tr><td>1</td><td>LASZLOA</td><td>Antal László</td><td>4</td></tr>",
                            "<tr><td>1</td><td>LASZLON</td><td>Nagy László</td><td>6</td></tr>",
                            "<tr><td>1</td><td>maria1</td><td>Baráth Mária</td><td>8</td></tr>",
                            "<tr><td>1</td><td>mark</td><td>Kispál Márk</td><td>5</td></tr>",
                            "<tr><td>1</td><td>MARKH</td><td>Horváth Márk</td><td>4</td></tr>",
                            "<tr><td>1</td><td>marton</td><td>Kalacsi Márton</td><td>7</td></tr>",
                            "<tr><td>1</td><td>MATEK</td><td>Koza Máté</td><td>3</td></tr>",
                            "<tr><td>1</td><td>matyas2</td><td>Botka Mátyás</td><td>2</td></tr>",
                            "<tr><td>1</td><td>MATYASS</td><td>Szilágyi Mátyás</td><td>8</td></tr>",
                            "<tr><td>1</td><td>MIHALYJ</td><td>Juhász Mihály</td><td>5</td></tr>",
                            "<tr><td>1</td><td>miklos2</td><td>Gondos Miklós</td><td>3</td></tr>",
                            "<tr><td>1</td><td>MIKLOSB</td><td>Balla Miklós</td><td>3</td></tr>",
                            "<tr><td>1</td><td>MONIKAM</td><td>Mohos Mónika</td><td>6</td></tr>",
                            "<tr><td>1</td><td>NANDORF</td><td>Fő Nándor</td><td>3</td></tr>",
                            "<tr><td>1</td><td>nikolett3</td><td>Horváth Nikolett</td><td>4</td></tr>",
                            "<tr><td>1</td><td>nikoletta4</td><td>Kő Nikoletta</td><td>7</td></tr>",
                            "<tr><td>1</td><td>NIKOLETTAT</td><td>Tatár Nikoletta</td><td>4</td></tr>",
                            "<tr><td>1</td><td>norbert</td><td>Szűcs Norbert</td><td>5</td></tr>",
                            "<tr><td>1</td><td>norbert2</td><td>Hegedűs Norbert</td><td>7</td></tr>",
                            "<tr><td>1</td><td>norbert4</td><td>Mile Norbert</td><td>9</td></tr>",
                            "<tr><td>1</td><td>norbert5</td><td>Béres Norbert</td><td>3</td></tr>",
                            "<tr><td>1</td><td>pal</td><td>Barabás Pál</td><td>5</td></tr>",
                            "<tr><td>1</td><td>peter1</td><td>Kozma Péter</td><td>4</td></tr>",
                            "<tr><td>1</td><td>peter2</td><td>Bozsó Péter</td><td>4</td></tr>",
                            "<tr><td>1</td><td>peter3</td><td>Szalai Péter</td><td>6</td></tr>",
                            "<tr><td>1</td><td>peter4</td><td>Bíró Péter</td><td>12</td></tr>",
                            "<tr><td>1</td><td>PETERB</td><td>Berendi Péter</td><td>5</td></tr>",
                            "<tr><td>1</td><td>polla</td><td>Palágyi Polla</td><td>6</td></tr>",
                            "<tr><td>1</td><td>rajmond4</td><td>Rácz Rajmond</td><td>4</td></tr>",
                            "<tr><td>1</td><td>reka4</td><td>Szikszai Réka</td><td>5</td></tr>",
                            "<tr><td>1</td><td>RENATAK</td><td>Kardos Renáta</td><td>6</td></tr>",
                            "<tr><td>1</td><td>RENATAS</td><td>Szirmai Renáta</td><td>5</td></tr>",
                            "<tr><td>1</td><td>robert2</td><td>Patay Róbert</td><td>4</td></tr>",
                            "<tr><td>1</td><td>ROBERTI</td><td>Iván Róbert</td><td>8</td></tr>",
                            "<tr><td>1</td><td>ROBERTP</td><td>Pásztor Róbert</td><td>2</td></tr>",
                            "<tr><td>1</td><td>roland</td><td>Tóth Roland</td><td>4</td></tr>",
                            "<tr><td>1</td><td>roland1</td><td>Ferencz Roland</td><td>4</td></tr>",
                            "<tr><td>1</td><td>roza2</td><td>Bucskó Róza</td><td>3</td></tr>",
                            "<tr><td>1</td><td>sandor</td><td>Karasz Sándor</td><td>4</td></tr>",
                            "<tr><td>1</td><td>sandor3</td><td>Farkas Sándor</td><td>5</td></tr>",
                            "<tr><td>1</td><td>sandor4</td><td>Nagy Sándor</td><td>4</td></tr>",
                            "<tr><td>1</td><td>sara</td><td>Farkas Sára</td><td>12</td></tr>",
                            "<tr><td>1</td><td>SEBASTIANF</td><td>Foltényi Sebastián</td><td>5</td></tr>",
                            "<tr><td>1</td><td>sebestyen</td><td>Rab Sebestyén</td><td>4</td></tr>",
                            "<tr><td>1</td><td>szabolcs</td><td>Bodor Szabolcs</td><td>1</td></tr>",
                            "<tr><td>1</td><td>SZABOLCSM</td><td>Miklós Szabolcs</td><td>7</td></tr>",
                            "<tr><td>1</td><td>SZILARDS</td><td>Szalai Szilárd</td><td>7</td></tr>",
                            "<tr><td>1</td><td>szilvia1</td><td>Tari Szilvia</td><td>9</td></tr>",
                            "<tr><td>1</td><td>tamara2</td><td>Miklós Tamara</td><td>2</td></tr>",
                            "<tr><td>1</td><td>tamas</td><td>Antal Tamás</td><td>4</td></tr>",
                            "<tr><td>1</td><td>TAMASF</td><td>Fényes Tamás</td><td>9</td></tr>",
                            "<tr><td>1</td><td>tibor</td><td>Gombos Tibor</td><td>2</td></tr>",
                            "<tr><td>1</td><td>tibor2</td><td>Dániel Tibor</td><td>1</td></tr>",
                            "<tr><td>1</td><td>tihamer</td><td>Kazy Tihamér</td><td>6</td></tr>",
                            "<tr><td>1</td><td>timea</td><td>Papós Tímea</td><td>1</td></tr>",
                            "<tr><td>1</td><td>timea2</td><td>Dusha Tímea</td><td>5</td></tr>",
                            "<tr><td>1</td><td>tunde</td><td>Turcsik Tünde</td><td>8</td></tr>",
                            "<tr><td>1</td><td>valentin</td><td>Feró Valentin</td><td>5</td></tr>",
                            "<tr><td>1</td><td>veronika4</td><td>Tankó Veronika</td><td>6</td></tr>",
                            "<tr><td>1</td><td>VIKTORIAU</td><td>Urbán Viktoria</td><td>4</td></tr>",
                            "<tr><td>1</td><td>VIKTORK</td><td>Keresztúri Viktor</td><td>2</td></tr>",
                            "<tr><td>1</td><td>vivien3</td><td>Boros Vivien</td><td>7</td></tr>",
                            "<tr><td>1</td><td>zoltan</td><td>Fodor Zoltán</td><td>2</td></tr>",
                            "<tr><td>1</td><td>zoltan4</td><td>Barna Zoltán</td><td>12</td></tr>",
                            "<tr><td>1</td><td>ZOLTANP</td><td>Pintér Zoltán</td><td>6</td></tr>",
                            "<tr><td>1</td><td>ZOLTANT</td><td>Tóth Zoltán</td><td>3</td></tr>",
                            "<tr><td>1</td><td>zsofi1</td><td>Molnár Zsófi</td><td>2</td></tr>",
                            "<tr><td>1</td><td>zsolt1</td><td>Pulai Zsolt</td><td>4</td></tr>",
                            "<tr><td>1</td><td>ZSOLTJ</td><td>Józsa Zsolt</td><td>6</td></tr>",
                            "<tr><td>1</td><td>zsuzsa</td><td>Pusztai Zsuzsanna</td><td>3</td></tr>",
                            "<tr><td>1</td><td>zsuzsa3</td><td>Varsányi Zsuzsa</td><td>4</td></tr>",
                            "<tr><td>1</td><td>zsuzsanna</td><td>Barta Zsuzsanna</td><td>4</td></tr>",
                            "<tr><td>1</td><td>ZSUZSAV</td><td>Vajda Zsuzsa</td><td>6</td></tr>",
                            "</table>"
                        ]
                    }
                }
            ],
            "execution_count": 40
        },
        {
            "cell_type": "markdown",
            "source": [
                "Jelenítsük meg, hogy hány foglalás történt szobánként, naponta (METTOL), valamint szobánként, azon belül naponta \n",
                "\n",
                "- Szempontonként külön-külön számoljuk a foglalásokat\n",
                "- A foglalások száma minden esetben legalább 2 legyen"
            ],
            "metadata": {
                "azdata_cell_guid": "6b8f2fcd-cd0f-4e92-a8af-18dabe925b86"
            },
            "attachments": {}
        },
        {
            "cell_type": "code",
            "source": [
                "SELECT SZOBA_ID, mettol, count(*)as db from Foglalas\r\n",
                "join Szoba on SZOBA_FK=SZOBA_ID\r\n",
                "group by grouping sets(SZOBA_ID,METTOL,(SZOBA_ID,METTOL))\r\n",
                "having count(*)>=2"
            ],
            "metadata": {
                "azdata_cell_guid": "e3df6251-1205-4119-8951-eed4ecc50e1d",
                "language": "sql"
            },
            "outputs": [
                {
                    "output_type": "display_data",
                    "data": {
                        "text/html": "(423 rows affected)"
                    },
                    "metadata": {}
                },
                {
                    "output_type": "display_data",
                    "data": {
                        "text/html": "Total execution time: 00:00:00.024"
                    },
                    "metadata": {}
                },
                {
                    "output_type": "execute_result",
                    "metadata": {},
                    "execution_count": 46,
                    "data": {
                        "application/vnd.dataresource+json": {
                            "schema": {
                                "fields": [
                                    {
                                        "name": "SZOBA_ID"
                                    },
                                    {
                                        "name": "mettol"
                                    },
                                    {
                                        "name": "db"
                                    }
                                ]
                            },
                            "data": [
                                {
                                    "SZOBA_ID": "NULL",
                                    "mettol": "2016-04-06",
                                    "db": "5"
                                },
                                {
                                    "SZOBA_ID": "NULL",
                                    "mettol": "2016-04-08",
                                    "db": "2"
                                },
                                {
                                    "SZOBA_ID": "NULL",
                                    "mettol": "2016-04-10",
                                    "db": "9"
                                },
                                {
                                    "SZOBA_ID": "NULL",
                                    "mettol": "2016-04-14",
                                    "db": "2"
                                },
                                {
                                    "SZOBA_ID": "NULL",
                                    "mettol": "2016-04-16",
                                    "db": "2"
                                },
                                {
                                    "SZOBA_ID": "NULL",
                                    "mettol": "2016-04-17",
                                    "db": "2"
                                },
                                {
                                    "SZOBA_ID": "NULL",
                                    "mettol": "2016-04-19",
                                    "db": "4"
                                },
                                {
                                    "SZOBA_ID": "NULL",
                                    "mettol": "2016-04-21",
                                    "db": "2"
                                },
                                {
                                    "SZOBA_ID": "NULL",
                                    "mettol": "2016-04-22",
                                    "db": "2"
                                },
                                {
                                    "SZOBA_ID": "NULL",
                                    "mettol": "2016-04-23",
                                    "db": "2"
                                },
                                {
                                    "SZOBA_ID": "NULL",
                                    "mettol": "2016-04-24",
                                    "db": "3"
                                },
                                {
                                    "SZOBA_ID": "NULL",
                                    "mettol": "2016-04-26",
                                    "db": "2"
                                },
                                {
                                    "SZOBA_ID": "NULL",
                                    "mettol": "2016-04-27",
                                    "db": "3"
                                },
                                {
                                    "SZOBA_ID": "NULL",
                                    "mettol": "2016-04-28",
                                    "db": "2"
                                },
                                {
                                    "SZOBA_ID": "NULL",
                                    "mettol": "2016-05-01",
                                    "db": "5"
                                },
                                {
                                    "SZOBA_ID": "NULL",
                                    "mettol": "2016-05-02",
                                    "db": "2"
                                },
                                {
                                    "SZOBA_ID": "NULL",
                                    "mettol": "2016-05-08",
                                    "db": "5"
                                },
                                {
                                    "SZOBA_ID": "NULL",
                                    "mettol": "2016-05-09",
                                    "db": "7"
                                },
                                {
                                    "SZOBA_ID": "NULL",
                                    "mettol": "2016-05-10",
                                    "db": "2"
                                },
                                {
                                    "SZOBA_ID": "NULL",
                                    "mettol": "2016-05-12",
                                    "db": "3"
                                },
                                {
                                    "SZOBA_ID": "NULL",
                                    "mettol": "2016-05-13",
                                    "db": "2"
                                },
                                {
                                    "SZOBA_ID": "NULL",
                                    "mettol": "2016-05-14",
                                    "db": "4"
                                },
                                {
                                    "SZOBA_ID": "NULL",
                                    "mettol": "2016-05-17",
                                    "db": "3"
                                },
                                {
                                    "SZOBA_ID": "NULL",
                                    "mettol": "2016-05-18",
                                    "db": "4"
                                },
                                {
                                    "SZOBA_ID": "NULL",
                                    "mettol": "2016-05-21",
                                    "db": "5"
                                },
                                {
                                    "SZOBA_ID": "NULL",
                                    "mettol": "2016-05-22",
                                    "db": "2"
                                },
                                {
                                    "SZOBA_ID": "NULL",
                                    "mettol": "2016-05-24",
                                    "db": "4"
                                },
                                {
                                    "SZOBA_ID": "NULL",
                                    "mettol": "2016-05-25",
                                    "db": "2"
                                },
                                {
                                    "SZOBA_ID": "NULL",
                                    "mettol": "2016-05-27",
                                    "db": "3"
                                },
                                {
                                    "SZOBA_ID": "NULL",
                                    "mettol": "2016-05-28",
                                    "db": "8"
                                },
                                {
                                    "SZOBA_ID": "NULL",
                                    "mettol": "2016-05-29",
                                    "db": "3"
                                },
                                {
                                    "SZOBA_ID": "NULL",
                                    "mettol": "2016-05-30",
                                    "db": "11"
                                },
                                {
                                    "SZOBA_ID": "NULL",
                                    "mettol": "2016-06-01",
                                    "db": "2"
                                },
                                {
                                    "SZOBA_ID": "NULL",
                                    "mettol": "2016-06-02",
                                    "db": "4"
                                },
                                {
                                    "SZOBA_ID": "165",
                                    "mettol": "2016-06-03",
                                    "db": "3"
                                },
                                {
                                    "SZOBA_ID": "NULL",
                                    "mettol": "2016-06-03",
                                    "db": "9"
                                },
                                {
                                    "SZOBA_ID": "NULL",
                                    "mettol": "2016-06-04",
                                    "db": "6"
                                },
                                {
                                    "SZOBA_ID": "NULL",
                                    "mettol": "2016-06-05",
                                    "db": "2"
                                },
                                {
                                    "SZOBA_ID": "NULL",
                                    "mettol": "2016-06-06",
                                    "db": "14"
                                },
                                {
                                    "SZOBA_ID": "40",
                                    "mettol": "2016-06-07",
                                    "db": "2"
                                },
                                {
                                    "SZOBA_ID": "160",
                                    "mettol": "2016-06-07",
                                    "db": "2"
                                },
                                {
                                    "SZOBA_ID": "NULL",
                                    "mettol": "2016-06-07",
                                    "db": "11"
                                },
                                {
                                    "SZOBA_ID": "NULL",
                                    "mettol": "2016-06-08",
                                    "db": "4"
                                },
                                {
                                    "SZOBA_ID": "NULL",
                                    "mettol": "2016-06-09",
                                    "db": "3"
                                },
                                {
                                    "SZOBA_ID": "NULL",
                                    "mettol": "2016-06-10",
                                    "db": "10"
                                },
                                {
                                    "SZOBA_ID": "NULL",
                                    "mettol": "2016-06-11",
                                    "db": "2"
                                },
                                {
                                    "SZOBA_ID": "NULL",
                                    "mettol": "2016-06-13",
                                    "db": "5"
                                },
                                {
                                    "SZOBA_ID": "NULL",
                                    "mettol": "2016-06-16",
                                    "db": "8"
                                },
                                {
                                    "SZOBA_ID": "NULL",
                                    "mettol": "2016-06-17",
                                    "db": "2"
                                },
                                {
                                    "SZOBA_ID": "NULL",
                                    "mettol": "2016-06-20",
                                    "db": "2"
                                },
                                {
                                    "SZOBA_ID": "NULL",
                                    "mettol": "2016-06-22",
                                    "db": "4"
                                },
                                {
                                    "SZOBA_ID": "NULL",
                                    "mettol": "2016-06-23",
                                    "db": "4"
                                },
                                {
                                    "SZOBA_ID": "NULL",
                                    "mettol": "2016-06-24",
                                    "db": "2"
                                },
                                {
                                    "SZOBA_ID": "NULL",
                                    "mettol": "2016-06-27",
                                    "db": "3"
                                },
                                {
                                    "SZOBA_ID": "NULL",
                                    "mettol": "2016-06-30",
                                    "db": "3"
                                },
                                {
                                    "SZOBA_ID": "NULL",
                                    "mettol": "2016-07-01",
                                    "db": "5"
                                },
                                {
                                    "SZOBA_ID": "NULL",
                                    "mettol": "2016-07-03",
                                    "db": "5"
                                },
                                {
                                    "SZOBA_ID": "NULL",
                                    "mettol": "2016-07-04",
                                    "db": "5"
                                },
                                {
                                    "SZOBA_ID": "NULL",
                                    "mettol": "2016-07-06",
                                    "db": "3"
                                },
                                {
                                    "SZOBA_ID": "NULL",
                                    "mettol": "2016-07-08",
                                    "db": "3"
                                },
                                {
                                    "SZOBA_ID": "NULL",
                                    "mettol": "2016-07-09",
                                    "db": "2"
                                },
                                {
                                    "SZOBA_ID": "NULL",
                                    "mettol": "2016-07-10",
                                    "db": "2"
                                },
                                {
                                    "SZOBA_ID": "NULL",
                                    "mettol": "2016-07-12",
                                    "db": "3"
                                },
                                {
                                    "SZOBA_ID": "NULL",
                                    "mettol": "2016-07-13",
                                    "db": "5"
                                },
                                {
                                    "SZOBA_ID": "NULL",
                                    "mettol": "2016-07-14",
                                    "db": "6"
                                },
                                {
                                    "SZOBA_ID": "NULL",
                                    "mettol": "2016-07-15",
                                    "db": "2"
                                },
                                {
                                    "SZOBA_ID": "NULL",
                                    "mettol": "2016-07-16",
                                    "db": "2"
                                },
                                {
                                    "SZOBA_ID": "NULL",
                                    "mettol": "2016-07-17",
                                    "db": "3"
                                },
                                {
                                    "SZOBA_ID": "NULL",
                                    "mettol": "2016-07-18",
                                    "db": "7"
                                },
                                {
                                    "SZOBA_ID": "NULL",
                                    "mettol": "2016-07-19",
                                    "db": "3"
                                },
                                {
                                    "SZOBA_ID": "NULL",
                                    "mettol": "2016-07-20",
                                    "db": "10"
                                },
                                {
                                    "SZOBA_ID": "NULL",
                                    "mettol": "2016-07-21",
                                    "db": "2"
                                },
                                {
                                    "SZOBA_ID": "NULL",
                                    "mettol": "2016-07-22",
                                    "db": "4"
                                },
                                {
                                    "SZOBA_ID": "NULL",
                                    "mettol": "2016-07-23",
                                    "db": "2"
                                },
                                {
                                    "SZOBA_ID": "NULL",
                                    "mettol": "2016-07-24",
                                    "db": "5"
                                },
                                {
                                    "SZOBA_ID": "NULL",
                                    "mettol": "2016-07-25",
                                    "db": "2"
                                },
                                {
                                    "SZOBA_ID": "NULL",
                                    "mettol": "2016-07-26",
                                    "db": "2"
                                },
                                {
                                    "SZOBA_ID": "97",
                                    "mettol": "2016-07-27",
                                    "db": "2"
                                },
                                {
                                    "SZOBA_ID": "NULL",
                                    "mettol": "2016-07-27",
                                    "db": "11"
                                },
                                {
                                    "SZOBA_ID": "NULL",
                                    "mettol": "2016-07-28",
                                    "db": "7"
                                },
                                {
                                    "SZOBA_ID": "NULL",
                                    "mettol": "2016-07-29",
                                    "db": "2"
                                },
                                {
                                    "SZOBA_ID": "NULL",
                                    "mettol": "2016-07-30",
                                    "db": "4"
                                },
                                {
                                    "SZOBA_ID": "NULL",
                                    "mettol": "2016-07-31",
                                    "db": "2"
                                },
                                {
                                    "SZOBA_ID": "NULL",
                                    "mettol": "2016-08-01",
                                    "db": "4"
                                },
                                {
                                    "SZOBA_ID": "NULL",
                                    "mettol": "2016-08-02",
                                    "db": "2"
                                },
                                {
                                    "SZOBA_ID": "NULL",
                                    "mettol": "2016-08-03",
                                    "db": "4"
                                },
                                {
                                    "SZOBA_ID": "NULL",
                                    "mettol": "2016-08-04",
                                    "db": "2"
                                },
                                {
                                    "SZOBA_ID": "NULL",
                                    "mettol": "2016-08-05",
                                    "db": "3"
                                },
                                {
                                    "SZOBA_ID": "NULL",
                                    "mettol": "2016-08-06",
                                    "db": "3"
                                },
                                {
                                    "SZOBA_ID": "NULL",
                                    "mettol": "2016-08-09",
                                    "db": "2"
                                },
                                {
                                    "SZOBA_ID": "NULL",
                                    "mettol": "2016-08-12",
                                    "db": "6"
                                },
                                {
                                    "SZOBA_ID": "NULL",
                                    "mettol": "2016-08-13",
                                    "db": "2"
                                },
                                {
                                    "SZOBA_ID": "NULL",
                                    "mettol": "2016-08-14",
                                    "db": "3"
                                },
                                {
                                    "SZOBA_ID": "NULL",
                                    "mettol": "2016-08-15",
                                    "db": "2"
                                },
                                {
                                    "SZOBA_ID": "NULL",
                                    "mettol": "2016-08-16",
                                    "db": "12"
                                },
                                {
                                    "SZOBA_ID": "NULL",
                                    "mettol": "2016-08-17",
                                    "db": "4"
                                },
                                {
                                    "SZOBA_ID": "NULL",
                                    "mettol": "2016-08-18",
                                    "db": "2"
                                },
                                {
                                    "SZOBA_ID": "45",
                                    "mettol": "2016-08-20",
                                    "db": "2"
                                },
                                {
                                    "SZOBA_ID": "NULL",
                                    "mettol": "2016-08-20",
                                    "db": "5"
                                },
                                {
                                    "SZOBA_ID": "NULL",
                                    "mettol": "2016-08-21",
                                    "db": "2"
                                },
                                {
                                    "SZOBA_ID": "148",
                                    "mettol": "2016-08-23",
                                    "db": "2"
                                },
                                {
                                    "SZOBA_ID": "NULL",
                                    "mettol": "2016-08-23",
                                    "db": "5"
                                },
                                {
                                    "SZOBA_ID": "NULL",
                                    "mettol": "2016-08-24",
                                    "db": "10"
                                },
                                {
                                    "SZOBA_ID": "NULL",
                                    "mettol": "2016-08-25",
                                    "db": "3"
                                },
                                {
                                    "SZOBA_ID": "NULL",
                                    "mettol": "2016-08-26",
                                    "db": "2"
                                },
                                {
                                    "SZOBA_ID": "NULL",
                                    "mettol": "2016-08-28",
                                    "db": "5"
                                },
                                {
                                    "SZOBA_ID": "NULL",
                                    "mettol": "2016-08-29",
                                    "db": "6"
                                },
                                {
                                    "SZOBA_ID": "NULL",
                                    "mettol": "2016-08-31",
                                    "db": "2"
                                },
                                {
                                    "SZOBA_ID": "NULL",
                                    "mettol": "2016-09-02",
                                    "db": "3"
                                },
                                {
                                    "SZOBA_ID": "NULL",
                                    "mettol": "2016-09-05",
                                    "db": "7"
                                },
                                {
                                    "SZOBA_ID": "NULL",
                                    "mettol": "2016-09-08",
                                    "db": "3"
                                },
                                {
                                    "SZOBA_ID": "NULL",
                                    "mettol": "2016-09-09",
                                    "db": "2"
                                },
                                {
                                    "SZOBA_ID": "NULL",
                                    "mettol": "2016-09-10",
                                    "db": "2"
                                },
                                {
                                    "SZOBA_ID": "NULL",
                                    "mettol": "2016-09-12",
                                    "db": "3"
                                },
                                {
                                    "SZOBA_ID": "NULL",
                                    "mettol": "2016-09-13",
                                    "db": "4"
                                },
                                {
                                    "SZOBA_ID": "NULL",
                                    "mettol": "2016-09-14",
                                    "db": "2"
                                },
                                {
                                    "SZOBA_ID": "NULL",
                                    "mettol": "2016-09-15",
                                    "db": "3"
                                },
                                {
                                    "SZOBA_ID": "NULL",
                                    "mettol": "2016-09-16",
                                    "db": "3"
                                },
                                {
                                    "SZOBA_ID": "NULL",
                                    "mettol": "2016-09-17",
                                    "db": "4"
                                },
                                {
                                    "SZOBA_ID": "NULL",
                                    "mettol": "2016-09-18",
                                    "db": "4"
                                },
                                {
                                    "SZOBA_ID": "NULL",
                                    "mettol": "2016-09-19",
                                    "db": "4"
                                },
                                {
                                    "SZOBA_ID": "NULL",
                                    "mettol": "2016-09-20",
                                    "db": "2"
                                },
                                {
                                    "SZOBA_ID": "NULL",
                                    "mettol": "2016-09-23",
                                    "db": "4"
                                },
                                {
                                    "SZOBA_ID": "NULL",
                                    "mettol": "2016-09-26",
                                    "db": "2"
                                },
                                {
                                    "SZOBA_ID": "NULL",
                                    "mettol": "2016-09-28",
                                    "db": "3"
                                },
                                {
                                    "SZOBA_ID": "NULL",
                                    "mettol": "2016-09-29",
                                    "db": "2"
                                },
                                {
                                    "SZOBA_ID": "NULL",
                                    "mettol": "2016-09-30",
                                    "db": "8"
                                },
                                {
                                    "SZOBA_ID": "20",
                                    "mettol": "2016-10-01",
                                    "db": "2"
                                },
                                {
                                    "SZOBA_ID": "150",
                                    "mettol": "2016-10-01",
                                    "db": "2"
                                },
                                {
                                    "SZOBA_ID": "NULL",
                                    "mettol": "2016-10-01",
                                    "db": "18"
                                },
                                {
                                    "SZOBA_ID": "NULL",
                                    "mettol": "2016-10-03",
                                    "db": "3"
                                },
                                {
                                    "SZOBA_ID": "NULL",
                                    "mettol": "2016-10-04",
                                    "db": "3"
                                },
                                {
                                    "SZOBA_ID": "NULL",
                                    "mettol": "2016-10-05",
                                    "db": "2"
                                },
                                {
                                    "SZOBA_ID": "NULL",
                                    "mettol": "2016-10-06",
                                    "db": "2"
                                },
                                {
                                    "SZOBA_ID": "NULL",
                                    "mettol": "2016-10-07",
                                    "db": "2"
                                },
                                {
                                    "SZOBA_ID": "NULL",
                                    "mettol": "2016-10-08",
                                    "db": "7"
                                },
                                {
                                    "SZOBA_ID": "NULL",
                                    "mettol": "2016-10-09",
                                    "db": "11"
                                },
                                {
                                    "SZOBA_ID": "NULL",
                                    "mettol": "2016-10-10",
                                    "db": "2"
                                },
                                {
                                    "SZOBA_ID": "NULL",
                                    "mettol": "2016-10-15",
                                    "db": "6"
                                },
                                {
                                    "SZOBA_ID": "NULL",
                                    "mettol": "2016-10-16",
                                    "db": "3"
                                },
                                {
                                    "SZOBA_ID": "NULL",
                                    "mettol": "2016-10-17",
                                    "db": "3"
                                },
                                {
                                    "SZOBA_ID": "NULL",
                                    "mettol": "2016-10-19",
                                    "db": "4"
                                },
                                {
                                    "SZOBA_ID": "NULL",
                                    "mettol": "2016-10-20",
                                    "db": "4"
                                },
                                {
                                    "SZOBA_ID": "NULL",
                                    "mettol": "2016-10-21",
                                    "db": "4"
                                },
                                {
                                    "SZOBA_ID": "NULL",
                                    "mettol": "2016-10-22",
                                    "db": "4"
                                },
                                {
                                    "SZOBA_ID": "NULL",
                                    "mettol": "2016-10-23",
                                    "db": "7"
                                },
                                {
                                    "SZOBA_ID": "NULL",
                                    "mettol": "2016-10-24",
                                    "db": "3"
                                },
                                {
                                    "SZOBA_ID": "NULL",
                                    "mettol": "2016-10-26",
                                    "db": "12"
                                },
                                {
                                    "SZOBA_ID": "NULL",
                                    "mettol": "2016-10-27",
                                    "db": "4"
                                },
                                {
                                    "SZOBA_ID": "NULL",
                                    "mettol": "2016-10-28",
                                    "db": "6"
                                },
                                {
                                    "SZOBA_ID": "NULL",
                                    "mettol": "2016-10-29",
                                    "db": "5"
                                },
                                {
                                    "SZOBA_ID": "182",
                                    "mettol": "2016-10-30",
                                    "db": "2"
                                },
                                {
                                    "SZOBA_ID": "NULL",
                                    "mettol": "2016-10-30",
                                    "db": "14"
                                },
                                {
                                    "SZOBA_ID": "NULL",
                                    "mettol": "2016-11-01",
                                    "db": "3"
                                },
                                {
                                    "SZOBA_ID": "NULL",
                                    "mettol": "2016-11-03",
                                    "db": "7"
                                },
                                {
                                    "SZOBA_ID": "NULL",
                                    "mettol": "2016-11-05",
                                    "db": "8"
                                },
                                {
                                    "SZOBA_ID": "NULL",
                                    "mettol": "2016-11-06",
                                    "db": "3"
                                },
                                {
                                    "SZOBA_ID": "NULL",
                                    "mettol": "2016-11-07",
                                    "db": "6"
                                },
                                {
                                    "SZOBA_ID": "NULL",
                                    "mettol": "2016-11-08",
                                    "db": "4"
                                },
                                {
                                    "SZOBA_ID": "NULL",
                                    "mettol": "2016-11-09",
                                    "db": "3"
                                },
                                {
                                    "SZOBA_ID": "NULL",
                                    "mettol": "2016-11-10",
                                    "db": "4"
                                },
                                {
                                    "SZOBA_ID": "NULL",
                                    "mettol": "2016-11-11",
                                    "db": "2"
                                },
                                {
                                    "SZOBA_ID": "NULL",
                                    "mettol": "2016-11-12",
                                    "db": "2"
                                },
                                {
                                    "SZOBA_ID": "NULL",
                                    "mettol": "2016-11-15",
                                    "db": "3"
                                },
                                {
                                    "SZOBA_ID": "NULL",
                                    "mettol": "2016-11-16",
                                    "db": "4"
                                },
                                {
                                    "SZOBA_ID": "NULL",
                                    "mettol": "2016-11-17",
                                    "db": "2"
                                },
                                {
                                    "SZOBA_ID": "NULL",
                                    "mettol": "2016-11-19",
                                    "db": "8"
                                },
                                {
                                    "SZOBA_ID": "NULL",
                                    "mettol": "2016-11-21",
                                    "db": "2"
                                },
                                {
                                    "SZOBA_ID": "NULL",
                                    "mettol": "2016-11-22",
                                    "db": "6"
                                },
                                {
                                    "SZOBA_ID": "NULL",
                                    "mettol": "2016-11-23",
                                    "db": "8"
                                },
                                {
                                    "SZOBA_ID": "NULL",
                                    "mettol": "2016-11-25",
                                    "db": "6"
                                },
                                {
                                    "SZOBA_ID": "NULL",
                                    "mettol": "2016-11-27",
                                    "db": "3"
                                },
                                {
                                    "SZOBA_ID": "NULL",
                                    "mettol": "2016-11-28",
                                    "db": "3"
                                },
                                {
                                    "SZOBA_ID": "NULL",
                                    "mettol": "2016-11-29",
                                    "db": "4"
                                },
                                {
                                    "SZOBA_ID": "NULL",
                                    "mettol": "2016-12-01",
                                    "db": "2"
                                },
                                {
                                    "SZOBA_ID": "NULL",
                                    "mettol": "2016-12-02",
                                    "db": "3"
                                },
                                {
                                    "SZOBA_ID": "NULL",
                                    "mettol": "2016-12-04",
                                    "db": "3"
                                },
                                {
                                    "SZOBA_ID": "NULL",
                                    "mettol": "2016-12-05",
                                    "db": "4"
                                },
                                {
                                    "SZOBA_ID": "NULL",
                                    "mettol": "2016-12-06",
                                    "db": "5"
                                },
                                {
                                    "SZOBA_ID": "NULL",
                                    "mettol": "2016-12-07",
                                    "db": "3"
                                },
                                {
                                    "SZOBA_ID": "NULL",
                                    "mettol": "2016-12-14",
                                    "db": "2"
                                },
                                {
                                    "SZOBA_ID": "NULL",
                                    "mettol": "2016-12-15",
                                    "db": "3"
                                },
                                {
                                    "SZOBA_ID": "NULL",
                                    "mettol": "2016-12-17",
                                    "db": "10"
                                },
                                {
                                    "SZOBA_ID": "NULL",
                                    "mettol": "2016-12-18",
                                    "db": "2"
                                },
                                {
                                    "SZOBA_ID": "NULL",
                                    "mettol": "2016-12-22",
                                    "db": "3"
                                },
                                {
                                    "SZOBA_ID": "NULL",
                                    "mettol": "2016-12-24",
                                    "db": "3"
                                },
                                {
                                    "SZOBA_ID": "NULL",
                                    "mettol": "2016-12-25",
                                    "db": "9"
                                },
                                {
                                    "SZOBA_ID": "NULL",
                                    "mettol": "2016-12-26",
                                    "db": "3"
                                },
                                {
                                    "SZOBA_ID": "NULL",
                                    "mettol": "2016-12-29",
                                    "db": "5"
                                },
                                {
                                    "SZOBA_ID": "NULL",
                                    "mettol": "2017-01-01",
                                    "db": "4"
                                },
                                {
                                    "SZOBA_ID": "NULL",
                                    "mettol": "2017-01-02",
                                    "db": "2"
                                },
                                {
                                    "SZOBA_ID": "NULL",
                                    "mettol": "2017-01-03",
                                    "db": "3"
                                },
                                {
                                    "SZOBA_ID": "NULL",
                                    "mettol": "2017-01-05",
                                    "db": "3"
                                },
                                {
                                    "SZOBA_ID": "NULL",
                                    "mettol": "2017-01-06",
                                    "db": "2"
                                },
                                {
                                    "SZOBA_ID": "NULL",
                                    "mettol": "2017-01-09",
                                    "db": "5"
                                },
                                {
                                    "SZOBA_ID": "NULL",
                                    "mettol": "2017-01-10",
                                    "db": "2"
                                },
                                {
                                    "SZOBA_ID": "NULL",
                                    "mettol": "2017-01-12",
                                    "db": "2"
                                },
                                {
                                    "SZOBA_ID": "NULL",
                                    "mettol": "2017-01-13",
                                    "db": "2"
                                },
                                {
                                    "SZOBA_ID": "NULL",
                                    "mettol": "2017-01-15",
                                    "db": "2"
                                },
                                {
                                    "SZOBA_ID": "NULL",
                                    "mettol": "2017-01-16",
                                    "db": "8"
                                },
                                {
                                    "SZOBA_ID": "NULL",
                                    "mettol": "2017-01-17",
                                    "db": "5"
                                },
                                {
                                    "SZOBA_ID": "NULL",
                                    "mettol": "2017-01-18",
                                    "db": "2"
                                },
                                {
                                    "SZOBA_ID": "NULL",
                                    "mettol": "2017-01-19",
                                    "db": "3"
                                },
                                {
                                    "SZOBA_ID": "NULL",
                                    "mettol": "2017-01-22",
                                    "db": "7"
                                },
                                {
                                    "SZOBA_ID": "NULL",
                                    "mettol": "2017-01-23",
                                    "db": "4"
                                },
                                {
                                    "SZOBA_ID": "NULL",
                                    "mettol": "2017-01-24",
                                    "db": "2"
                                },
                                {
                                    "SZOBA_ID": "NULL",
                                    "mettol": "2017-01-28",
                                    "db": "3"
                                },
                                {
                                    "SZOBA_ID": "NULL",
                                    "mettol": "2017-01-29",
                                    "db": "2"
                                },
                                {
                                    "SZOBA_ID": "NULL",
                                    "mettol": "2017-01-30",
                                    "db": "3"
                                },
                                {
                                    "SZOBA_ID": "NULL",
                                    "mettol": "2017-02-01",
                                    "db": "2"
                                },
                                {
                                    "SZOBA_ID": "NULL",
                                    "mettol": "2017-02-03",
                                    "db": "3"
                                },
                                {
                                    "SZOBA_ID": "NULL",
                                    "mettol": "2017-02-04",
                                    "db": "6"
                                },
                                {
                                    "SZOBA_ID": "NULL",
                                    "mettol": "2017-02-05",
                                    "db": "5"
                                },
                                {
                                    "SZOBA_ID": "NULL",
                                    "mettol": "2017-02-06",
                                    "db": "3"
                                },
                                {
                                    "SZOBA_ID": "NULL",
                                    "mettol": "2017-02-08",
                                    "db": "5"
                                },
                                {
                                    "SZOBA_ID": "NULL",
                                    "mettol": "2017-02-09",
                                    "db": "2"
                                },
                                {
                                    "SZOBA_ID": "NULL",
                                    "mettol": "2017-02-10",
                                    "db": "2"
                                },
                                {
                                    "SZOBA_ID": "NULL",
                                    "mettol": "2017-02-12",
                                    "db": "9"
                                },
                                {
                                    "SZOBA_ID": "NULL",
                                    "mettol": "2017-02-13",
                                    "db": "5"
                                },
                                {
                                    "SZOBA_ID": "NULL",
                                    "mettol": "2017-02-14",
                                    "db": "3"
                                },
                                {
                                    "SZOBA_ID": "NULL",
                                    "mettol": "2017-02-16",
                                    "db": "9"
                                },
                                {
                                    "SZOBA_ID": "NULL",
                                    "mettol": "2017-02-17",
                                    "db": "2"
                                },
                                {
                                    "SZOBA_ID": "NULL",
                                    "mettol": "2017-02-18",
                                    "db": "4"
                                },
                                {
                                    "SZOBA_ID": "NULL",
                                    "mettol": "2017-02-20",
                                    "db": "4"
                                },
                                {
                                    "SZOBA_ID": "NULL",
                                    "mettol": "2017-02-21",
                                    "db": "3"
                                },
                                {
                                    "SZOBA_ID": "NULL",
                                    "mettol": "2017-02-23",
                                    "db": "6"
                                },
                                {
                                    "SZOBA_ID": "NULL",
                                    "mettol": "2017-02-24",
                                    "db": "5"
                                },
                                {
                                    "SZOBA_ID": "NULL",
                                    "mettol": "2017-02-25",
                                    "db": "2"
                                },
                                {
                                    "SZOBA_ID": "NULL",
                                    "mettol": "2017-02-26",
                                    "db": "4"
                                },
                                {
                                    "SZOBA_ID": "NULL",
                                    "mettol": "2017-02-27",
                                    "db": "2"
                                },
                                {
                                    "SZOBA_ID": "NULL",
                                    "mettol": "2017-03-01",
                                    "db": "2"
                                },
                                {
                                    "SZOBA_ID": "NULL",
                                    "mettol": "2017-03-03",
                                    "db": "2"
                                },
                                {
                                    "SZOBA_ID": "23",
                                    "mettol": "NULL",
                                    "db": "3"
                                },
                                {
                                    "SZOBA_ID": "46",
                                    "mettol": "NULL",
                                    "db": "4"
                                },
                                {
                                    "SZOBA_ID": "192",
                                    "mettol": "NULL",
                                    "db": "2"
                                },
                                {
                                    "SZOBA_ID": "69",
                                    "mettol": "NULL",
                                    "db": "4"
                                },
                                {
                                    "SZOBA_ID": "92",
                                    "mettol": "NULL",
                                    "db": "6"
                                },
                                {
                                    "SZOBA_ID": "115",
                                    "mettol": "NULL",
                                    "db": "7"
                                },
                                {
                                    "SZOBA_ID": "138",
                                    "mettol": "NULL",
                                    "db": "7"
                                },
                                {
                                    "SZOBA_ID": "161",
                                    "mettol": "NULL",
                                    "db": "6"
                                },
                                {
                                    "SZOBA_ID": "29",
                                    "mettol": "NULL",
                                    "db": "6"
                                },
                                {
                                    "SZOBA_ID": "169",
                                    "mettol": "NULL",
                                    "db": "6"
                                },
                                {
                                    "SZOBA_ID": "175",
                                    "mettol": "NULL",
                                    "db": "5"
                                },
                                {
                                    "SZOBA_ID": "75",
                                    "mettol": "NULL",
                                    "db": "3"
                                },
                                {
                                    "SZOBA_ID": "132",
                                    "mettol": "NULL",
                                    "db": "6"
                                },
                                {
                                    "SZOBA_ID": "9",
                                    "mettol": "NULL",
                                    "db": "6"
                                },
                                {
                                    "SZOBA_ID": "181",
                                    "mettol": "NULL",
                                    "db": "6"
                                },
                                {
                                    "SZOBA_ID": "15",
                                    "mettol": "NULL",
                                    "db": "6"
                                },
                                {
                                    "SZOBA_ID": "109",
                                    "mettol": "NULL",
                                    "db": "7"
                                },
                                {
                                    "SZOBA_ID": "158",
                                    "mettol": "NULL",
                                    "db": "3"
                                },
                                {
                                    "SZOBA_ID": "89",
                                    "mettol": "NULL",
                                    "db": "8"
                                },
                                {
                                    "SZOBA_ID": "195",
                                    "mettol": "NULL",
                                    "db": "6"
                                },
                                {
                                    "SZOBA_ID": "3",
                                    "mettol": "NULL",
                                    "db": "8"
                                },
                                {
                                    "SZOBA_ID": "146",
                                    "mettol": "NULL",
                                    "db": "6"
                                },
                                {
                                    "SZOBA_ID": "152",
                                    "mettol": "NULL",
                                    "db": "4"
                                },
                                {
                                    "SZOBA_ID": "52",
                                    "mettol": "NULL",
                                    "db": "5"
                                },
                                {
                                    "SZOBA_ID": "95",
                                    "mettol": "NULL",
                                    "db": "4"
                                },
                                {
                                    "SZOBA_ID": "189",
                                    "mettol": "NULL",
                                    "db": "5"
                                },
                                {
                                    "SZOBA_ID": "72",
                                    "mettol": "NULL",
                                    "db": "4"
                                },
                                {
                                    "SZOBA_ID": "118",
                                    "mettol": "NULL",
                                    "db": "7"
                                },
                                {
                                    "SZOBA_ID": "172",
                                    "mettol": "NULL",
                                    "db": "9"
                                },
                                {
                                    "SZOBA_ID": "78",
                                    "mettol": "NULL",
                                    "db": "6"
                                },
                                {
                                    "SZOBA_ID": "66",
                                    "mettol": "NULL",
                                    "db": "4"
                                },
                                {
                                    "SZOBA_ID": "126",
                                    "mettol": "NULL",
                                    "db": "6"
                                },
                                {
                                    "SZOBA_ID": "26",
                                    "mettol": "NULL",
                                    "db": "2"
                                },
                                {
                                    "SZOBA_ID": "12",
                                    "mettol": "NULL",
                                    "db": "9"
                                },
                                {
                                    "SZOBA_ID": "178",
                                    "mettol": "NULL",
                                    "db": "4"
                                },
                                {
                                    "SZOBA_ID": "35",
                                    "mettol": "NULL",
                                    "db": "9"
                                },
                                {
                                    "SZOBA_ID": "129",
                                    "mettol": "NULL",
                                    "db": "4"
                                },
                                {
                                    "SZOBA_ID": "155",
                                    "mettol": "NULL",
                                    "db": "5"
                                },
                                {
                                    "SZOBA_ID": "106",
                                    "mettol": "NULL",
                                    "db": "6"
                                },
                                {
                                    "SZOBA_ID": "86",
                                    "mettol": "NULL",
                                    "db": "5"
                                },
                                {
                                    "SZOBA_ID": "135",
                                    "mettol": "NULL",
                                    "db": "3"
                                },
                                {
                                    "SZOBA_ID": "63",
                                    "mettol": "NULL",
                                    "db": "4"
                                },
                                {
                                    "SZOBA_ID": "112",
                                    "mettol": "NULL",
                                    "db": "5"
                                },
                                {
                                    "SZOBA_ID": "6",
                                    "mettol": "NULL",
                                    "db": "6"
                                },
                                {
                                    "SZOBA_ID": "43",
                                    "mettol": "NULL",
                                    "db": "8"
                                },
                                {
                                    "SZOBA_ID": "55",
                                    "mettol": "NULL",
                                    "db": "8"
                                },
                                {
                                    "SZOBA_ID": "98",
                                    "mettol": "NULL",
                                    "db": "4"
                                },
                                {
                                    "SZOBA_ID": "49",
                                    "mettol": "NULL",
                                    "db": "7"
                                },
                                {
                                    "SZOBA_ID": "149",
                                    "mettol": "NULL",
                                    "db": "7"
                                },
                                {
                                    "SZOBA_ID": "198",
                                    "mettol": "NULL",
                                    "db": "8"
                                },
                                {
                                    "SZOBA_ID": "190",
                                    "mettol": "NULL",
                                    "db": "5"
                                },
                                {
                                    "SZOBA_ID": "144",
                                    "mettol": "NULL",
                                    "db": "5"
                                },
                                {
                                    "SZOBA_ID": "167",
                                    "mettol": "NULL",
                                    "db": "2"
                                },
                                {
                                    "SZOBA_ID": "184",
                                    "mettol": "NULL",
                                    "db": "4"
                                },
                                {
                                    "SZOBA_ID": "113",
                                    "mettol": "NULL",
                                    "db": "5"
                                },
                                {
                                    "SZOBA_ID": "67",
                                    "mettol": "NULL",
                                    "db": "6"
                                },
                                {
                                    "SZOBA_ID": "21",
                                    "mettol": "NULL",
                                    "db": "4"
                                },
                                {
                                    "SZOBA_ID": "27",
                                    "mettol": "NULL",
                                    "db": "7"
                                },
                                {
                                    "SZOBA_ID": "127",
                                    "mettol": "NULL",
                                    "db": "7"
                                },
                                {
                                    "SZOBA_ID": "121",
                                    "mettol": "NULL",
                                    "db": "8"
                                },
                                {
                                    "SZOBA_ID": "173",
                                    "mettol": "NULL",
                                    "db": "4"
                                },
                                {
                                    "SZOBA_ID": "107",
                                    "mettol": "NULL",
                                    "db": "5"
                                },
                                {
                                    "SZOBA_ID": "156",
                                    "mettol": "NULL",
                                    "db": "7"
                                },
                                {
                                    "SZOBA_ID": "58",
                                    "mettol": "NULL",
                                    "db": "13"
                                },
                                {
                                    "SZOBA_ID": "130",
                                    "mettol": "NULL",
                                    "db": "6"
                                },
                                {
                                    "SZOBA_ID": "81",
                                    "mettol": "NULL",
                                    "db": "5"
                                },
                                {
                                    "SZOBA_ID": "64",
                                    "mettol": "NULL",
                                    "db": "6"
                                },
                                {
                                    "SZOBA_ID": "87",
                                    "mettol": "NULL",
                                    "db": "5"
                                },
                                {
                                    "SZOBA_ID": "38",
                                    "mettol": "NULL",
                                    "db": "8"
                                },
                                {
                                    "SZOBA_ID": "101",
                                    "mettol": "NULL",
                                    "db": "3"
                                },
                                {
                                    "SZOBA_ID": "7",
                                    "mettol": "NULL",
                                    "db": "6"
                                },
                                {
                                    "SZOBA_ID": "44",
                                    "mettol": "NULL",
                                    "db": "6"
                                },
                                {
                                    "SZOBA_ID": "193",
                                    "mettol": "NULL",
                                    "db": "7"
                                },
                                {
                                    "SZOBA_ID": "150",
                                    "mettol": "NULL",
                                    "db": "6"
                                },
                                {
                                    "SZOBA_ID": "1",
                                    "mettol": "NULL",
                                    "db": "8"
                                },
                                {
                                    "SZOBA_ID": "50",
                                    "mettol": "NULL",
                                    "db": "4"
                                },
                                {
                                    "SZOBA_ID": "24",
                                    "mettol": "NULL",
                                    "db": "3"
                                },
                                {
                                    "SZOBA_ID": "47",
                                    "mettol": "NULL",
                                    "db": "2"
                                },
                                {
                                    "SZOBA_ID": "141",
                                    "mettol": "NULL",
                                    "db": "6"
                                },
                                {
                                    "SZOBA_ID": "70",
                                    "mettol": "NULL",
                                    "db": "11"
                                },
                                {
                                    "SZOBA_ID": "93",
                                    "mettol": "NULL",
                                    "db": "5"
                                },
                                {
                                    "SZOBA_ID": "187",
                                    "mettol": "NULL",
                                    "db": "7"
                                },
                                {
                                    "SZOBA_ID": "164",
                                    "mettol": "NULL",
                                    "db": "5"
                                },
                                {
                                    "SZOBA_ID": "30",
                                    "mettol": "NULL",
                                    "db": "3"
                                },
                                {
                                    "SZOBA_ID": "18",
                                    "mettol": "NULL",
                                    "db": "6"
                                },
                                {
                                    "SZOBA_ID": "170",
                                    "mettol": "NULL",
                                    "db": "5"
                                },
                                {
                                    "SZOBA_ID": "176",
                                    "mettol": "NULL",
                                    "db": "6"
                                },
                                {
                                    "SZOBA_ID": "124",
                                    "mettol": "NULL",
                                    "db": "6"
                                },
                                {
                                    "SZOBA_ID": "84",
                                    "mettol": "NULL",
                                    "db": "4"
                                },
                                {
                                    "SZOBA_ID": "153",
                                    "mettol": "NULL",
                                    "db": "5"
                                },
                                {
                                    "SZOBA_ID": "110",
                                    "mettol": "NULL",
                                    "db": "8"
                                },
                                {
                                    "SZOBA_ID": "10",
                                    "mettol": "NULL",
                                    "db": "4"
                                },
                                {
                                    "SZOBA_ID": "133",
                                    "mettol": "NULL",
                                    "db": "6"
                                },
                                {
                                    "SZOBA_ID": "61",
                                    "mettol": "NULL",
                                    "db": "5"
                                },
                                {
                                    "SZOBA_ID": "196",
                                    "mettol": "NULL",
                                    "db": "4"
                                },
                                {
                                    "SZOBA_ID": "90",
                                    "mettol": "NULL",
                                    "db": "4"
                                },
                                {
                                    "SZOBA_ID": "41",
                                    "mettol": "NULL",
                                    "db": "2"
                                },
                                {
                                    "SZOBA_ID": "104",
                                    "mettol": "NULL",
                                    "db": "4"
                                },
                                {
                                    "SZOBA_ID": "4",
                                    "mettol": "NULL",
                                    "db": "6"
                                },
                                {
                                    "SZOBA_ID": "119",
                                    "mettol": "NULL",
                                    "db": "5"
                                },
                                {
                                    "SZOBA_ID": "96",
                                    "mettol": "NULL",
                                    "db": "7"
                                },
                                {
                                    "SZOBA_ID": "165",
                                    "mettol": "NULL",
                                    "db": "7"
                                },
                                {
                                    "SZOBA_ID": "142",
                                    "mettol": "NULL",
                                    "db": "2"
                                },
                                {
                                    "SZOBA_ID": "188",
                                    "mettol": "NULL",
                                    "db": "6"
                                },
                                {
                                    "SZOBA_ID": "79",
                                    "mettol": "NULL",
                                    "db": "5"
                                },
                                {
                                    "SZOBA_ID": "19",
                                    "mettol": "NULL",
                                    "db": "6"
                                },
                                {
                                    "SZOBA_ID": "171",
                                    "mettol": "NULL",
                                    "db": "5"
                                },
                                {
                                    "SZOBA_ID": "73",
                                    "mettol": "NULL",
                                    "db": "4"
                                },
                                {
                                    "SZOBA_ID": "25",
                                    "mettol": "NULL",
                                    "db": "2"
                                },
                                {
                                    "SZOBA_ID": "36",
                                    "mettol": "NULL",
                                    "db": "6"
                                },
                                {
                                    "SZOBA_ID": "105",
                                    "mettol": "NULL",
                                    "db": "2"
                                },
                                {
                                    "SZOBA_ID": "179",
                                    "mettol": "NULL",
                                    "db": "3"
                                },
                                {
                                    "SZOBA_ID": "85",
                                    "mettol": "NULL",
                                    "db": "4"
                                },
                                {
                                    "SZOBA_ID": "136",
                                    "mettol": "NULL",
                                    "db": "3"
                                },
                                {
                                    "SZOBA_ID": "62",
                                    "mettol": "NULL",
                                    "db": "5"
                                },
                                {
                                    "SZOBA_ID": "13",
                                    "mettol": "NULL",
                                    "db": "4"
                                },
                                {
                                    "SZOBA_ID": "42",
                                    "mettol": "NULL",
                                    "db": "6"
                                },
                                {
                                    "SZOBA_ID": "5",
                                    "mettol": "NULL",
                                    "db": "4"
                                },
                                {
                                    "SZOBA_ID": "56",
                                    "mettol": "NULL",
                                    "db": "2"
                                },
                                {
                                    "SZOBA_ID": "99",
                                    "mettol": "NULL",
                                    "db": "5"
                                },
                                {
                                    "SZOBA_ID": "148",
                                    "mettol": "NULL",
                                    "db": "6"
                                },
                                {
                                    "SZOBA_ID": "168",
                                    "mettol": "NULL",
                                    "db": "5"
                                },
                                {
                                    "SZOBA_ID": "191",
                                    "mettol": "NULL",
                                    "db": "5"
                                },
                                {
                                    "SZOBA_ID": "116",
                                    "mettol": "NULL",
                                    "db": "2"
                                },
                                {
                                    "SZOBA_ID": "139",
                                    "mettol": "NULL",
                                    "db": "7"
                                },
                                {
                                    "SZOBA_ID": "162",
                                    "mettol": "NULL",
                                    "db": "3"
                                },
                                {
                                    "SZOBA_ID": "185",
                                    "mettol": "NULL",
                                    "db": "12"
                                },
                                {
                                    "SZOBA_ID": "128",
                                    "mettol": "NULL",
                                    "db": "5"
                                },
                                {
                                    "SZOBA_ID": "122",
                                    "mettol": "NULL",
                                    "db": "9"
                                },
                                {
                                    "SZOBA_ID": "22",
                                    "mettol": "NULL",
                                    "db": "6"
                                },
                                {
                                    "SZOBA_ID": "76",
                                    "mettol": "NULL",
                                    "db": "3"
                                },
                                {
                                    "SZOBA_ID": "59",
                                    "mettol": "NULL",
                                    "db": "7"
                                },
                                {
                                    "SZOBA_ID": "108",
                                    "mettol": "NULL",
                                    "db": "2"
                                },
                                {
                                    "SZOBA_ID": "82",
                                    "mettol": "NULL",
                                    "db": "6"
                                },
                                {
                                    "SZOBA_ID": "39",
                                    "mettol": "NULL",
                                    "db": "7"
                                },
                                {
                                    "SZOBA_ID": "33",
                                    "mettol": "NULL",
                                    "db": "6"
                                },
                                {
                                    "SZOBA_ID": "182",
                                    "mettol": "NULL",
                                    "db": "12"
                                },
                                {
                                    "SZOBA_ID": "16",
                                    "mettol": "NULL",
                                    "db": "5"
                                },
                                {
                                    "SZOBA_ID": "88",
                                    "mettol": "NULL",
                                    "db": "8"
                                },
                                {
                                    "SZOBA_ID": "102",
                                    "mettol": "NULL",
                                    "db": "2"
                                },
                                {
                                    "SZOBA_ID": "53",
                                    "mettol": "NULL",
                                    "db": "2"
                                },
                                {
                                    "SZOBA_ID": "45",
                                    "mettol": "NULL",
                                    "db": "5"
                                },
                                {
                                    "SZOBA_ID": "145",
                                    "mettol": "NULL",
                                    "db": "6"
                                },
                                {
                                    "SZOBA_ID": "2",
                                    "mettol": "NULL",
                                    "db": "4"
                                },
                                {
                                    "SZOBA_ID": "48",
                                    "mettol": "NULL",
                                    "db": "9"
                                },
                                {
                                    "SZOBA_ID": "71",
                                    "mettol": "NULL",
                                    "db": "3"
                                },
                                {
                                    "SZOBA_ID": "94",
                                    "mettol": "NULL",
                                    "db": "10"
                                },
                                {
                                    "SZOBA_ID": "117",
                                    "mettol": "NULL",
                                    "db": "8"
                                },
                                {
                                    "SZOBA_ID": "140",
                                    "mettol": "NULL",
                                    "db": "8"
                                },
                                {
                                    "SZOBA_ID": "163",
                                    "mettol": "NULL",
                                    "db": "7"
                                },
                                {
                                    "SZOBA_ID": "186",
                                    "mettol": "NULL",
                                    "db": "4"
                                },
                                {
                                    "SZOBA_ID": "77",
                                    "mettol": "NULL",
                                    "db": "6"
                                },
                                {
                                    "SZOBA_ID": "17",
                                    "mettol": "NULL",
                                    "db": "6"
                                },
                                {
                                    "SZOBA_ID": "31",
                                    "mettol": "NULL",
                                    "db": "3"
                                },
                                {
                                    "SZOBA_ID": "123",
                                    "mettol": "NULL",
                                    "db": "5"
                                },
                                {
                                    "SZOBA_ID": "83",
                                    "mettol": "NULL",
                                    "db": "8"
                                },
                                {
                                    "SZOBA_ID": "177",
                                    "mettol": "NULL",
                                    "db": "4"
                                },
                                {
                                    "SZOBA_ID": "154",
                                    "mettol": "NULL",
                                    "db": "5"
                                },
                                {
                                    "SZOBA_ID": "134",
                                    "mettol": "NULL",
                                    "db": "6"
                                },
                                {
                                    "SZOBA_ID": "34",
                                    "mettol": "NULL",
                                    "db": "4"
                                },
                                {
                                    "SZOBA_ID": "40",
                                    "mettol": "NULL",
                                    "db": "4"
                                },
                                {
                                    "SZOBA_ID": "11",
                                    "mettol": "NULL",
                                    "db": "4"
                                },
                                {
                                    "SZOBA_ID": "183",
                                    "mettol": "NULL",
                                    "db": "4"
                                },
                                {
                                    "SZOBA_ID": "111",
                                    "mettol": "NULL",
                                    "db": "5"
                                },
                                {
                                    "SZOBA_ID": "160",
                                    "mettol": "NULL",
                                    "db": "5"
                                },
                                {
                                    "SZOBA_ID": "54",
                                    "mettol": "NULL",
                                    "db": "6"
                                },
                                {
                                    "SZOBA_ID": "91",
                                    "mettol": "NULL",
                                    "db": "4"
                                },
                                {
                                    "SZOBA_ID": "103",
                                    "mettol": "NULL",
                                    "db": "4"
                                },
                                {
                                    "SZOBA_ID": "97",
                                    "mettol": "NULL",
                                    "db": "7"
                                },
                                {
                                    "SZOBA_ID": "197",
                                    "mettol": "NULL",
                                    "db": "6"
                                },
                                {
                                    "SZOBA_ID": "143",
                                    "mettol": "NULL",
                                    "db": "7"
                                },
                                {
                                    "SZOBA_ID": "120",
                                    "mettol": "NULL",
                                    "db": "6"
                                },
                                {
                                    "SZOBA_ID": "166",
                                    "mettol": "NULL",
                                    "db": "3"
                                },
                                {
                                    "SZOBA_ID": "114",
                                    "mettol": "NULL",
                                    "db": "4"
                                },
                                {
                                    "SZOBA_ID": "20",
                                    "mettol": "NULL",
                                    "db": "5"
                                },
                                {
                                    "SZOBA_ID": "68",
                                    "mettol": "NULL",
                                    "db": "3"
                                },
                                {
                                    "SZOBA_ID": "80",
                                    "mettol": "NULL",
                                    "db": "7"
                                },
                                {
                                    "SZOBA_ID": "28",
                                    "mettol": "NULL",
                                    "db": "6"
                                },
                                {
                                    "SZOBA_ID": "174",
                                    "mettol": "NULL",
                                    "db": "4"
                                },
                                {
                                    "SZOBA_ID": "74",
                                    "mettol": "NULL",
                                    "db": "9"
                                },
                                {
                                    "SZOBA_ID": "131",
                                    "mettol": "NULL",
                                    "db": "5"
                                },
                                {
                                    "SZOBA_ID": "180",
                                    "mettol": "NULL",
                                    "db": "3"
                                },
                                {
                                    "SZOBA_ID": "57",
                                    "mettol": "NULL",
                                    "db": "4"
                                },
                                {
                                    "SZOBA_ID": "157",
                                    "mettol": "NULL",
                                    "db": "5"
                                },
                                {
                                    "SZOBA_ID": "14",
                                    "mettol": "NULL",
                                    "db": "3"
                                },
                                {
                                    "SZOBA_ID": "37",
                                    "mettol": "NULL",
                                    "db": "3"
                                },
                                {
                                    "SZOBA_ID": "137",
                                    "mettol": "NULL",
                                    "db": "6"
                                },
                                {
                                    "SZOBA_ID": "8",
                                    "mettol": "NULL",
                                    "db": "5"
                                },
                                {
                                    "SZOBA_ID": "51",
                                    "mettol": "NULL",
                                    "db": "5"
                                },
                                {
                                    "SZOBA_ID": "151",
                                    "mettol": "NULL",
                                    "db": "3"
                                },
                                {
                                    "SZOBA_ID": "100",
                                    "mettol": "NULL",
                                    "db": "4"
                                }
                            ]
                        },
                        "text/html": [
                            "<table>",
                            "<tr><th>SZOBA_ID</th><th>mettol</th><th>db</th></tr>",
                            "<tr><td>NULL</td><td>2016-04-06</td><td>5</td></tr>",
                            "<tr><td>NULL</td><td>2016-04-08</td><td>2</td></tr>",
                            "<tr><td>NULL</td><td>2016-04-10</td><td>9</td></tr>",
                            "<tr><td>NULL</td><td>2016-04-14</td><td>2</td></tr>",
                            "<tr><td>NULL</td><td>2016-04-16</td><td>2</td></tr>",
                            "<tr><td>NULL</td><td>2016-04-17</td><td>2</td></tr>",
                            "<tr><td>NULL</td><td>2016-04-19</td><td>4</td></tr>",
                            "<tr><td>NULL</td><td>2016-04-21</td><td>2</td></tr>",
                            "<tr><td>NULL</td><td>2016-04-22</td><td>2</td></tr>",
                            "<tr><td>NULL</td><td>2016-04-23</td><td>2</td></tr>",
                            "<tr><td>NULL</td><td>2016-04-24</td><td>3</td></tr>",
                            "<tr><td>NULL</td><td>2016-04-26</td><td>2</td></tr>",
                            "<tr><td>NULL</td><td>2016-04-27</td><td>3</td></tr>",
                            "<tr><td>NULL</td><td>2016-04-28</td><td>2</td></tr>",
                            "<tr><td>NULL</td><td>2016-05-01</td><td>5</td></tr>",
                            "<tr><td>NULL</td><td>2016-05-02</td><td>2</td></tr>",
                            "<tr><td>NULL</td><td>2016-05-08</td><td>5</td></tr>",
                            "<tr><td>NULL</td><td>2016-05-09</td><td>7</td></tr>",
                            "<tr><td>NULL</td><td>2016-05-10</td><td>2</td></tr>",
                            "<tr><td>NULL</td><td>2016-05-12</td><td>3</td></tr>",
                            "<tr><td>NULL</td><td>2016-05-13</td><td>2</td></tr>",
                            "<tr><td>NULL</td><td>2016-05-14</td><td>4</td></tr>",
                            "<tr><td>NULL</td><td>2016-05-17</td><td>3</td></tr>",
                            "<tr><td>NULL</td><td>2016-05-18</td><td>4</td></tr>",
                            "<tr><td>NULL</td><td>2016-05-21</td><td>5</td></tr>",
                            "<tr><td>NULL</td><td>2016-05-22</td><td>2</td></tr>",
                            "<tr><td>NULL</td><td>2016-05-24</td><td>4</td></tr>",
                            "<tr><td>NULL</td><td>2016-05-25</td><td>2</td></tr>",
                            "<tr><td>NULL</td><td>2016-05-27</td><td>3</td></tr>",
                            "<tr><td>NULL</td><td>2016-05-28</td><td>8</td></tr>",
                            "<tr><td>NULL</td><td>2016-05-29</td><td>3</td></tr>",
                            "<tr><td>NULL</td><td>2016-05-30</td><td>11</td></tr>",
                            "<tr><td>NULL</td><td>2016-06-01</td><td>2</td></tr>",
                            "<tr><td>NULL</td><td>2016-06-02</td><td>4</td></tr>",
                            "<tr><td>165</td><td>2016-06-03</td><td>3</td></tr>",
                            "<tr><td>NULL</td><td>2016-06-03</td><td>9</td></tr>",
                            "<tr><td>NULL</td><td>2016-06-04</td><td>6</td></tr>",
                            "<tr><td>NULL</td><td>2016-06-05</td><td>2</td></tr>",
                            "<tr><td>NULL</td><td>2016-06-06</td><td>14</td></tr>",
                            "<tr><td>40</td><td>2016-06-07</td><td>2</td></tr>",
                            "<tr><td>160</td><td>2016-06-07</td><td>2</td></tr>",
                            "<tr><td>NULL</td><td>2016-06-07</td><td>11</td></tr>",
                            "<tr><td>NULL</td><td>2016-06-08</td><td>4</td></tr>",
                            "<tr><td>NULL</td><td>2016-06-09</td><td>3</td></tr>",
                            "<tr><td>NULL</td><td>2016-06-10</td><td>10</td></tr>",
                            "<tr><td>NULL</td><td>2016-06-11</td><td>2</td></tr>",
                            "<tr><td>NULL</td><td>2016-06-13</td><td>5</td></tr>",
                            "<tr><td>NULL</td><td>2016-06-16</td><td>8</td></tr>",
                            "<tr><td>NULL</td><td>2016-06-17</td><td>2</td></tr>",
                            "<tr><td>NULL</td><td>2016-06-20</td><td>2</td></tr>",
                            "<tr><td>NULL</td><td>2016-06-22</td><td>4</td></tr>",
                            "<tr><td>NULL</td><td>2016-06-23</td><td>4</td></tr>",
                            "<tr><td>NULL</td><td>2016-06-24</td><td>2</td></tr>",
                            "<tr><td>NULL</td><td>2016-06-27</td><td>3</td></tr>",
                            "<tr><td>NULL</td><td>2016-06-30</td><td>3</td></tr>",
                            "<tr><td>NULL</td><td>2016-07-01</td><td>5</td></tr>",
                            "<tr><td>NULL</td><td>2016-07-03</td><td>5</td></tr>",
                            "<tr><td>NULL</td><td>2016-07-04</td><td>5</td></tr>",
                            "<tr><td>NULL</td><td>2016-07-06</td><td>3</td></tr>",
                            "<tr><td>NULL</td><td>2016-07-08</td><td>3</td></tr>",
                            "<tr><td>NULL</td><td>2016-07-09</td><td>2</td></tr>",
                            "<tr><td>NULL</td><td>2016-07-10</td><td>2</td></tr>",
                            "<tr><td>NULL</td><td>2016-07-12</td><td>3</td></tr>",
                            "<tr><td>NULL</td><td>2016-07-13</td><td>5</td></tr>",
                            "<tr><td>NULL</td><td>2016-07-14</td><td>6</td></tr>",
                            "<tr><td>NULL</td><td>2016-07-15</td><td>2</td></tr>",
                            "<tr><td>NULL</td><td>2016-07-16</td><td>2</td></tr>",
                            "<tr><td>NULL</td><td>2016-07-17</td><td>3</td></tr>",
                            "<tr><td>NULL</td><td>2016-07-18</td><td>7</td></tr>",
                            "<tr><td>NULL</td><td>2016-07-19</td><td>3</td></tr>",
                            "<tr><td>NULL</td><td>2016-07-20</td><td>10</td></tr>",
                            "<tr><td>NULL</td><td>2016-07-21</td><td>2</td></tr>",
                            "<tr><td>NULL</td><td>2016-07-22</td><td>4</td></tr>",
                            "<tr><td>NULL</td><td>2016-07-23</td><td>2</td></tr>",
                            "<tr><td>NULL</td><td>2016-07-24</td><td>5</td></tr>",
                            "<tr><td>NULL</td><td>2016-07-25</td><td>2</td></tr>",
                            "<tr><td>NULL</td><td>2016-07-26</td><td>2</td></tr>",
                            "<tr><td>97</td><td>2016-07-27</td><td>2</td></tr>",
                            "<tr><td>NULL</td><td>2016-07-27</td><td>11</td></tr>",
                            "<tr><td>NULL</td><td>2016-07-28</td><td>7</td></tr>",
                            "<tr><td>NULL</td><td>2016-07-29</td><td>2</td></tr>",
                            "<tr><td>NULL</td><td>2016-07-30</td><td>4</td></tr>",
                            "<tr><td>NULL</td><td>2016-07-31</td><td>2</td></tr>",
                            "<tr><td>NULL</td><td>2016-08-01</td><td>4</td></tr>",
                            "<tr><td>NULL</td><td>2016-08-02</td><td>2</td></tr>",
                            "<tr><td>NULL</td><td>2016-08-03</td><td>4</td></tr>",
                            "<tr><td>NULL</td><td>2016-08-04</td><td>2</td></tr>",
                            "<tr><td>NULL</td><td>2016-08-05</td><td>3</td></tr>",
                            "<tr><td>NULL</td><td>2016-08-06</td><td>3</td></tr>",
                            "<tr><td>NULL</td><td>2016-08-09</td><td>2</td></tr>",
                            "<tr><td>NULL</td><td>2016-08-12</td><td>6</td></tr>",
                            "<tr><td>NULL</td><td>2016-08-13</td><td>2</td></tr>",
                            "<tr><td>NULL</td><td>2016-08-14</td><td>3</td></tr>",
                            "<tr><td>NULL</td><td>2016-08-15</td><td>2</td></tr>",
                            "<tr><td>NULL</td><td>2016-08-16</td><td>12</td></tr>",
                            "<tr><td>NULL</td><td>2016-08-17</td><td>4</td></tr>",
                            "<tr><td>NULL</td><td>2016-08-18</td><td>2</td></tr>",
                            "<tr><td>45</td><td>2016-08-20</td><td>2</td></tr>",
                            "<tr><td>NULL</td><td>2016-08-20</td><td>5</td></tr>",
                            "<tr><td>NULL</td><td>2016-08-21</td><td>2</td></tr>",
                            "<tr><td>148</td><td>2016-08-23</td><td>2</td></tr>",
                            "<tr><td>NULL</td><td>2016-08-23</td><td>5</td></tr>",
                            "<tr><td>NULL</td><td>2016-08-24</td><td>10</td></tr>",
                            "<tr><td>NULL</td><td>2016-08-25</td><td>3</td></tr>",
                            "<tr><td>NULL</td><td>2016-08-26</td><td>2</td></tr>",
                            "<tr><td>NULL</td><td>2016-08-28</td><td>5</td></tr>",
                            "<tr><td>NULL</td><td>2016-08-29</td><td>6</td></tr>",
                            "<tr><td>NULL</td><td>2016-08-31</td><td>2</td></tr>",
                            "<tr><td>NULL</td><td>2016-09-02</td><td>3</td></tr>",
                            "<tr><td>NULL</td><td>2016-09-05</td><td>7</td></tr>",
                            "<tr><td>NULL</td><td>2016-09-08</td><td>3</td></tr>",
                            "<tr><td>NULL</td><td>2016-09-09</td><td>2</td></tr>",
                            "<tr><td>NULL</td><td>2016-09-10</td><td>2</td></tr>",
                            "<tr><td>NULL</td><td>2016-09-12</td><td>3</td></tr>",
                            "<tr><td>NULL</td><td>2016-09-13</td><td>4</td></tr>",
                            "<tr><td>NULL</td><td>2016-09-14</td><td>2</td></tr>",
                            "<tr><td>NULL</td><td>2016-09-15</td><td>3</td></tr>",
                            "<tr><td>NULL</td><td>2016-09-16</td><td>3</td></tr>",
                            "<tr><td>NULL</td><td>2016-09-17</td><td>4</td></tr>",
                            "<tr><td>NULL</td><td>2016-09-18</td><td>4</td></tr>",
                            "<tr><td>NULL</td><td>2016-09-19</td><td>4</td></tr>",
                            "<tr><td>NULL</td><td>2016-09-20</td><td>2</td></tr>",
                            "<tr><td>NULL</td><td>2016-09-23</td><td>4</td></tr>",
                            "<tr><td>NULL</td><td>2016-09-26</td><td>2</td></tr>",
                            "<tr><td>NULL</td><td>2016-09-28</td><td>3</td></tr>",
                            "<tr><td>NULL</td><td>2016-09-29</td><td>2</td></tr>",
                            "<tr><td>NULL</td><td>2016-09-30</td><td>8</td></tr>",
                            "<tr><td>20</td><td>2016-10-01</td><td>2</td></tr>",
                            "<tr><td>150</td><td>2016-10-01</td><td>2</td></tr>",
                            "<tr><td>NULL</td><td>2016-10-01</td><td>18</td></tr>",
                            "<tr><td>NULL</td><td>2016-10-03</td><td>3</td></tr>",
                            "<tr><td>NULL</td><td>2016-10-04</td><td>3</td></tr>",
                            "<tr><td>NULL</td><td>2016-10-05</td><td>2</td></tr>",
                            "<tr><td>NULL</td><td>2016-10-06</td><td>2</td></tr>",
                            "<tr><td>NULL</td><td>2016-10-07</td><td>2</td></tr>",
                            "<tr><td>NULL</td><td>2016-10-08</td><td>7</td></tr>",
                            "<tr><td>NULL</td><td>2016-10-09</td><td>11</td></tr>",
                            "<tr><td>NULL</td><td>2016-10-10</td><td>2</td></tr>",
                            "<tr><td>NULL</td><td>2016-10-15</td><td>6</td></tr>",
                            "<tr><td>NULL</td><td>2016-10-16</td><td>3</td></tr>",
                            "<tr><td>NULL</td><td>2016-10-17</td><td>3</td></tr>",
                            "<tr><td>NULL</td><td>2016-10-19</td><td>4</td></tr>",
                            "<tr><td>NULL</td><td>2016-10-20</td><td>4</td></tr>",
                            "<tr><td>NULL</td><td>2016-10-21</td><td>4</td></tr>",
                            "<tr><td>NULL</td><td>2016-10-22</td><td>4</td></tr>",
                            "<tr><td>NULL</td><td>2016-10-23</td><td>7</td></tr>",
                            "<tr><td>NULL</td><td>2016-10-24</td><td>3</td></tr>",
                            "<tr><td>NULL</td><td>2016-10-26</td><td>12</td></tr>",
                            "<tr><td>NULL</td><td>2016-10-27</td><td>4</td></tr>",
                            "<tr><td>NULL</td><td>2016-10-28</td><td>6</td></tr>",
                            "<tr><td>NULL</td><td>2016-10-29</td><td>5</td></tr>",
                            "<tr><td>182</td><td>2016-10-30</td><td>2</td></tr>",
                            "<tr><td>NULL</td><td>2016-10-30</td><td>14</td></tr>",
                            "<tr><td>NULL</td><td>2016-11-01</td><td>3</td></tr>",
                            "<tr><td>NULL</td><td>2016-11-03</td><td>7</td></tr>",
                            "<tr><td>NULL</td><td>2016-11-05</td><td>8</td></tr>",
                            "<tr><td>NULL</td><td>2016-11-06</td><td>3</td></tr>",
                            "<tr><td>NULL</td><td>2016-11-07</td><td>6</td></tr>",
                            "<tr><td>NULL</td><td>2016-11-08</td><td>4</td></tr>",
                            "<tr><td>NULL</td><td>2016-11-09</td><td>3</td></tr>",
                            "<tr><td>NULL</td><td>2016-11-10</td><td>4</td></tr>",
                            "<tr><td>NULL</td><td>2016-11-11</td><td>2</td></tr>",
                            "<tr><td>NULL</td><td>2016-11-12</td><td>2</td></tr>",
                            "<tr><td>NULL</td><td>2016-11-15</td><td>3</td></tr>",
                            "<tr><td>NULL</td><td>2016-11-16</td><td>4</td></tr>",
                            "<tr><td>NULL</td><td>2016-11-17</td><td>2</td></tr>",
                            "<tr><td>NULL</td><td>2016-11-19</td><td>8</td></tr>",
                            "<tr><td>NULL</td><td>2016-11-21</td><td>2</td></tr>",
                            "<tr><td>NULL</td><td>2016-11-22</td><td>6</td></tr>",
                            "<tr><td>NULL</td><td>2016-11-23</td><td>8</td></tr>",
                            "<tr><td>NULL</td><td>2016-11-25</td><td>6</td></tr>",
                            "<tr><td>NULL</td><td>2016-11-27</td><td>3</td></tr>",
                            "<tr><td>NULL</td><td>2016-11-28</td><td>3</td></tr>",
                            "<tr><td>NULL</td><td>2016-11-29</td><td>4</td></tr>",
                            "<tr><td>NULL</td><td>2016-12-01</td><td>2</td></tr>",
                            "<tr><td>NULL</td><td>2016-12-02</td><td>3</td></tr>",
                            "<tr><td>NULL</td><td>2016-12-04</td><td>3</td></tr>",
                            "<tr><td>NULL</td><td>2016-12-05</td><td>4</td></tr>",
                            "<tr><td>NULL</td><td>2016-12-06</td><td>5</td></tr>",
                            "<tr><td>NULL</td><td>2016-12-07</td><td>3</td></tr>",
                            "<tr><td>NULL</td><td>2016-12-14</td><td>2</td></tr>",
                            "<tr><td>NULL</td><td>2016-12-15</td><td>3</td></tr>",
                            "<tr><td>NULL</td><td>2016-12-17</td><td>10</td></tr>",
                            "<tr><td>NULL</td><td>2016-12-18</td><td>2</td></tr>",
                            "<tr><td>NULL</td><td>2016-12-22</td><td>3</td></tr>",
                            "<tr><td>NULL</td><td>2016-12-24</td><td>3</td></tr>",
                            "<tr><td>NULL</td><td>2016-12-25</td><td>9</td></tr>",
                            "<tr><td>NULL</td><td>2016-12-26</td><td>3</td></tr>",
                            "<tr><td>NULL</td><td>2016-12-29</td><td>5</td></tr>",
                            "<tr><td>NULL</td><td>2017-01-01</td><td>4</td></tr>",
                            "<tr><td>NULL</td><td>2017-01-02</td><td>2</td></tr>",
                            "<tr><td>NULL</td><td>2017-01-03</td><td>3</td></tr>",
                            "<tr><td>NULL</td><td>2017-01-05</td><td>3</td></tr>",
                            "<tr><td>NULL</td><td>2017-01-06</td><td>2</td></tr>",
                            "<tr><td>NULL</td><td>2017-01-09</td><td>5</td></tr>",
                            "<tr><td>NULL</td><td>2017-01-10</td><td>2</td></tr>",
                            "<tr><td>NULL</td><td>2017-01-12</td><td>2</td></tr>",
                            "<tr><td>NULL</td><td>2017-01-13</td><td>2</td></tr>",
                            "<tr><td>NULL</td><td>2017-01-15</td><td>2</td></tr>",
                            "<tr><td>NULL</td><td>2017-01-16</td><td>8</td></tr>",
                            "<tr><td>NULL</td><td>2017-01-17</td><td>5</td></tr>",
                            "<tr><td>NULL</td><td>2017-01-18</td><td>2</td></tr>",
                            "<tr><td>NULL</td><td>2017-01-19</td><td>3</td></tr>",
                            "<tr><td>NULL</td><td>2017-01-22</td><td>7</td></tr>",
                            "<tr><td>NULL</td><td>2017-01-23</td><td>4</td></tr>",
                            "<tr><td>NULL</td><td>2017-01-24</td><td>2</td></tr>",
                            "<tr><td>NULL</td><td>2017-01-28</td><td>3</td></tr>",
                            "<tr><td>NULL</td><td>2017-01-29</td><td>2</td></tr>",
                            "<tr><td>NULL</td><td>2017-01-30</td><td>3</td></tr>",
                            "<tr><td>NULL</td><td>2017-02-01</td><td>2</td></tr>",
                            "<tr><td>NULL</td><td>2017-02-03</td><td>3</td></tr>",
                            "<tr><td>NULL</td><td>2017-02-04</td><td>6</td></tr>",
                            "<tr><td>NULL</td><td>2017-02-05</td><td>5</td></tr>",
                            "<tr><td>NULL</td><td>2017-02-06</td><td>3</td></tr>",
                            "<tr><td>NULL</td><td>2017-02-08</td><td>5</td></tr>",
                            "<tr><td>NULL</td><td>2017-02-09</td><td>2</td></tr>",
                            "<tr><td>NULL</td><td>2017-02-10</td><td>2</td></tr>",
                            "<tr><td>NULL</td><td>2017-02-12</td><td>9</td></tr>",
                            "<tr><td>NULL</td><td>2017-02-13</td><td>5</td></tr>",
                            "<tr><td>NULL</td><td>2017-02-14</td><td>3</td></tr>",
                            "<tr><td>NULL</td><td>2017-02-16</td><td>9</td></tr>",
                            "<tr><td>NULL</td><td>2017-02-17</td><td>2</td></tr>",
                            "<tr><td>NULL</td><td>2017-02-18</td><td>4</td></tr>",
                            "<tr><td>NULL</td><td>2017-02-20</td><td>4</td></tr>",
                            "<tr><td>NULL</td><td>2017-02-21</td><td>3</td></tr>",
                            "<tr><td>NULL</td><td>2017-02-23</td><td>6</td></tr>",
                            "<tr><td>NULL</td><td>2017-02-24</td><td>5</td></tr>",
                            "<tr><td>NULL</td><td>2017-02-25</td><td>2</td></tr>",
                            "<tr><td>NULL</td><td>2017-02-26</td><td>4</td></tr>",
                            "<tr><td>NULL</td><td>2017-02-27</td><td>2</td></tr>",
                            "<tr><td>NULL</td><td>2017-03-01</td><td>2</td></tr>",
                            "<tr><td>NULL</td><td>2017-03-03</td><td>2</td></tr>",
                            "<tr><td>23</td><td>NULL</td><td>3</td></tr>",
                            "<tr><td>46</td><td>NULL</td><td>4</td></tr>",
                            "<tr><td>192</td><td>NULL</td><td>2</td></tr>",
                            "<tr><td>69</td><td>NULL</td><td>4</td></tr>",
                            "<tr><td>92</td><td>NULL</td><td>6</td></tr>",
                            "<tr><td>115</td><td>NULL</td><td>7</td></tr>",
                            "<tr><td>138</td><td>NULL</td><td>7</td></tr>",
                            "<tr><td>161</td><td>NULL</td><td>6</td></tr>",
                            "<tr><td>29</td><td>NULL</td><td>6</td></tr>",
                            "<tr><td>169</td><td>NULL</td><td>6</td></tr>",
                            "<tr><td>175</td><td>NULL</td><td>5</td></tr>",
                            "<tr><td>75</td><td>NULL</td><td>3</td></tr>",
                            "<tr><td>132</td><td>NULL</td><td>6</td></tr>",
                            "<tr><td>9</td><td>NULL</td><td>6</td></tr>",
                            "<tr><td>181</td><td>NULL</td><td>6</td></tr>",
                            "<tr><td>15</td><td>NULL</td><td>6</td></tr>",
                            "<tr><td>109</td><td>NULL</td><td>7</td></tr>",
                            "<tr><td>158</td><td>NULL</td><td>3</td></tr>",
                            "<tr><td>89</td><td>NULL</td><td>8</td></tr>",
                            "<tr><td>195</td><td>NULL</td><td>6</td></tr>",
                            "<tr><td>3</td><td>NULL</td><td>8</td></tr>",
                            "<tr><td>146</td><td>NULL</td><td>6</td></tr>",
                            "<tr><td>152</td><td>NULL</td><td>4</td></tr>",
                            "<tr><td>52</td><td>NULL</td><td>5</td></tr>",
                            "<tr><td>95</td><td>NULL</td><td>4</td></tr>",
                            "<tr><td>189</td><td>NULL</td><td>5</td></tr>",
                            "<tr><td>72</td><td>NULL</td><td>4</td></tr>",
                            "<tr><td>118</td><td>NULL</td><td>7</td></tr>",
                            "<tr><td>172</td><td>NULL</td><td>9</td></tr>",
                            "<tr><td>78</td><td>NULL</td><td>6</td></tr>",
                            "<tr><td>66</td><td>NULL</td><td>4</td></tr>",
                            "<tr><td>126</td><td>NULL</td><td>6</td></tr>",
                            "<tr><td>26</td><td>NULL</td><td>2</td></tr>",
                            "<tr><td>12</td><td>NULL</td><td>9</td></tr>",
                            "<tr><td>178</td><td>NULL</td><td>4</td></tr>",
                            "<tr><td>35</td><td>NULL</td><td>9</td></tr>",
                            "<tr><td>129</td><td>NULL</td><td>4</td></tr>",
                            "<tr><td>155</td><td>NULL</td><td>5</td></tr>",
                            "<tr><td>106</td><td>NULL</td><td>6</td></tr>",
                            "<tr><td>86</td><td>NULL</td><td>5</td></tr>",
                            "<tr><td>135</td><td>NULL</td><td>3</td></tr>",
                            "<tr><td>63</td><td>NULL</td><td>4</td></tr>",
                            "<tr><td>112</td><td>NULL</td><td>5</td></tr>",
                            "<tr><td>6</td><td>NULL</td><td>6</td></tr>",
                            "<tr><td>43</td><td>NULL</td><td>8</td></tr>",
                            "<tr><td>55</td><td>NULL</td><td>8</td></tr>",
                            "<tr><td>98</td><td>NULL</td><td>4</td></tr>",
                            "<tr><td>49</td><td>NULL</td><td>7</td></tr>",
                            "<tr><td>149</td><td>NULL</td><td>7</td></tr>",
                            "<tr><td>198</td><td>NULL</td><td>8</td></tr>",
                            "<tr><td>190</td><td>NULL</td><td>5</td></tr>",
                            "<tr><td>144</td><td>NULL</td><td>5</td></tr>",
                            "<tr><td>167</td><td>NULL</td><td>2</td></tr>",
                            "<tr><td>184</td><td>NULL</td><td>4</td></tr>",
                            "<tr><td>113</td><td>NULL</td><td>5</td></tr>",
                            "<tr><td>67</td><td>NULL</td><td>6</td></tr>",
                            "<tr><td>21</td><td>NULL</td><td>4</td></tr>",
                            "<tr><td>27</td><td>NULL</td><td>7</td></tr>",
                            "<tr><td>127</td><td>NULL</td><td>7</td></tr>",
                            "<tr><td>121</td><td>NULL</td><td>8</td></tr>",
                            "<tr><td>173</td><td>NULL</td><td>4</td></tr>",
                            "<tr><td>107</td><td>NULL</td><td>5</td></tr>",
                            "<tr><td>156</td><td>NULL</td><td>7</td></tr>",
                            "<tr><td>58</td><td>NULL</td><td>13</td></tr>",
                            "<tr><td>130</td><td>NULL</td><td>6</td></tr>",
                            "<tr><td>81</td><td>NULL</td><td>5</td></tr>",
                            "<tr><td>64</td><td>NULL</td><td>6</td></tr>",
                            "<tr><td>87</td><td>NULL</td><td>5</td></tr>",
                            "<tr><td>38</td><td>NULL</td><td>8</td></tr>",
                            "<tr><td>101</td><td>NULL</td><td>3</td></tr>",
                            "<tr><td>7</td><td>NULL</td><td>6</td></tr>",
                            "<tr><td>44</td><td>NULL</td><td>6</td></tr>",
                            "<tr><td>193</td><td>NULL</td><td>7</td></tr>",
                            "<tr><td>150</td><td>NULL</td><td>6</td></tr>",
                            "<tr><td>1</td><td>NULL</td><td>8</td></tr>",
                            "<tr><td>50</td><td>NULL</td><td>4</td></tr>",
                            "<tr><td>24</td><td>NULL</td><td>3</td></tr>",
                            "<tr><td>47</td><td>NULL</td><td>2</td></tr>",
                            "<tr><td>141</td><td>NULL</td><td>6</td></tr>",
                            "<tr><td>70</td><td>NULL</td><td>11</td></tr>",
                            "<tr><td>93</td><td>NULL</td><td>5</td></tr>",
                            "<tr><td>187</td><td>NULL</td><td>7</td></tr>",
                            "<tr><td>164</td><td>NULL</td><td>5</td></tr>",
                            "<tr><td>30</td><td>NULL</td><td>3</td></tr>",
                            "<tr><td>18</td><td>NULL</td><td>6</td></tr>",
                            "<tr><td>170</td><td>NULL</td><td>5</td></tr>",
                            "<tr><td>176</td><td>NULL</td><td>6</td></tr>",
                            "<tr><td>124</td><td>NULL</td><td>6</td></tr>",
                            "<tr><td>84</td><td>NULL</td><td>4</td></tr>",
                            "<tr><td>153</td><td>NULL</td><td>5</td></tr>",
                            "<tr><td>110</td><td>NULL</td><td>8</td></tr>",
                            "<tr><td>10</td><td>NULL</td><td>4</td></tr>",
                            "<tr><td>133</td><td>NULL</td><td>6</td></tr>",
                            "<tr><td>61</td><td>NULL</td><td>5</td></tr>",
                            "<tr><td>196</td><td>NULL</td><td>4</td></tr>",
                            "<tr><td>90</td><td>NULL</td><td>4</td></tr>",
                            "<tr><td>41</td><td>NULL</td><td>2</td></tr>",
                            "<tr><td>104</td><td>NULL</td><td>4</td></tr>",
                            "<tr><td>4</td><td>NULL</td><td>6</td></tr>",
                            "<tr><td>119</td><td>NULL</td><td>5</td></tr>",
                            "<tr><td>96</td><td>NULL</td><td>7</td></tr>",
                            "<tr><td>165</td><td>NULL</td><td>7</td></tr>",
                            "<tr><td>142</td><td>NULL</td><td>2</td></tr>",
                            "<tr><td>188</td><td>NULL</td><td>6</td></tr>",
                            "<tr><td>79</td><td>NULL</td><td>5</td></tr>",
                            "<tr><td>19</td><td>NULL</td><td>6</td></tr>",
                            "<tr><td>171</td><td>NULL</td><td>5</td></tr>",
                            "<tr><td>73</td><td>NULL</td><td>4</td></tr>",
                            "<tr><td>25</td><td>NULL</td><td>2</td></tr>",
                            "<tr><td>36</td><td>NULL</td><td>6</td></tr>",
                            "<tr><td>105</td><td>NULL</td><td>2</td></tr>",
                            "<tr><td>179</td><td>NULL</td><td>3</td></tr>",
                            "<tr><td>85</td><td>NULL</td><td>4</td></tr>",
                            "<tr><td>136</td><td>NULL</td><td>3</td></tr>",
                            "<tr><td>62</td><td>NULL</td><td>5</td></tr>",
                            "<tr><td>13</td><td>NULL</td><td>4</td></tr>",
                            "<tr><td>42</td><td>NULL</td><td>6</td></tr>",
                            "<tr><td>5</td><td>NULL</td><td>4</td></tr>",
                            "<tr><td>56</td><td>NULL</td><td>2</td></tr>",
                            "<tr><td>99</td><td>NULL</td><td>5</td></tr>",
                            "<tr><td>148</td><td>NULL</td><td>6</td></tr>",
                            "<tr><td>168</td><td>NULL</td><td>5</td></tr>",
                            "<tr><td>191</td><td>NULL</td><td>5</td></tr>",
                            "<tr><td>116</td><td>NULL</td><td>2</td></tr>",
                            "<tr><td>139</td><td>NULL</td><td>7</td></tr>",
                            "<tr><td>162</td><td>NULL</td><td>3</td></tr>",
                            "<tr><td>185</td><td>NULL</td><td>12</td></tr>",
                            "<tr><td>128</td><td>NULL</td><td>5</td></tr>",
                            "<tr><td>122</td><td>NULL</td><td>9</td></tr>",
                            "<tr><td>22</td><td>NULL</td><td>6</td></tr>",
                            "<tr><td>76</td><td>NULL</td><td>3</td></tr>",
                            "<tr><td>59</td><td>NULL</td><td>7</td></tr>",
                            "<tr><td>108</td><td>NULL</td><td>2</td></tr>",
                            "<tr><td>82</td><td>NULL</td><td>6</td></tr>",
                            "<tr><td>39</td><td>NULL</td><td>7</td></tr>",
                            "<tr><td>33</td><td>NULL</td><td>6</td></tr>",
                            "<tr><td>182</td><td>NULL</td><td>12</td></tr>",
                            "<tr><td>16</td><td>NULL</td><td>5</td></tr>",
                            "<tr><td>88</td><td>NULL</td><td>8</td></tr>",
                            "<tr><td>102</td><td>NULL</td><td>2</td></tr>",
                            "<tr><td>53</td><td>NULL</td><td>2</td></tr>",
                            "<tr><td>45</td><td>NULL</td><td>5</td></tr>",
                            "<tr><td>145</td><td>NULL</td><td>6</td></tr>",
                            "<tr><td>2</td><td>NULL</td><td>4</td></tr>",
                            "<tr><td>48</td><td>NULL</td><td>9</td></tr>",
                            "<tr><td>71</td><td>NULL</td><td>3</td></tr>",
                            "<tr><td>94</td><td>NULL</td><td>10</td></tr>",
                            "<tr><td>117</td><td>NULL</td><td>8</td></tr>",
                            "<tr><td>140</td><td>NULL</td><td>8</td></tr>",
                            "<tr><td>163</td><td>NULL</td><td>7</td></tr>",
                            "<tr><td>186</td><td>NULL</td><td>4</td></tr>",
                            "<tr><td>77</td><td>NULL</td><td>6</td></tr>",
                            "<tr><td>17</td><td>NULL</td><td>6</td></tr>",
                            "<tr><td>31</td><td>NULL</td><td>3</td></tr>",
                            "<tr><td>123</td><td>NULL</td><td>5</td></tr>",
                            "<tr><td>83</td><td>NULL</td><td>8</td></tr>",
                            "<tr><td>177</td><td>NULL</td><td>4</td></tr>",
                            "<tr><td>154</td><td>NULL</td><td>5</td></tr>",
                            "<tr><td>134</td><td>NULL</td><td>6</td></tr>",
                            "<tr><td>34</td><td>NULL</td><td>4</td></tr>",
                            "<tr><td>40</td><td>NULL</td><td>4</td></tr>",
                            "<tr><td>11</td><td>NULL</td><td>4</td></tr>",
                            "<tr><td>183</td><td>NULL</td><td>4</td></tr>",
                            "<tr><td>111</td><td>NULL</td><td>5</td></tr>",
                            "<tr><td>160</td><td>NULL</td><td>5</td></tr>",
                            "<tr><td>54</td><td>NULL</td><td>6</td></tr>",
                            "<tr><td>91</td><td>NULL</td><td>4</td></tr>",
                            "<tr><td>103</td><td>NULL</td><td>4</td></tr>",
                            "<tr><td>97</td><td>NULL</td><td>7</td></tr>",
                            "<tr><td>197</td><td>NULL</td><td>6</td></tr>",
                            "<tr><td>143</td><td>NULL</td><td>7</td></tr>",
                            "<tr><td>120</td><td>NULL</td><td>6</td></tr>",
                            "<tr><td>166</td><td>NULL</td><td>3</td></tr>",
                            "<tr><td>114</td><td>NULL</td><td>4</td></tr>",
                            "<tr><td>20</td><td>NULL</td><td>5</td></tr>",
                            "<tr><td>68</td><td>NULL</td><td>3</td></tr>",
                            "<tr><td>80</td><td>NULL</td><td>7</td></tr>",
                            "<tr><td>28</td><td>NULL</td><td>6</td></tr>",
                            "<tr><td>174</td><td>NULL</td><td>4</td></tr>",
                            "<tr><td>74</td><td>NULL</td><td>9</td></tr>",
                            "<tr><td>131</td><td>NULL</td><td>5</td></tr>",
                            "<tr><td>180</td><td>NULL</td><td>3</td></tr>",
                            "<tr><td>57</td><td>NULL</td><td>4</td></tr>",
                            "<tr><td>157</td><td>NULL</td><td>5</td></tr>",
                            "<tr><td>14</td><td>NULL</td><td>3</td></tr>",
                            "<tr><td>37</td><td>NULL</td><td>3</td></tr>",
                            "<tr><td>137</td><td>NULL</td><td>6</td></tr>",
                            "<tr><td>8</td><td>NULL</td><td>5</td></tr>",
                            "<tr><td>51</td><td>NULL</td><td>5</td></tr>",
                            "<tr><td>151</td><td>NULL</td><td>3</td></tr>",
                            "<tr><td>100</td><td>NULL</td><td>4</td></tr>",
                            "</table>"
                        ]
                    }
                }
            ],
            "execution_count": 46
        },
        {
            "cell_type": "markdown",
            "source": [
                "Készítsünk ideiglenes táblát #MASKED\\_GUEST néven, ahol \n",
                "\n",
                "- a tábla felépítése megegyezik a vendég tábláéval, DE\n",
                "- a vendégek nevének csak az első 2, és az utolsó 3 karaktere jelenjen meg, közötte X-ek legyenek!"
            ],
            "metadata": {
                "azdata_cell_guid": "aef25b60-34fa-4ec0-ace8-ea483eca0c2d"
            },
            "attachments": {}
        },
        {
            "cell_type": "code",
            "source": [
                "CREATE TABLE #MASKED_GUEST(\r\n",
                "    USERNEV nvarchar(20) PRIMARY KEY,\r\n",
                "    NEV NVARCHAR(50) MASKED WITH(FUNCTION='partial(2,\"XXX\",3)'),\r\n",
                "    EMAIL NVARCHAR(60),\r\n",
                "    SZAML_CIM NVARCHAR(100),\r\n",
                "    SZUL_DAT date\r\n",
                ")"
            ],
            "metadata": {
                "azdata_cell_guid": "85b45b9b-6e33-42c0-a051-15d2308e5d97",
                "language": "sql"
            },
            "outputs": [
                {
                    "output_type": "display_data",
                    "data": {
                        "text/html": "Commands completed successfully."
                    },
                    "metadata": {}
                },
                {
                    "output_type": "display_data",
                    "data": {
                        "text/html": "Total execution time: 00:00:00.003"
                    },
                    "metadata": {}
                }
            ],
            "execution_count": 47
        },
        {
            "cell_type": "markdown",
            "source": [
                "Oldja meg REDIS-ben a következő feladatokat:\n",
                "\n",
                "- hozzon létre egy string kulcsot, amely egy könyvtár nevét tartalmazza\n",
                "- hozzon létre egy hash kulcsot, amely egy könyv legalább 3 adatát tartalmazza\n",
                "- hozzon létre egy set kulcsot, amely a könyvtárban lévő könyvek műfajait tartalmazza (legalább 3)\n",
                "- hozzon létre egy list kulcsot, amely a kikölcsönzött könyvek címeit tartalmazza (legalább 3)\n",
                "- hozzon létre egy sorted set kulcsot, amely az adott könyvek címeit és a könyv kölcsönzéseinek számát tartalmazza (legalább 3)"
            ],
            "metadata": {
                "azdata_cell_guid": "59e6f09f-0324-4fae-ac82-40f7b2e417d3"
            },
            "attachments": {}
        },
        {
            "cell_type": "code",
            "source": [
                "SET konyvtar \"Varosi Konyvtar\"\r\n",
                "\r\n",
                "HSET konyv:1 cim \"Harry Potter\" iro \"J.K. Rowling\" kiadas 3\r\n",
                "\r\n",
                "SADD mufajok \"Krimi\" \"Kaland\" \"Horror\"\r\n",
                "\r\n",
                "LPUSH kolcsonzott \"Harry Potter\" \"Dunai hajos\" \"Piszkos Fred a kapitany\"\r\n",
                "\r\n",
                "ZADD kolcsonzottekszama 3 \"Harry Potter\" 6 \"Dunai hajos\" 9 \"Piszkos Fred a kapitany\""
            ],
            "metadata": {
                "azdata_cell_guid": "91911720-74a2-4a93-8571-a2b8bc7f191e",
                "language": "sql"
            },
            "outputs": [],
            "execution_count": null
        },
        {
            "cell_type": "markdown",
            "source": [
                "Cassandra CQL Shellben hozza létre a következő táblát:\n",
                "\n",
                "STUDENT(ID, Nev, Teljesitett\\_felevek, Eredmenyek, Nyelvtudas)\n",
                "\n",
                "- Az ID legyen az elsődleges kulcs\n",
                "- A Teljesitett félévek legyen LIST, tartalma egész számok, pl: 1, 2, 3\n",
                "- Az Eredmenyek legyen MAP, tartalma, hogy melyik félévben mennyi volt az átlag, pl: 1: 3,00, 2: 4.55, 3: 4,10\n",
                "- A Nyelvtudas legyen SET, tartalma a nyelvek megnevezése\n",
                "\n",
                "Vigyen fel legalább 2 rekordot!"
            ],
            "metadata": {
                "azdata_cell_guid": "05a6ab2d-6b5f-4de8-ba58-2c4e5c591dcf"
            },
            "attachments": {}
        },
        {
            "cell_type": "code",
            "source": [
                "create table STUDENT( ID int primary key, Nev text, Teljesitett_felevek LIST<int> ,Eredmenyek map<int,float>, Nyelvtudas set<text>);\r\n",
                "\r\n",
                "insert into student(id, nev, teljesitett_felevek,eredmenyek,nyelvtudas) values (1,'Kiss Bela',[1,2],{1:4.5,2:4.7},{'angol','nemet'});\r\n",
                "\r\n",
                "insert into student(id, nev, teljesitett_felevek,eredmenyek,nyelvtudas) values (2,'Nagy Bela',[1],{1:3.5},{'nemet'});"
            ],
            "metadata": {
                "azdata_cell_guid": "7ab8fb01-4da4-4bfa-99df-8f77f2f71488",
                "language": "sql"
            },
            "outputs": [],
            "execution_count": null
        },
        {
            "cell_type": "markdown",
            "source": [
                "A Neo4j Sandbox-ban vagy a Desktopban jelenítsük meg azon személyeket, akik egy filmben szerepeltek Tom Hanks-sel.\n",
                "\n",
                "- Egy szereplő neve csak egyszer jelenjen meg\n",
                "- Tom Hanks ne legyen benne a listában"
            ],
            "metadata": {
                "azdata_cell_guid": "79d352b5-59c6-45ba-a972-52e961be29ba"
            },
            "attachments": {}
        },
        {
            "cell_type": "code",
            "source": [
                "MATCH (t:Person)-[:ACTED_IN]->(m:Movie)<-[:ACTED_IN]-(p:Person)\r\n",
                "WHERE t.name <> p.name and t.name=\"Tom Hanks\"\r\n",
                "RETURN DISTINCT p.name\r\n",
                ""
            ],
            "metadata": {
                "azdata_cell_guid": "3ac42e51-7e00-451d-93bf-8c967767f39f",
                "language": "sql"
            },
            "outputs": [],
            "execution_count": null
        }
    ]
}